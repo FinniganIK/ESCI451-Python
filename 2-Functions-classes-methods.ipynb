{
 "cells": [
  {
   "cell_type": "markdown",
   "metadata": {},
   "source": [
    "# 2.0: Functions, Classes and Methods\n",
    "\n",
    "<img alt=\"xkcd Is it worth it?\" align=\"right\" style=\"width:40%\" src=https://imgs.xkcd.com/comics/is_it_worth_the_time.png>\n",
    "\n",
    "A wise geophysics technician once told me that the point of functions and classes is to write the language you wish you had. Ideally you could have code that looks like:\n",
    "\n",
    "```python\n",
    "data = read_some_data()\n",
    "processed_data = do_the_mahi(data)\n",
    "paper_draft = make_manuscript(processed_data)\n",
    "nobel_prize = submit_and_review(paper_draft)\n",
    "```\n",
    "\n",
    "It doesn't quite work like that, but functions are there to make your life easier! The main reason they make your life easier boils down to the programming principle of [DRY (Don't Repeat Yourself)](https://en.wikipedia.org/wiki/Don%27t_repeat_yourself).\n",
    "\n",
    "\n",
    "In general you should solve a problem once, solve it well and reuse that solution. Duplication is waste, and solving a problem again introduces more sources of error.  Better still, if someone has solved your problem for you, don't solve it again (unless you think they are wrong). \n",
    "\n",
    "If you do have to solve the problem yourself, you should solve the problem first, and optimise later. A fast but incorrect solution is still wrong (and this is why **tests are important**)."
   ]
  },
  {
   "cell_type": "markdown",
   "metadata": {},
   "source": [
    "## 2.1: Functions in Python\n",
    "\n",
    "Functions allow you to write some code with specified inputs do some work, and get a returned value (or not if you don't want to, remember, we can work in-place on variables). \n",
    "\n",
    "Lets say we want to work out the length of the third side of a right-angled triangle, we could (and should) write a function to do this.  In Python functions are declared with the following syntax:\n",
    "\n",
    "```python\n",
    "def function_name(argument_1, argument_2):\n",
    "    \"\"\" \n",
    "    This function does something. \n",
    "    \n",
    "    Parameters\n",
    "    ----------\n",
    "    argument_1\n",
    "        Some argument\n",
    "    argument_2\n",
    "        Another argument\n",
    "        \n",
    "    Returns\n",
    "    -------\n",
    "    Some value\n",
    "    \"\"\"\n",
    "    output = do_something(argument_1, argument_2)\n",
    "    return output\n",
    "```\n",
    "where `function_name` is a user-defined name for the function, `argument_1` and `argument_2` are values passed to the function and used by the function, `return` is a keyword argument showing that the function is ending and returning the value stored in `output`.  Note again that indentation is important, and that the `def ...` statement must end with a colon (`:`).\n",
    "\n",
    "The names for arguments do not need to be the same as the variables in the rest of your script, those variable names are only active within the scope of the function.  As with variable naming, functions should be named usefully, and their names should not be the same as any other function of variable.\n",
    "\n",
    "The text within the three quotes (`\"\"\" text \"\"\"`) serves to document the purpose of the function, what the arguments are, and what is returned.  It is good practice to document all functions so that you can easily understand what they are doing!\n",
    "\n",
    "Th function below is our attempt at computing the length of the third side of a right-angled triangle:"
   ]
  },
  {
   "cell_type": "code",
   "execution_count": 1,
   "metadata": {},
   "outputs": [],
   "source": [
    "def pythagorus(a, b):\n",
    "    \"\"\"\n",
    "    Compute the length of the third side of a right-angled triangle given two sides\n",
    "    \n",
    "    Parameters\n",
    "    ----------\n",
    "    a\n",
    "        The length of one side\n",
    "    b\n",
    "        The length of the other side\n",
    "        \n",
    "    Returns\n",
    "    -------\n",
    "    The length of the third side\n",
    "    \"\"\"\n",
    "    c = (a ** 2 + b ** 2) ** 0.5\n",
    "    return c"
   ]
  },
  {
   "cell_type": "code",
   "execution_count": 2,
   "metadata": {},
   "outputs": [
    {
     "data": {
      "text/plain": [
       "5.0"
      ]
     },
     "execution_count": 2,
     "metadata": {},
     "output_type": "execute_result"
    }
   ],
   "source": [
    "pythagorus(a=3, b=4)  # A simple pythagorean triple, useful little test-case!"
   ]
  },
  {
   "cell_type": "markdown",
   "metadata": {},
   "source": [
    "## Exercise:\n",
    "\n",
    "Write a function to calculate the mean of a list of values - all the logic is in the previous notebooks."
   ]
  },
  {
   "cell_type": "code",
   "execution_count": 3,
   "metadata": {},
   "outputs": [],
   "source": [
    "# Your answer here"
   ]
  },
  {
   "cell_type": "markdown",
   "metadata": {},
   "source": [
    "## 2.2: Classes\n",
    "\n",
    "Python is an [object-oriented](https://en.wikipedia.org/wiki/Object-oriented_programming) language.  Objects are things that can contain data (properties) alongside functions (methods) that operate on them. Everything in Python is an object, but some are less obvious than others.  Methods on objects are accessed using the following syntax:\n",
    "\n",
    "```python\n",
    "obj.method(arguments, ...)\n",
    "```\n",
    "\n",
    "Properties are accessed without the brackets, e.g.:\n",
    "\n",
    "```python\n",
    "obj.property\n",
    "```\n",
    "\n",
    "We have already seen the `.append` method on lists, similar attributes can be accessed in this way.\n",
    "\n",
    "In Python classes are declared using the following syntax:\n",
    "\n",
    "```python\n",
    "class ClassName():\n",
    "    \"\"\" \n",
    "    Some class.\n",
    "    \n",
    "    Parameters\n",
    "    ----------\n",
    "    arg_1\n",
    "        First value\n",
    "    arg_2\n",
    "        Second value    \n",
    "    \"\"\"\n",
    "    default_property = 42\n",
    "    \n",
    "    def __init__(self, arg_1, arg_2):\n",
    "        self.arg_1 = arg_1\n",
    "        self.arg_2 = arg_2\n",
    "        \n",
    "    def some_method(self, arg_3):\n",
    "        \"\"\"\n",
    "        Do something with the object and another argument.\n",
    "        \n",
    "        Parameters\n",
    "        ----------\n",
    "        arg_3\n",
    "            Some argument\n",
    "            \n",
    "        Returns\n",
    "        -------\n",
    "        Some output\n",
    "        \"\"\"\n",
    "        output = do_something(\n",
    "            self.arg_1, self.arg_2, self.default_property, arg_3)\n",
    "        return output\n",
    "```"
   ]
  },
  {
   "cell_type": "markdown",
   "metadata": {},
   "source": [
    "Lets make a class to hold an observation of strike and dip of a plane.  We should keep track of where the observation was made as well, so we will give it `latitude`, `longitude` and `elevation` attributes:"
   ]
  },
  {
   "cell_type": "code",
   "execution_count": 4,
   "metadata": {},
   "outputs": [],
   "source": [
    "class StrikeDipObservation():\n",
    "    \"\"\"\n",
    "    Holder for Strike and Dip observations.\n",
    "    \n",
    "    Parameters\n",
    "    ----------\n",
    "    strike\n",
    "        Strike of plane in degrees from north\n",
    "    dip\n",
    "        Dip of plane in degrees from horizontal, positive down\n",
    "    latitude\n",
    "        Latitude of observation in degrees\n",
    "    longitude\n",
    "        Longitude of observation in degrees\n",
    "    elevation\n",
    "        Elevation of observation in meters above sea level.\n",
    "    \"\"\"\n",
    "    def __init__(self, strike, dip, latitude, longitude, elevation):\n",
    "        self.strike = strike\n",
    "        self.dip = dip\n",
    "        self.latitude = latitude\n",
    "        self.longitude = longitude\n",
    "        self.elevation = elevation\n",
    "        \n",
    "    def __repr__(self):\n",
    "        # This will make a nicely formatted print-string of out class\n",
    "        return (\n",
    "            f\"StrikeDipObservation(strike={self.strike}, dip={self.dip}, \"\n",
    "            f\"latitude={self.latitude}, longitude={self.longitude}, \"\n",
    "            f\"elevation={self.elevation})\")"
   ]
  },
  {
   "cell_type": "code",
   "execution_count": 5,
   "metadata": {},
   "outputs": [
    {
     "name": "stdout",
     "output_type": "stream",
     "text": [
      "StrikeDipObservation(strike=0, dip=20, latitude=-42.0, longitude=172.3, elevation=1203)\n"
     ]
    }
   ],
   "source": [
    "plane_observation = StrikeDipObservation(0, 20, -42.0, 172.3, 1203)\n",
    "print(plane_observation)"
   ]
  },
  {
   "cell_type": "markdown",
   "metadata": {},
   "source": [
    "This is a nice, but pretty useless class.  Lets add some methods to get the plunge and trend of the pole to the plane, and the unit-vector that describes this pole:"
   ]
  },
  {
   "cell_type": "code",
   "execution_count": 6,
   "metadata": {},
   "outputs": [],
   "source": [
    "# Class copied from above with extra methods!\n",
    "\n",
    "# We need to use some sine and cosine functions, which we can get\n",
    "# from Python's math package.\n",
    "import math\n",
    "\n",
    "class StrikeDipObservation():\n",
    "    \"\"\"\n",
    "    Holder for Strike and Dip observations.\n",
    "    \n",
    "    Parameters\n",
    "    ----------\n",
    "    strike\n",
    "        Strike of plane in degrees from north\n",
    "    dip\n",
    "        Dip of plane in degrees from horizontal, positive down\n",
    "    latitude\n",
    "        Latitude of observation in degrees\n",
    "    longitude\n",
    "        Longitude of observation in degrees\n",
    "    elevation\n",
    "        Elevation of observation in meters above sea level.\n",
    "    \"\"\"\n",
    "    def __init__(self, strike, dip, latitude, longitude, elevation):\n",
    "        self.strike = strike\n",
    "        self.dip = dip\n",
    "        self.latitude = latitude\n",
    "        self.longitude = longitude\n",
    "        self.elevation = elevation\n",
    "        \n",
    "    def __repr__(self):\n",
    "        # This will make a nicely formatted print-string of out class\n",
    "        return (\n",
    "            f\"StrikeDipObservation(strike={self.strike}, dip={self.dip}, \"\n",
    "            f\"latitude={self.latitude}, longitude={self.longitude}, \"\n",
    "            f\"elevation={self.elevation})\")\n",
    "    \n",
    "    def plunge(self):\n",
    "        \"\"\" Get the plunge of the pole to the plane. \"\"\"\n",
    "        return 90.0 - self.dip\n",
    "    \n",
    "    def trend(self):\n",
    "        \"\"\" Get the trend of the pole to the plane. \"\"\"\n",
    "        trend = self.strike - 90.0\n",
    "        # Ensure positive strike\n",
    "        if trend > 0:\n",
    "            return trend\n",
    "        return self.strike + 270.0\n",
    "    \n",
    "    def unit_vector(self):\n",
    "        x = (math.sin(math.radians(self.trend())) * \n",
    "             math.cos(math.radians(self.plunge())))\n",
    "        y = (math.cos(math.radians(self.trend())) *\n",
    "             math.cos(math.radians(self.plunge())))\n",
    "        z = -1 * math.sin(math.radians(self.plunge()))\n",
    "        # Quick check\n",
    "        assert 1 - (math.sqrt(x ** 2 + y ** 2 + z ** 2)) < 0.0000001\n",
    "        return x, y, z"
   ]
  },
  {
   "cell_type": "code",
   "execution_count": 7,
   "metadata": {},
   "outputs": [
    {
     "name": "stdout",
     "output_type": "stream",
     "text": [
      "StrikeDipObservation(strike=0, dip=20, latitude=-42.0, longitude=172.3, elevation=1203)\n"
     ]
    }
   ],
   "source": [
    "plane_observation = StrikeDipObservation(0, 20, -42.0, 172.3, 1203)\n",
    "print(plane_observation)"
   ]
  },
  {
   "cell_type": "code",
   "execution_count": 8,
   "metadata": {},
   "outputs": [
    {
     "data": {
      "text/plain": [
       "70.0"
      ]
     },
     "execution_count": 8,
     "metadata": {},
     "output_type": "execute_result"
    }
   ],
   "source": [
    "plane_observation.plunge()"
   ]
  },
  {
   "cell_type": "code",
   "execution_count": 9,
   "metadata": {},
   "outputs": [
    {
     "data": {
      "text/plain": [
       "270.0"
      ]
     },
     "execution_count": 9,
     "metadata": {},
     "output_type": "execute_result"
    }
   ],
   "source": [
    "plane_observation.trend()"
   ]
  },
  {
   "cell_type": "code",
   "execution_count": 10,
   "metadata": {},
   "outputs": [
    {
     "data": {
      "text/plain": [
       "(-0.3420201433256688, -6.282808106515489e-17, -0.9396926207859083)"
      ]
     },
     "execution_count": 10,
     "metadata": {},
     "output_type": "execute_result"
    }
   ],
   "source": [
    "plane_observation.unit_vector()"
   ]
  },
  {
   "cell_type": "markdown",
   "metadata": {},
   "source": [
    "You will encounter a range of objects if you continue to use Python, so it is important to understand the basic concept that an object can hold both attributes (in our case the values of strike, dip, latitude, longitude and elevation), as well as methods (in our case the plunge, trend and unit_vector methods). You probably won't have to write your own methods for a while, but they can be very useful for various things, not-least in explicitly allowing some actions to your data."
   ]
  },
  {
   "cell_type": "markdown",
   "metadata": {},
   "source": [
    "<img alt=\"Don't Repeat Youself\" align=\"right\" style=\"width:30%\" src=https://deviq.com/wp-content/uploads/DontRepeatYourself-400x400.png>\n",
    "\n",
    "That is it for now on functions and classes - we will write a few functions in the next few notebooks and we will interact with lots of classes (whether explicitly or implicitly). For now it is important that you know they exist, but I always find it easier to learn with some examples.\n",
    "\n",
    "And with that, lets get into some [plotting](3-Basic-plotting.ipynb)!"
   ]
  }
 ],
 "metadata": {
  "kernelspec": {
   "display_name": "Python 3",
   "language": "python",
   "name": "python3"
  },
  "language_info": {
   "codemirror_mode": {
    "name": "ipython",
    "version": 3
   },
   "file_extension": ".py",
   "mimetype": "text/x-python",
   "name": "python",
   "nbconvert_exporter": "python",
   "pygments_lexer": "ipython3",
   "version": "3.7.3"
  }
 },
 "nbformat": 4,
 "nbformat_minor": 4
}
