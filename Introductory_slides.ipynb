{
 "cells": [
  {
   "cell_type": "markdown",
   "metadata": {
    "slideshow": {
     "slide_type": "slide"
    }
   },
   "source": [
    "# Introduction to Python for Earth Scientists\n",
    "\n",
    "<img alt=\"xkcd Compilation\" align=\"right\" style=\"width:50%\" src=\"https://imgs.xkcd.com/comics/compiling.png\">\n",
    "\n",
    "1. About the author;\n",
    "2. Why programming;\n",
    "3. Earth Science data: seismology-bias;\n",
    "4. Why Python."
   ]
  },
  {
   "cell_type": "markdown",
   "metadata": {
    "slideshow": {
     "slide_type": "slide"
    }
   },
   "source": [
    "## About the author\n",
    "\n",
    "<img alt=\"DWARFS fieldwork\" align=\"right\" style=\"width:30%\" src=\"images/Aspiring_view.jpg\">\n",
    "\n",
    "- Dr. Calum J. Chamberlain\n",
    "- Room CO528 (do come find me if you have Python questions)\n",
    "- Postdoctoral Research Fellow at VUW\n",
    "- Completed PhD at VUW in 2016 and haven't left yet..."
   ]
  },
  {
   "cell_type": "markdown",
   "metadata": {
    "slideshow": {
     "slide_type": "slide"
    }
   },
   "source": [
    "### Research interests\n",
    "\n",
    "- Earthquake Physics;\n",
    "- I like thinking about how earthquakes start, stop and interact with other earthquakes and tectonic processes;\n",
    "- Use large datasets of seismic waveforms and earthquake catalogues to tackle these problems;\n",
    "- Python has made my life simpler and my science faster and more reproducible;\n",
    "    - I contribute to [obspy](obspy.org) and lead the [EQcorrscan](https://github.com/eqcorrscan/EQcorrscan) project.\n",
    "    \n",
    "    <img alt=\"EQcorrscan logo\" align=\"center\" style=\"width:50%\" src=\"https://github.com/eqcorrscan/EQcorrscan/blob/master/eqcorrscan/doc/EQcorrscan_logo.png?raw=true\">"
   ]
  },
  {
   "cell_type": "markdown",
   "metadata": {
    "slideshow": {
     "slide_type": "slide"
    }
   },
   "source": [
    "## Why programming (what's wrong with Excel!?)\n",
    "\n",
    "**Reproducibility**,  **Safety**,  **Speed**,  **Complexity**,  **Data scale** \n",
    "    \n",
    "<img alt=\"XKCD spreadsheets\" align=\"center\" style=\"width:80%\" src=\"https://imgs.xkcd.com/comics/spreadsheets.png\">"
   ]
  },
  {
   "cell_type": "markdown",
   "metadata": {
    "slideshow": {
     "slide_type": "slide"
    }
   },
   "source": [
    "## Why programming (what's wrong with Excel!?)\n",
    "\n",
    "- **Reproducibility:** If someone can't replicate your \n",
    "  work, why should we trust it to be true?\n",
    "- **Safety:** Your data and your processing should not\n",
    "  overlap.  Your raw data should be sacred.\n",
    "- **Speed:** You want a result, and you want it yesterday... Learn how to write good code \n",
    "    (and change the clock on your computer) and you can...\n",
    "- **Complexity:** Being able to solve complex problems logically, in a way that others can follow\n",
    "    (and reproduce) is essential to natural sciences. *Hint: Writing good code is as much about the*\n",
    "    *quality of your documentation as it is about the quality of your code*.\n",
    "- **Data scale:** Data in natural sciences is noisy, and large. Ideally to understand the natural world\n",
    "    we would have data from every place at every time throughout the Earth. We don't have that, but\n",
    "    our datasets are growing..."
   ]
  },
  {
   "cell_type": "markdown",
   "metadata": {
    "slideshow": {
     "slide_type": "slide"
    }
   },
   "source": [
    "## Data scale: seismology bias\n",
    "\n",
    "Seismographs deployed for:\n",
    "- long durations (multi-year);\n",
    "- multiple locations;\n",
    "- modest sampling rates.\n",
    "\n",
    "For example: [SAMBA](http://ds.iris.edu/mda/9F/?starttime=2008-01-01T00:00:00&endtime=2020-12-31T23:59:59) is\n",
    "the Southern Alps Microearthquake Borehole Array around Mt. Cook has been recording since 2008.\n",
    "\n",
    "<img alt=\"SAMBA\" align=\"right\" style=\"width:100%\" src=\"images/COVA_pano.jpg\">"
   ]
  },
  {
   "cell_type": "markdown",
   "metadata": {
    "slideshow": {
     "slide_type": "slide"
    }
   },
   "source": [
    "SAMBA records at 200Hz (200 samples per second). How many seconds per day?"
   ]
  },
  {
   "cell_type": "code",
   "execution_count": 1,
   "metadata": {
    "slideshow": {
     "slide_type": "fragment"
    }
   },
   "outputs": [
    {
     "name": "stdout",
     "output_type": "stream",
     "text": [
      "There are 86400 seconds in a day\n"
     ]
    }
   ],
   "source": [
    "seconds_per_day = 60 * 60 * 24\n",
    "print(f\"There are {seconds_per_day} seconds in a day\")"
   ]
  },
  {
   "cell_type": "markdown",
   "metadata": {
    "slideshow": {
     "slide_type": "slide"
    }
   },
   "source": [
    "How many samples per day?"
   ]
  },
  {
   "cell_type": "code",
   "execution_count": 3,
   "metadata": {
    "slideshow": {
     "slide_type": "fragment"
    }
   },
   "outputs": [
    {
     "name": "stdout",
     "output_type": "stream",
     "text": [
      "SAMBA records 17280000.0 samples per day\n"
     ]
    }
   ],
   "source": [
    "sampling_rate = 200.0\n",
    "samples_per_day = seconds_per_day * sampling_rate\n",
    "print(f\"SAMBA records {samples_per_day} samples per day\")"
   ]
  },
  {
   "cell_type": "markdown",
   "metadata": {
    "slideshow": {
     "slide_type": "slide"
    }
   },
   "source": [
    "So, > 17 million samples per day.  But that is just for one channel: SAMBA seismographs\n",
    "have three channels, a vertical and two horizontals, so how many samples per day for one station?"
   ]
  },
  {
   "cell_type": "code",
   "execution_count": 4,
   "metadata": {
    "slideshow": {
     "slide_type": "fragment"
    }
   },
   "outputs": [
    {
     "name": "stdout",
     "output_type": "stream",
     "text": [
      "One station records 51840000.0 samples per day\n"
     ]
    }
   ],
   "source": [
    "number_of_channels = 3\n",
    "samples_per_day_per_station = samples_per_day * number_of_channels\n",
    "print(f\"One station records {samples_per_day_per_station} samples per day\")"
   ]
  },
  {
   "cell_type": "markdown",
   "metadata": {
    "slideshow": {
     "slide_type": "slide"
    }
   },
   "source": [
    "Nearly 52 million samples per day per station. SAMBA is made up of 13 stations, so our dataset gets bigger\n",
    "still:"
   ]
  },
  {
   "cell_type": "code",
   "execution_count": 8,
   "metadata": {
    "slideshow": {
     "slide_type": "fragment"
    }
   },
   "outputs": [
    {
     "name": "stdout",
     "output_type": "stream",
     "text": [
      "SAMBA records 673920000.0 samples per day\n"
     ]
    }
   ],
   "source": [
    "number_of_stations = 13\n",
    "samples_per_day_total = samples_per_day_per_station * number_of_stations\n",
    "print(f\"SAMBA records {samples_per_day_total} samples per day\")"
   ]
  },
  {
   "cell_type": "markdown",
   "metadata": {
    "slideshow": {
     "slide_type": "slide"
    }
   },
   "source": [
    "673 million samples per day across the network. So what is that over the first 10 years of operation?"
   ]
  },
  {
   "cell_type": "code",
   "execution_count": 11,
   "metadata": {
    "slideshow": {
     "slide_type": "fragment"
    }
   },
   "outputs": [
    {
     "name": "stdout",
     "output_type": "stream",
     "text": [
      "SAMBA records 246149280000.0 samples per year.\n",
      "In 10 years of operation SAMBA recorded 2.461493e+12 samples\n"
     ]
    }
   ],
   "source": [
    "days_per_year = 365.25 # Roughly\n",
    "samples_per_year = days_per_year * samples_per_day_total\n",
    "print(f\"SAMBA records {samples_per_year} samples per year.\")\n",
    "samples_per_decade = samples_per_year * 10\n",
    "print(f\"In 10 years of operation SAMBA recorded {samples_per_decade:e} samples\")"
   ]
  },
  {
   "cell_type": "markdown",
   "metadata": {
    "slideshow": {
     "slide_type": "fragment"
    }
   },
   "source": [
    "2 Trillion samples.\n",
    "\n",
    "Try working with that in a spreadsheet..."
   ]
  },
  {
   "cell_type": "markdown",
   "metadata": {
    "slideshow": {
     "slide_type": "slide"
    }
   },
   "source": [
    "## Why Python?\n",
    "\n",
    "Our first notebook covers this a little more, but the key things for me are:\n",
    "\n",
    "1. Open-source, community driven (free) software;\n",
    "2. Simple syntax, fast to make mistakes and helpful error messages;\n",
    "3. Community libraries to do lots of complex tasks \n",
    "   (e.g. [obspy](https://github.com/obspy/obspy/wiki) for seismology)"
   ]
  },
  {
   "cell_type": "markdown",
   "metadata": {
    "slideshow": {
     "slide_type": "slide"
    }
   },
   "source": [
    "# How to use these notebooks:\n",
    "\n",
    "There are a series of Jupyter notebooks on here.  You can run them interactively in your\n",
    "browser.  You should run through them, change some values, see what works, try and play\n",
    "with variables and experiment.  There will be sections that you are expected to fill in\n",
    "marked as **Exercise:**.  Shout out if and when you have problems.\n",
    "\n",
    "Let us know if you want to play around with any other data.\n",
    "\n",
    "Remember that this course is supposed to be a brief look over some of the key ideas in Python\n",
    "and useful libraries, it is not complete!"
   ]
  },
  {
   "cell_type": "markdown",
   "metadata": {
    "slideshow": {
     "slide_type": "slide"
    }
   },
   "source": [
    "# Plan for the day:\n",
    "\n",
    "- 9 - 9.30am: Intro (this);\n",
    "- 9.30 - 10am: Set-up;\n",
    "- 10 - 11am: Do some Python;\n",
    "- 11 - 11.30am: Elevensies (*very important*);\n",
    "- 11.30am - 12.30pm: Do some more Python;\n",
    "- 12.30 - 1.30pm: Lunch;\n",
    "- 1.30 - 3pm: Do even more Python;\n",
    "- 3 - 3.30pm: Afternoon tea;\n",
    "- 3.30 - close: Haven't you had enough Python yet?!"
   ]
  },
  {
   "cell_type": "markdown",
   "metadata": {
    "slideshow": {
     "slide_type": "slide"
    }
   },
   "source": [
    "## Getting set-up:\n",
    "\n",
    "1. Log into your Linux account\n",
    "2. Set-up your conda virtual environment\n",
    "```bash\n",
    "startconda\n",
    "conda activate esci451\n",
    "```\n",
    "    - for those not using a lab computer, skip this and go onto 3 then 3a\n",
    "3. Clone the notebook repository\n",
    "```bash\n",
    "git clone https://github.com/calum-chamberlain/ESCI451-Python.git\n",
    "```\n",
    "    - If you are not using a lab computer you need to follow the install instructions here: https://github.com/calum-chamberlain/ESCI451-Python\n",
    "4. Start Jupyter:\n",
    "```bash\n",
    "cd ESCI451-Python\n",
    "jupyter notebook\n",
    "```"
   ]
  }
 ],
 "metadata": {
  "celltoolbar": "Slideshow",
  "kernelspec": {
   "display_name": "Python 3",
   "language": "python",
   "name": "python3"
  },
  "language_info": {
   "codemirror_mode": {
    "name": "ipython",
    "version": 3
   },
   "file_extension": ".py",
   "mimetype": "text/x-python",
   "name": "python",
   "nbconvert_exporter": "python",
   "pygments_lexer": "ipython3",
   "version": "3.7.6"
  }
 },
 "nbformat": 4,
 "nbformat_minor": 4
}
