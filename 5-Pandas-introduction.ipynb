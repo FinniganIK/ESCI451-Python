{
 "cells": [
  {
   "cell_type": "markdown",
   "metadata": {},
   "source": [
    "Dataset: GeoNet maintained [Moment-tensor catalogue](https://raw.githubusercontent.com/GeoNet/data/master/moment-tensor/GeoNet_CMT_solutions.csv).\n",
    "\n",
    "To cover:\n",
    "1. I/O of xls and csv data, get a file from someone\n",
    "2. Indexing by row and column\n",
    "3. Plotting multi-dimensional data\n",
    "4. Fitting data"
   ]
  },
  {
   "cell_type": "code",
   "execution_count": 2,
   "metadata": {},
   "outputs": [],
   "source": [
    "%matplotlib inline"
   ]
  },
  {
   "cell_type": "code",
   "execution_count": 5,
   "metadata": {},
   "outputs": [],
   "source": [
    "import requests\n",
    "\n",
    "def get_geonet_cmt():\n",
    "    \"\"\" Download GeoNet CMT catalogue and save to the Data directory. \"\"\"\n",
    "    response = requests.get(\n",
    "        \"https://raw.githubusercontent.com/GeoNet/data/master/\"\n",
    "        \"moment-tensor/GeoNet_CMT_solutions.csv\")\n",
    "    with open(\"data/GeoNet_CMT_solutions.csv\", \"wb\") as f:\n",
    "        f.write(response.content)"
   ]
  },
  {
   "cell_type": "code",
   "execution_count": 6,
   "metadata": {},
   "outputs": [],
   "source": [
    "get_geonet_cmt()"
   ]
  },
  {
   "cell_type": "code",
   "execution_count": 7,
   "metadata": {},
   "outputs": [
    {
     "name": "stdout",
     "output_type": "stream",
     "text": [
      "         PublicID            Date  Latitude  Longitude  strike1  dip1  rake1  \\\n",
      "0         2103645  20030821121200  -45.1929   166.8300      213    56     98   \n",
      "1         2169849  20030821141200  -45.3592   166.8152      212    68     98   \n",
      "2         2206498  20030821195600  -45.2900   166.8020      252    53    108   \n",
      "3         2218435  20030822000200  -45.0656   166.9658      232    68    102   \n",
      "4         2254800  20030822152900  -45.1861   166.9908      247    48    100   \n",
      "...           ...             ...       ...        ...      ...   ...    ...   \n",
      "2408  2020p092995  20200204094700  -37.6295   176.5458      190    57     49   \n",
      "2409  2020p118012  20200213155700  -41.6551   174.2750      339    67     29   \n",
      "2410  2020p118387  20200213191600  -41.6959   174.1826      318    83     34   \n",
      "2411  2020p135192  20200220003000  -38.7424   174.0895       31    88   -175   \n",
      "2412  2020p147099  20200224101400  -44.7103   167.4464      175    53     76   \n",
      "\n",
      "      strike2  dip2  rake2  ...  VR         Tva  Tpl  Taz        Nva  Npl  \\\n",
      "0          20    35     79  ...  83  5416627.50   78  149  388026.19    6   \n",
      "1          12    23     72  ...  67   144527.23   66  135  -21321.51    7   \n",
      "2          44    41     67  ...  71     8649.84   74  217    1021.07   14   \n",
      "3          23    25     63  ...  89     6523.77   65  162    1337.04   11   \n",
      "4          52    43     79  ...  77     3391.86   82  222    -179.29    8   \n",
      "...       ...   ...    ...  ...  ..         ...  ...  ...        ...  ...   \n",
      "2408       69    51    136  ...  77    -7328.36   56   43    -263.83   34   \n",
      "2409      237    63    155  ...  68     -191.78   37  200     130.55   53   \n",
      "2410      223    56    172  ...  71       36.13   29  187      14.98   55   \n",
      "2411      300    85     -2  ...  50       25.02    2  165     -18.66   85   \n",
      "2412       18    39    108  ...  87     1787.75   77   37     167.43   11   \n",
      "\n",
      "      Naz         Pva  Ppl  Paz  \n",
      "0      28 -5804654.00   11  298  \n",
      "1      29  -123205.72   23  296  \n",
      "2      60    -9670.91    6  329  \n",
      "3      47    -7860.81   22  313  \n",
      "4      60    -3212.57    3  330  \n",
      "...   ...         ...  ...  ...  \n",
      "2408  215     7592.19    3  308  \n",
      "2409   13       61.23    3  107  \n",
      "2410  328      -51.11   18   86  \n",
      "2411   52       -6.36    5  256  \n",
      "2412  183    -1955.17    7  275  \n",
      "\n",
      "[2413 rows x 32 columns]\n"
     ]
    }
   ],
   "source": [
    "import pandas as pd\n",
    "\n",
    "cmt_solutions = pd.read_csv(\"data/GeoNet_CMT_solutions.csv\")\n",
    "print(cmt_solutions)"
   ]
  },
  {
   "cell_type": "markdown",
   "metadata": {},
   "source": [
    "To do:\n",
    "\n",
    "1. Convert columns to something useful\n",
    "2. Plot magnitude vs time\n",
    "3. Circular plot of strike and dip\n",
    "4. Region selection and replot"
   ]
  },
  {
   "cell_type": "code",
   "execution_count": null,
   "metadata": {},
   "outputs": [],
   "source": []
  }
 ],
 "metadata": {
  "kernelspec": {
   "display_name": "Python 3",
   "language": "python",
   "name": "python3"
  },
  "language_info": {
   "codemirror_mode": {
    "name": "ipython",
    "version": 3
   },
   "file_extension": ".py",
   "mimetype": "text/x-python",
   "name": "python",
   "nbconvert_exporter": "python",
   "pygments_lexer": "ipython3",
   "version": "3.7.3"
  }
 },
 "nbformat": 4,
 "nbformat_minor": 4
}
