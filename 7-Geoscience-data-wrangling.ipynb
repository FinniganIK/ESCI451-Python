{
 "cells": [
  {
   "cell_type": "markdown",
   "metadata": {},
   "source": [
    "Dataset: Finn's fault database\n",
    "\n",
    "Published with an open-access Creative Commons Attribution License, so should be no problems with making it publicly available: https://agupubs.onlinelibrary.wiley.com/doi/full/10.1029/2018GC007947\n",
    "\n",
    "To cover:\n",
    "1. Get some cool database from the internet;\n",
    "2. Read and plot;\n",
    "3. Manipulate those data;\n",
    "4. Replot"
   ]
  },
  {
   "cell_type": "code",
   "execution_count": 2,
   "metadata": {},
   "outputs": [],
   "source": [
    "from geographiclib.geodesic import Geodesic\n",
    "\n",
    "def get_distance_azimuth(lat1, lon1, lat2, lon2):\n",
    "    \"\"\"\n",
    "    Get the distance and azimuth between two points on the Earth\n",
    "    \n",
    "    Parameters\n",
    "    ----------\n",
    "    lat1\n",
    "        Latitude in degrees of point 1\n",
    "    lon1\n",
    "        Longitude in degrees of point 1\n",
    "    lat2\n",
    "        Latitude in degrees of point 2\n",
    "    long2\n",
    "        Longitude in degrees of point 2\n",
    "        \n",
    "    Returns\n",
    "    -------\n",
    "    distance in km\n",
    "    azimuth in degrees clockwise from North\n",
    "    \"\"\"\n",
    "    result = Geodesic(a=a, f=f).Inverse(lat1, lon1, lat2, lon2)\n",
    "    azim = result['azi1']\n",
    "    if azim < 0:\n",
    "        azim += 360\n",
    "    return result['s12'], azim"
   ]
  },
  {
   "cell_type": "code",
   "execution_count": null,
   "metadata": {},
   "outputs": [],
   "source": []
  }
 ],
 "metadata": {
  "kernelspec": {
   "display_name": "Python 3",
   "language": "python",
   "name": "python3"
  },
  "language_info": {
   "codemirror_mode": {
    "name": "ipython",
    "version": 3
   },
   "file_extension": ".py",
   "mimetype": "text/x-python",
   "name": "python",
   "nbconvert_exporter": "python",
   "pygments_lexer": "ipython3",
   "version": "3.7.3"
  }
 },
 "nbformat": 4,
 "nbformat_minor": 4
}
