{
 "cells": [
  {
   "cell_type": "markdown",
   "metadata": {},
   "source": [
    "# 7.0: Some more data.\n",
    "\n",
    "Finn has provided us with some fault observation data from some of his PhD work in Afar.  This work has been published in [Illsley-Kemp et al., 2018](https://agupubs.onlinelibrary.wiley.com/doi/full/10.1029/2018GC007947).\n",
    "One of the cool aspects of this paper is in integrating geological (fault data, with observations made from satellite imagery) with seismological data.  Here we are just going to look at the fault data.\n",
    "\n",
    "To cover:\n",
    "1. Getting azimuths from lat and long\n",
    "2. Plotting circular histograms\n",
    "3. Getting mean, median from circular datasets"
   ]
  },
  {
   "cell_type": "code",
   "execution_count": 1,
   "metadata": {},
   "outputs": [],
   "source": [
    "%matplotlib widget"
   ]
  },
  {
   "cell_type": "markdown",
   "metadata": {},
   "source": [
    "## 7.1: Reading in the data\n",
    "\n",
    "You know the drill - use pandas to read the csv file:"
   ]
  },
  {
   "cell_type": "code",
   "execution_count": 2,
   "metadata": {},
   "outputs": [
    {
     "name": "stdout",
     "output_type": "stream",
     "text": [
      "      Fault ID  Relative Fault Length   StartX   StartY     EndX     EndY  \\\n",
      "0          404               0.023976  40.7928  13.3795  40.7869  13.4021   \n",
      "1          405               0.008062  40.7944  13.3777  40.7985  13.3710   \n",
      "2          406               0.003065  40.7949  13.3788  40.7965  13.3763   \n",
      "3          407               0.007603  40.8025  13.3736  40.7980  13.3795   \n",
      "4          408               0.002570  40.7992  13.3757  40.8006  13.3735   \n",
      "...        ...                    ...      ...      ...      ...      ...   \n",
      "1148      2394               0.001679  40.7322  13.4801  40.7312  13.4815   \n",
      "1149      2395               0.001257  40.7340  13.4756  40.7348  13.4747   \n",
      "1150      2396               0.000753  40.7476  13.4591  40.7480  13.4585   \n",
      "1151      2397               0.001192  40.7477  13.4587  40.7482  13.4576   \n",
      "1152      2398               0.001272  40.7479  13.4580  40.7484  13.4568   \n",
      "\n",
      "          Strike  \n",
      "0     165.848768  \n",
      "1     148.976987  \n",
      "2     148.018224  \n",
      "3     143.222659  \n",
      "4     149.375441  \n",
      "...          ...  \n",
      "1148  145.175295  \n",
      "1149  139.117018  \n",
      "1150  147.005119  \n",
      "1151  156.121445  \n",
      "1152  157.912668  \n",
      "\n",
      "[1153 rows x 7 columns]\n"
     ]
    }
   ],
   "source": [
    "import pandas as pd\n",
    "\n",
    "fault_data = pd.read_csv(\"data/ErtaAleFaultData.csv\")\n",
    "print(fault_data)"
   ]
  },
  {
   "cell_type": "markdown",
   "metadata": {},
   "source": [
    "## 7.2: Calculating fault strike\n",
    "\n",
    "Finn has already provided us with fault strikes in this data.  Lets check that he did it right!\n",
    "\n",
    "We are going to use a really fast library called [`geographiclib`](https://geographiclib.sourceforge.io/1.50/python/) to do this, which handles projecting geographic data into different reference frames.  Its **really handy** for spatial datasets.\n",
    "\n",
    "To start with, we need to define our projection, we are going to assume that Finn measured these points on the [WGS84](https://en.wikipedia.org/wiki/World_Geodetic_System) ellipsoid."
   ]
  },
  {
   "cell_type": "code",
   "execution_count": 3,
   "metadata": {},
   "outputs": [],
   "source": [
    "from geographiclib.geodesic import Geodesic\n",
    "\n",
    "geodesic = Geodesic.WGS84"
   ]
  },
  {
   "cell_type": "markdown",
   "metadata": {},
   "source": [
    "To get the distance and azimuth of the great-circle between two points, we use the `.Inverse` method of the `Geodesic` we just initialised."
   ]
  },
  {
   "cell_type": "code",
   "execution_count": 7,
   "metadata": {},
   "outputs": [
    {
     "name": "stdout",
     "output_type": "stream",
     "text": [
      "{'lat1': -42, 'lon1': 180, 'lat2': -44, 'lon2': 160.0, 'a12': 14.774397005931048, 's12': 1641750.093999188, 'azi1': -104.53812062231566, 'azi2': -90.8214605033783}\n"
     ]
    }
   ],
   "source": [
    "output = geodesic.Inverse(-42, 180, -44, 160)\n",
    "print(output)"
   ]
  },
  {
   "cell_type": "markdown",
   "metadata": {},
   "source": [
    "This gives us a load of output as a `dict`. Remember that we can access items in a dictionary using their *key*,\n",
    "e.g. to get the \"`lat1`\" value we would write `output[\"lat1\"]`.\n",
    "\n",
    "The attributes returned to us are:\n",
    "- lat1 = φ1, latitude of point 1 (degrees)\n",
    "- lon1 = λ1, longitude of point 1 (degrees)\n",
    "- lat2 = φ2, latitude of point 2 (degrees)\n",
    "- lon2 = λ2, longitude of point 2 (degrees)\n",
    "- azi1 = α1, azimuth of line at point 1 (degrees)\n",
    "- azi2 = α2, (forward) azimuth of line at point 2 (degrees)\n",
    "- s12 = s12, distance from 1 to 2 (meters)\n",
    "- a12 = σ12, arc length on auxiliary sphere from 1 to 2 (degrees)\n",
    "\n",
    "The attributes we want are the length of the fault segment and the strike.  These are returned as `\"s12\"` and `\"azi1\"`. `\"azi1\"` could be less than 0 degrees, lets make sure that it stays with 0-360 using the modulo `%` operator and put it all in a function:"
   ]
  },
  {
   "cell_type": "code",
   "execution_count": 8,
   "metadata": {},
   "outputs": [],
   "source": [
    "def get_distance_azimuth(lat1, lon1, lat2, lon2):\n",
    "    \"\"\"\n",
    "    Get the distance and azimuth between two points on the Earth\n",
    "    \n",
    "    Parameters\n",
    "    ----------\n",
    "    lat1\n",
    "        Latitude in degrees of point 1\n",
    "    lon1\n",
    "        Longitude in degrees of point 1\n",
    "    lat2\n",
    "        Latitude in degrees of point 2\n",
    "    long2\n",
    "        Longitude in degrees of point 2\n",
    "        \n",
    "    Returns\n",
    "    -------\n",
    "    distance in m\n",
    "    azimuth in degrees clockwise from North\n",
    "    \"\"\"\n",
    "    result = Geodesic.WGS84.Inverse(lat1, lon1, lat2, lon2)\n",
    "    azim = result['azi1'] % 360\n",
    "    return result['s12'], azim"
   ]
  },
  {
   "cell_type": "markdown",
   "metadata": {},
   "source": [
    "Now lets test that we get something sensible. Lets start with two points on the same meridian.  If we start with a point north of the second point we should get an strike of 180:"
   ]
  },
  {
   "cell_type": "code",
   "execution_count": 10,
   "metadata": {},
   "outputs": [
    {
     "data": {
      "text/plain": [
       "(222185.4901439271, 180.0)"
      ]
     },
     "execution_count": 10,
     "metadata": {},
     "output_type": "execute_result"
    }
   ],
   "source": [
    "get_distance_azimuth(-42, 140, -44, 140)"
   ]
  },
  {
   "cell_type": "markdown",
   "metadata": {},
   "source": [
    "And if we reverse the order we should get a strike of 0:"
   ]
  },
  {
   "cell_type": "code",
   "execution_count": 11,
   "metadata": {},
   "outputs": [
    {
     "data": {
      "text/plain": [
       "(222185.4901439271, 0.0)"
      ]
     },
     "execution_count": 11,
     "metadata": {},
     "output_type": "execute_result"
    }
   ],
   "source": [
    "get_distance_azimuth(-44, 140, -42, 140)"
   ]
  },
  {
   "cell_type": "markdown",
   "metadata": {},
   "source": [
    "Now lets try two points at the same latitude, starting with point one west of point 2, we should get a strike of 90:"
   ]
  },
  {
   "cell_type": "code",
   "execution_count": 12,
   "metadata": {},
   "outputs": [
    {
     "data": {
      "text/plain": [
       "(1653225.6571097176, 96.72911798388331)"
      ]
     },
     "execution_count": 12,
     "metadata": {},
     "output_type": "execute_result"
    }
   ],
   "source": [
    "get_distance_azimuth(-42, 140, -42, 160)"
   ]
  },
  {
   "cell_type": "markdown",
   "metadata": {},
   "source": [
    "That isn't what we expected! The reason is that a line of latitude is a small circle, and we are getting the great-circle distance.  If we do the same but at 0 degrees latitude (the equator), the line of latitude is a great circle and we should get a strike of 90 degrees:"
   ]
  },
  {
   "cell_type": "code",
   "execution_count": 13,
   "metadata": {},
   "outputs": [
    {
     "data": {
      "text/plain": [
       "(2226389.8158654715, 90.0)"
      ]
     },
     "execution_count": 13,
     "metadata": {},
     "output_type": "execute_result"
    }
   ],
   "source": [
    "get_distance_azimuth(0, 140, 0, 160)"
   ]
  },
  {
   "cell_type": "markdown",
   "metadata": {},
   "source": [
    "And if we reverse the order of the points we should get a strike of 270:"
   ]
  },
  {
   "cell_type": "code",
   "execution_count": 14,
   "metadata": {},
   "outputs": [
    {
     "data": {
      "text/plain": [
       "(2226389.8158654715, 270.0)"
      ]
     },
     "execution_count": 14,
     "metadata": {},
     "output_type": "execute_result"
    }
   ],
   "source": [
    "get_distance_azimuth(0, 160, 0, 140)"
   ]
  },
  {
   "cell_type": "markdown",
   "metadata": {},
   "source": [
    "Winner.  This may seem like a silly example (and it is), but you should **always test your codes**. Before you trust code to give you the right result make sure it gives you the right result in as many cases as possible. Writing tests often takes me longer than writing the code, but debugging code without tests is impossible.\n",
    "\n",
    "### Calum's general rule for running code:\n",
    "> If it isn't tested, it is **wrong**.\n",
    "\n",
    "This isn't always true, but statistically... it is pretty close. That isn't to say that well-tested code is correct in every situation, which is why programmers (me included) are constantly adding test-cases for edge-cases that break code."
   ]
  },
  {
   "cell_type": "markdown",
   "metadata": {},
   "source": [
    "Right, now we have a function, lets see if we can use some pandas fu to quickly apply it to our dataframe.  To do this we are going to have to make use of a Python feature known as [lambdas](https://docs.python.org/3/tutorial/controlflow.html#lambda-expressions).  Lambdas are used to create small anonymous functions.  For us they mean that we can give multiple arguments to our function from our columns:"
   ]
  },
  {
   "cell_type": "code",
   "execution_count": 20,
   "metadata": {},
   "outputs": [
    {
     "data": {
      "text/plain": [
       "0        (2580.6981006507976, 345.6637034413693)\n",
       "1         (864.1066924974543, 149.0719370551293)\n",
       "2        (326.39711716686503, 147.9282997784391)\n",
       "3         (814.6539282950362, 323.2498676126684)\n",
       "4         (286.7712136715904, 148.0747150806057)\n",
       "                          ...                   \n",
       "1148     (188.97963057445023, 325.0453104791867)\n",
       "1149    (131.97495630725822, 138.97898118198674)\n",
       "1150     (79.26154625429713, 146.87585655718598)\n",
       "1151      (133.197751808977, 156.01653923690648)\n",
       "1152     (143.37661158004232, 157.8138424661303)\n",
       "Length: 1153, dtype: object"
      ]
     },
     "execution_count": 20,
     "metadata": {},
     "output_type": "execute_result"
    }
   ],
   "source": [
    "fault_data.apply(lambda row: get_distance_azimuth(\n",
    "    row['StartY'], row['StartX'], row['EndY'], row['EndX']), axis=1)"
   ]
  },
  {
   "cell_type": "markdown",
   "metadata": {},
   "source": [
    "That returns a `Series` of `tuple`s, ideally we would unpack those and concatenate them onto our existing fault data.  To do that, we need to convert our `Series` to a `list`, then make a new dataframe from that `list` of `tuple`s:"
   ]
  },
  {
   "cell_type": "code",
   "execution_count": 23,
   "metadata": {},
   "outputs": [
    {
     "name": "stdout",
     "output_type": "stream",
     "text": [
      "      Fault Length (m)  Fault Strike (degrees)\n",
      "0          2580.698101              345.663703\n",
      "1           864.106692              149.071937\n",
      "2           326.397117              147.928300\n",
      "3           814.653928              323.249868\n",
      "4           286.771214              148.074715\n",
      "...                ...                     ...\n",
      "1148        188.979631              325.045310\n",
      "1149        131.974956              138.978981\n",
      "1150         79.261546              146.875857\n",
      "1151        133.197752              156.016539\n",
      "1152        143.376612              157.813842\n",
      "\n",
      "[1153 rows x 2 columns]\n"
     ]
    }
   ],
   "source": [
    "strike_series = fault_data.apply(lambda row: get_distance_azimuth(\n",
    "    row['StartY'], row['StartX'], row['EndY'], row['EndX']), axis=1)\n",
    "strike_df = pd.DataFrame(\n",
    "    strike_series.tolist(), columns=[\"Fault Length (m)\", \"Fault Strike (degrees)\"])\n",
    "print(strike_df)"
   ]
  },
  {
   "cell_type": "markdown",
   "metadata": {},
   "source": [
    "Now we can concatenate that `DataFrame` onto our origin fault `DataFrame`:"
   ]
  },
  {
   "cell_type": "code",
   "execution_count": 26,
   "metadata": {},
   "outputs": [
    {
     "name": "stdout",
     "output_type": "stream",
     "text": [
      "      Fault ID  Relative Fault Length   StartX   StartY     EndX     EndY  \\\n",
      "0          404               0.023976  40.7928  13.3795  40.7869  13.4021   \n",
      "1          405               0.008062  40.7944  13.3777  40.7985  13.3710   \n",
      "2          406               0.003065  40.7949  13.3788  40.7965  13.3763   \n",
      "3          407               0.007603  40.8025  13.3736  40.7980  13.3795   \n",
      "4          408               0.002570  40.7992  13.3757  40.8006  13.3735   \n",
      "...        ...                    ...      ...      ...      ...      ...   \n",
      "1148      2394               0.001679  40.7322  13.4801  40.7312  13.4815   \n",
      "1149      2395               0.001257  40.7340  13.4756  40.7348  13.4747   \n",
      "1150      2396               0.000753  40.7476  13.4591  40.7480  13.4585   \n",
      "1151      2397               0.001192  40.7477  13.4587  40.7482  13.4576   \n",
      "1152      2398               0.001272  40.7479  13.4580  40.7484  13.4568   \n",
      "\n",
      "          Strike  Fault Length (m)  Fault Strike (degrees)  \n",
      "0     165.848768       2580.698101              345.663703  \n",
      "1     148.976987        864.106692              149.071937  \n",
      "2     148.018224        326.397117              147.928300  \n",
      "3     143.222659        814.653928              323.249868  \n",
      "4     149.375441        286.771214              148.074715  \n",
      "...          ...               ...                     ...  \n",
      "1148  145.175295        188.979631              325.045310  \n",
      "1149  139.117018        131.974956              138.978981  \n",
      "1150  147.005119         79.261546              146.875857  \n",
      "1151  156.121445        133.197752              156.016539  \n",
      "1152  157.912668        143.376612              157.813842  \n",
      "\n",
      "[1153 rows x 9 columns]\n"
     ]
    }
   ],
   "source": [
    "fault_data_extended = pd.concat([fault_data, strike_df], axis=1)\n",
    "print(fault_data_extended)"
   ]
  },
  {
   "cell_type": "markdown",
   "metadata": {},
   "source": [
    "We can see that our strikes are similar to Finn's, although some are flipped 180 degrees, which in this instance isn't significant.  Although Finn didn't provide us with the units for `Relative Fault Length` we can see that it definitely isn't in m or km; possibly degrees?\n",
    "\n",
    "Enough checking, lets make some plots."
   ]
  },
  {
   "cell_type": "markdown",
   "metadata": {},
   "source": [
    "## 7.3 Circular histograms\n",
    "\n",
    "You know how this works from the [previous notebook](6-More-plotting.ipynb), so without further ado:"
   ]
  },
  {
   "cell_type": "code",
   "execution_count": 40,
   "metadata": {},
   "outputs": [
    {
     "data": {
      "application/vnd.jupyter.widget-view+json": {
       "model_id": "93bfb2b5e81547f293fad5b8a1251140",
       "version_major": 2,
       "version_minor": 0
      },
      "text/plain": [
       "Canvas(toolbar=Toolbar(toolitems=[('Home', 'Reset original view', 'home', 'home'), ('Back', 'Back to previous …"
      ]
     },
     "metadata": {},
     "output_type": "display_data"
    }
   ],
   "source": [
    "import matplotlib.pyplot as plt\n",
    "import numpy as np\n",
    "\n",
    "fig, ax = plt.subplots(subplot_kw=dict(projection=\"polar\"))\n",
    "ax.hist(np.radians(fault_data_extended[\"Fault Strike (degrees)\"]), bins=90)\n",
    "ax.set_theta_direction(-1)\n",
    "ax.set_theta_offset(np.pi/2.0)\n",
    "plt.show()"
   ]
  },
  {
   "cell_type": "markdown",
   "metadata": {},
   "source": [
    "Lets plot Finn's strikes just to visually check that they are similar:"
   ]
  },
  {
   "cell_type": "code",
   "execution_count": 43,
   "metadata": {},
   "outputs": [
    {
     "data": {
      "application/vnd.jupyter.widget-view+json": {
       "model_id": "c69133189a01447fa7536dce296f6b7e",
       "version_major": 2,
       "version_minor": 0
      },
      "text/plain": [
       "Canvas(toolbar=Toolbar(toolitems=[('Home', 'Reset original view', 'home', 'home'), ('Back', 'Back to previous …"
      ]
     },
     "metadata": {},
     "output_type": "display_data"
    }
   ],
   "source": [
    "fig, ax = plt.subplots(subplot_kw=dict(projection=\"polar\"))\n",
    "ax.hist(np.radians(fault_data_extended[\"Fault Strike (degrees)\"]),\n",
    "        bins=90, color=\"blue\", label=\"Us\")\n",
    "ax.hist(np.radians(fault_data_extended[\"Strike\"]),\n",
    "        bins=90, color=\"orange\", label=\"Finn\")\n",
    "ax.set_theta_direction(-1)\n",
    "ax.set_theta_offset(np.pi/2.0)\n",
    "ax.legend()\n",
    "plt.show()"
   ]
  },
  {
   "cell_type": "markdown",
   "metadata": {},
   "source": [
    "This looks like Finn has fewer observations than us, but we know that isn't true. So what is going on here?\n",
    "\n",
    "We set the number of bins (`bins=90`), but because our calculations range from 0-360, whereas Finn's range 0-180, the bin-width calculated from the range of the data / the number of bins, is smaller for Finn's data than ours.\n",
    "\n",
    "What we can do to fix this is set `bins` as a list of bin edges:"
   ]
  },
  {
   "cell_type": "code",
   "execution_count": 44,
   "metadata": {},
   "outputs": [],
   "source": [
    "bins = np.radians(np.arange(0, 360, 5))"
   ]
  },
  {
   "cell_type": "markdown",
   "metadata": {},
   "source": [
    "This produced a numpy array of bin edges in radians every 5 degrees from 0 to 360 degrees. Lets fix our plot:"
   ]
  },
  {
   "cell_type": "code",
   "execution_count": 46,
   "metadata": {},
   "outputs": [
    {
     "data": {
      "application/vnd.jupyter.widget-view+json": {
       "model_id": "7ea9c81fffd44510a1f7d7baeef287b5",
       "version_major": 2,
       "version_minor": 0
      },
      "text/plain": [
       "Canvas(toolbar=Toolbar(toolitems=[('Home', 'Reset original view', 'home', 'home'), ('Back', 'Back to previous …"
      ]
     },
     "metadata": {},
     "output_type": "display_data"
    }
   ],
   "source": [
    "fig, ax = plt.subplots(subplot_kw=dict(projection=\"polar\"))\n",
    "ax.hist(np.radians(fault_data_extended[\"Strike\"]),\n",
    "        bins=bins, color=\"orange\", label=\"Finn\")\n",
    "ax.hist(np.radians(fault_data_extended[\"Fault Strike (degrees)\"]),\n",
    "        bins=bins, color=\"blue\", label=\"Us\")\n",
    "ax.set_theta_direction(-1)\n",
    "ax.set_theta_offset(np.pi/2.0)\n",
    "ax.legend()\n",
    "plt.show()"
   ]
  },
  {
   "cell_type": "markdown",
   "metadata": {},
   "source": [
    "That makes more sense.  We have fewer observations in the 0-180 range than Finn because they are flipped by 180 degrees."
   ]
  },
  {
   "cell_type": "markdown",
   "metadata": {},
   "source": [
    "## 7.4: Circular statistics\n",
    "\n",
    "We mentioned that statistics for circular (periodic) data are a little odd. Thankfully scipy has our back with a [few useful circular statistical functions](https://scipy.github.io/devdocs/stats.html#circular-statistical-functions).\n",
    "\n",
    "Lets calculate the mean and standard deviation of the strikes, remembering to convert to and from radians:"
   ]
  },
  {
   "cell_type": "code",
   "execution_count": 48,
   "metadata": {},
   "outputs": [
    {
     "name": "stdout",
     "output_type": "stream",
     "text": [
      "The mean of the strikes is 155.47105348293826.  The standard deviation is 16.069104143668483\n"
     ]
    }
   ],
   "source": [
    "from scipy.stats import circmean, circstd\n",
    "\n",
    "mean = circmean(np.radians(fault_data_extended[\"Strike\"]))\n",
    "std = circstd(np.radians(fault_data_extended[\"Strike\"]))\n",
    "\n",
    "mean = np.degrees(mean)\n",
    "std = np.degrees(std)\n",
    "\n",
    "print(f\"The mean of the strikes is {mean}.  The standard deviation is {std}\")"
   ]
  },
  {
   "cell_type": "markdown",
   "metadata": {},
   "source": [
    "In Finn's paper he reports a mean of 157 for Erte-Ale - Finn has provided us with a subset of those data, so it isn't surprising that we are a little off, but still within one standard deviation."
   ]
  },
  {
   "cell_type": "markdown",
   "metadata": {},
   "source": [
    "**Exercise**: Compute the mean and standard deviation for the strikes we calculated. Do they match?"
   ]
  },
  {
   "cell_type": "code",
   "execution_count": 49,
   "metadata": {},
   "outputs": [],
   "source": [
    "# Your answer here"
   ]
  },
  {
   "cell_type": "markdown",
   "metadata": {},
   "source": [
    "**Exercise:** Now consider the New Zealand CMT dataset. Using sections of code from this notebook and the [previous notebook](6-More-plotting.ipynb) compute the mean and standard deviation of the strikes of the moment tensors in two regions:\n",
    "1. In Fiordland, bounded by (165.4,-46.8,169.2,-43.9)\n",
    "2. Surrounding Cook Strait, bounded by (173.4,-42.9,175.8,-40.7)"
   ]
  },
  {
   "cell_type": "code",
   "execution_count": 50,
   "metadata": {},
   "outputs": [],
   "source": [
    "# Your answer here"
   ]
  },
  {
   "cell_type": "markdown",
   "metadata": {},
   "source": [
    "## 7.-1: Summary\n",
    "\n",
    "That is it for now.  Hopefully that has introduced you to at least one useful thing, and started you on your way to [zen](https://www.python.org/dev/peps/pep-0020/).\n",
    "\n",
    "Let me know what you think, either in person, or as an issue on the [github page](https://github.com/calum-chamberlain/ESCI451-Python). Be nice and constructive though!"
   ]
  },
  {
   "cell_type": "markdown",
   "metadata": {},
   "source": [
    "# -1: Some other interesting things\n",
    "\n",
    "- [Stereonet plotting: mplstereonet](https://pypi.org/project/mplstereonet/)\n",
    "- [Map plotting: Cartopy](https://scitools.org.uk/cartopy/docs/latest/)\n",
    "- [Modeling crustal deformation: Pylith](https://geodynamics.org/cig/software/pylith/)\n",
    "- [Handling seismic data in Python: Obspy](https://github.com/obspy/obspy/wiki)\n",
    "- [Quasi-dynamic rate-and-state friction modeling of faults: Qdyn](https://github.com/ydluo/qdyn)\n",
    "- [Clustering and Machine Learning: Sklearn](https://scikit-learn.org/stable/index.html)\n",
    "- [Machine learning: Pytorch](https://pytorch.org/)\n",
    "- ... Many many more useful earth-science Python packages. Search online for what you want and you might be surprised."
   ]
  }
 ],
 "metadata": {
  "kernelspec": {
   "display_name": "Python 3",
   "language": "python",
   "name": "python3"
  },
  "language_info": {
   "codemirror_mode": {
    "name": "ipython",
    "version": 3
   },
   "file_extension": ".py",
   "mimetype": "text/x-python",
   "name": "python",
   "nbconvert_exporter": "python",
   "pygments_lexer": "ipython3",
   "version": "3.7.6"
  }
 },
 "nbformat": 4,
 "nbformat_minor": 4
}
