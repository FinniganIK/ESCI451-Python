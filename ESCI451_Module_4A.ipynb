{
 "cells": [
  {
   "cell_type": "markdown",
   "metadata": {},
   "source": [
    "# Introduction to Python for Earth Scientists\n",
    "\n",
    "These notebooks have been developed by Calum Chamberlain, Finnigan Illsley-Kemp and John Townend at [Victoria University of Wellington---Te Herenga Waka](https://www.wgtn.ac.nz) for use by students entering the postgraduate programme in Earth Science.\n",
    "\n",
    "We presume very little background in command-line or code-based computing, and have compiled this material with an emphasis on general tasks that a grad student might encounter on a daily basis. \n",
    "\n",
    "| Notebook | Contents | Data |\n",
    "| --- | --- | --- |\n",
    "| [1A](ESCI451_Module_1A.ipynb) | Introduction to programming, Python, and Jupyter notebooks | - |\n",
    "| [1B](ESCI451_Module_1B.ipynb) | Basic data types and variables, getting data, and plotting with Matplotlib | Geodetic positions |\n",
    "| [2A](ESCI451_Module_2A.ipynb) | More complex plotting, introduction to Numpy | Geodetic positions; DFDP-2B temperatures |\n",
    "| [2B](ESCI451_Module_2B.ipynb) | Using Pandas to load, peruse and plot data | Earthquake catalogue  |\n",
    "| [3A](ESCI451_Module_3A.ipynb) | Working with Pandas dataframes | Geochemical data set; earthquake catalogue |\n",
    "| [3B](ESCI451_Module_3B.ipynb) | Simple time series analysis using Pandas | TBD |\n",
    "| [**4A**](ESCI451_Module_4A.ipynb) | **Making maps with Cartopy** | **Earthquake catalogue** |\n",
    "| [4B](ESCI451_Module_4B.ipynb) | Working with gridded data | DEMs and Ashfall data |\n",
    "\n",
    "The content may change in response to students' questions or current events. Each of the four modules has been designed to take about three hours, with a short break between each of the two parts."
   ]
  },
  {
   "cell_type": "markdown",
   "metadata": {},
   "source": [
    "<div>\n",
    "    <img src=\"https://scitools.org.uk/cartopy/docs/latest/_static/cartopy.png\"><br>\n",
    "</div>\n",
    "\n",
    "# Mapping with Cartopy\n",
    "\n",
    "Earth Science is, shockingly, about the Earth, and often involves making maps. Thankfully, we don't have to \n",
    "continue to draw maps by hand, and you can even consider putting away your colouring pencils (but keep them \n",
    "close at hand, just in case).\n",
    "\n",
    "There are many tools out there for making maps. For more advanced mapping, and interactive mapping you may\n",
    "want to consider working with GIS (Geographic Information System) tools like [QGIS](https://www.qgis.org/en/site/). \n",
    "We won't cover GIS here, and in fact SGEES has a whole [Masters program dedicated to GIS](https://www.wgtn.ac.nz/explore/postgraduate-programmes/master-of-geographic-information-science/overview), as well as specific courses that you could take, like [GISC420](https://www.wgtn.ac.nz/courses/gisc/420/2021/offering?crn=33043).\n",
    "\n",
    "In this notebook we will cover some basic map-making using the Python package [cartopy](https://scitools.org.uk/cartopy/docs/latest/#).\n",
    "This is the new de-facto mapping package in Python, however it remains under development (as most open-source\n",
    "scientific software does!), so you can expect that some features will continue to be added. For what we show though, it does the job well. However it is lacking some key things - like being able to plot topography simply, so we will skip that. The old standard mapping project that is still going strong it [GMT](https://www.generic-mapping-tools.org/), which is fully-featured, but until [pyGMT](https://github.com/GenericMappingTools/pygmt) is developed, requires you to learn shell-programming, which we aren't going to teach you this year.\n",
    "\n",
    "In this notebook we will cover:\n",
    "1. Basic map making;\n",
    "2. Changing map projections;\n",
    "3. Adding labels and map adornments (grids, north arrow, scale);\n",
    "4. Plotting some geospatial data.\n",
    "\n",
    "We will then advance on to making some more advanced maps with some fun datasets."
   ]
  },
  {
   "cell_type": "markdown",
   "metadata": {},
   "source": [
    "---\n",
    "\n",
    "## Basic Map Making\n",
    "\n",
    "To start off we will make a map of the world with coastlines. You should be familiar with using matplotlib by now,\n",
    "so a lot of the starting code will be familiar to you.\n",
    "\n",
    "First we will initialize the matplotlib notebook plotting widget:"
   ]
  },
  {
   "cell_type": "code",
   "execution_count": 1,
   "metadata": {},
   "outputs": [],
   "source": [
    "%matplotlib widget"
   ]
  },
  {
   "cell_type": "markdown",
   "metadata": {},
   "source": [
    "Then we can import the packages we need:"
   ]
  },
  {
   "cell_type": "code",
   "execution_count": 2,
   "metadata": {},
   "outputs": [],
   "source": [
    "import matplotlib.pyplot as plt\n",
    "import cartopy.crs as ccrs   # This is the Cartopy Co-ordinate Reference System that handles projections"
   ]
  },
  {
   "cell_type": "markdown",
   "metadata": {},
   "source": [
    "Now we can make a new figure and axis using similar syntax to before, but we will specify the projection. \n",
    "To make this more obvious, we will break figure and axis creation call down into two steps. We could do this\n",
    "in one go, but the call looks like:\n",
    "```python\n",
    "fig, ax = plt.subplots(subplot_kw=dict(projection=ccrs.PlateCarree()))\n",
    "```\n",
    "which I think is pretty ugly.\n",
    "\n",
    "it is totally up to you which form you use, but I think this was is a little clearer."
   ]
  },
  {
   "cell_type": "code",
   "execution_count": 3,
   "metadata": {},
   "outputs": [
    {
     "data": {
      "application/vnd.jupyter.widget-view+json": {
       "model_id": "7e66cebc36534f1e98709a02320a8923",
       "version_major": 2,
       "version_minor": 0
      },
      "text/plain": [
       "Canvas(toolbar=Toolbar(toolitems=[('Home', 'Reset original view', 'home', 'home'), ('Back', 'Back to previous …"
      ]
     },
     "metadata": {},
     "output_type": "display_data"
    }
   ],
   "source": [
    "fig = plt.figure()\n",
    "ax = fig.add_subplot(projection=ccrs.PlateCarree())"
   ]
  },
  {
   "cell_type": "markdown",
   "metadata": {},
   "source": [
    "This just looks like a blank figure... And it is, all that we have done is make a new `Axes` object with\n",
    "a particular projection.  If you are interested you can check out some of the other projections that matplotlib\n",
    "supports natively [here](https://matplotlib.org/3.3.3/gallery/index.html#pie-and-polar-charts). \n",
    "You can even plot stereonets using [mplstereonet](https://mplstereonet.readthedocs.io/en/latest/index.html)!\n",
    "\n",
    "The [PlateCarree](https://scitools.org.uk/cartopy/docs/latest/crs/projections.html#platecarree) projection is a \n",
    "standard [equirectangular projection](https://en.wikipedia.org/wiki/Equirectangular_projection), and is often\n",
    "how latitude and longitude are defined. It doesn't look great though, lets plot the coastline to show that.\n",
    "\n",
    "To add the coastline we just make a single, simple call (we create a new figure and axes everytime to get it\n",
    "to show in the notebook):"
   ]
  },
  {
   "cell_type": "code",
   "execution_count": 4,
   "metadata": {},
   "outputs": [
    {
     "data": {
      "application/vnd.jupyter.widget-view+json": {
       "model_id": "1371717a47ae4eab842c80eac5f33e95",
       "version_major": 2,
       "version_minor": 0
      },
      "text/plain": [
       "Canvas(toolbar=Toolbar(toolitems=[('Home', 'Reset original view', 'home', 'home'), ('Back', 'Back to previous …"
      ]
     },
     "metadata": {},
     "output_type": "display_data"
    }
   ],
   "source": [
    "fig = plt.figure()\n",
    "ax = fig.add_subplot(projection=ccrs.PlateCarree())\n",
    "\n",
    "# Add the coastlines!\n",
    "_ = ax.coastlines()"
   ]
  },
  {
   "cell_type": "markdown",
   "metadata": {},
   "source": [
    "Yay! We made a map, phew, job done, hometime?\n",
    "\n",
    "Not so fast. We can make much better maps than this! NZ is a little small in this global map, lets make a local map focused on us.\n",
    "\n",
    "To make a local map we have to set the extent of the map by setting the minimum latitude and longitude and maximum latitude and longitude using the [`set_extent` method](https://scitools.org.uk/cartopy/docs/v0.15/matplotlib/geoaxes.html#cartopy.mpl.geoaxes.GeoAxes.set_extent):"
   ]
  },
  {
   "cell_type": "code",
   "execution_count": 5,
   "metadata": {},
   "outputs": [
    {
     "data": {
      "application/vnd.jupyter.widget-view+json": {
       "model_id": "240cd445902f49f980576a19ff5689b4",
       "version_major": 2,
       "version_minor": 0
      },
      "text/plain": [
       "Canvas(toolbar=Toolbar(toolitems=[('Home', 'Reset original view', 'home', 'home'), ('Back', 'Back to previous …"
      ]
     },
     "metadata": {},
     "output_type": "display_data"
    }
   ],
   "source": [
    "fig = plt.figure()\n",
    "ax = fig.add_subplot(projection=ccrs.PlateCarree())\n",
    "\n",
    "# Set the extend before calling coastlines to avoid drawing the whole world!\n",
    "ax.set_extent((165, 179, -47.5, -34.3), crs=ccrs.PlateCarree())  # We have to tell it what coordinate system our extent is in.\n",
    "\n",
    "# Add the coastlines to show where we are\n",
    "_ = ax.coastlines()"
   ]
  },
  {
   "cell_type": "markdown",
   "metadata": {},
   "source": [
    "---\n",
    "## Projections\n",
    "\n",
    "That looks a little squashed to me. This \"squashing\" is an artefact of the projection we are using.\n",
    "\n",
    "Lets try using a different projection that might be a little more suitable. [Mercator](https://scitools.org.uk/cartopy/docs/latest/crs/projections.html#mercator) is a common\n",
    "projection to use, but it has its own problems too. Lets see how our map looks in a Mercator projection."
   ]
  },
  {
   "cell_type": "code",
   "execution_count": 6,
   "metadata": {},
   "outputs": [
    {
     "data": {
      "application/vnd.jupyter.widget-view+json": {
       "model_id": "fecb9339d3cb4121b841726b791c5e63",
       "version_major": 2,
       "version_minor": 0
      },
      "text/plain": [
       "Canvas(toolbar=Toolbar(toolitems=[('Home', 'Reset original view', 'home', 'home'), ('Back', 'Back to previous …"
      ]
     },
     "metadata": {},
     "output_type": "display_data"
    }
   ],
   "source": [
    "fig = plt.figure()\n",
    "ax = fig.add_subplot(projection=ccrs.Mercator())\n",
    "\n",
    "# We are still setting the extent in PlateCarree\n",
    "ax.set_extent((165, 179, -47.5, -34.3), crs=ccrs.PlateCarree())\n",
    "\n",
    "# Add the coastlines to show where we are\n",
    "_ = ax.coastlines()"
   ]
  },
  {
   "cell_type": "markdown",
   "metadata": {},
   "source": [
    "That looks a lot more reasonable.\n",
    "\n",
    "Now it is your turn - try making a map of NZ using the [Albers Equal Area projection](https://scitools.org.uk/cartopy/docs/latest/crs/projections.html#albersequalarea). \n",
    "\n",
    "If you go to the link above you will see that you can change some options - try changing the `central_longitude` to 170 and the `standard_parallels` to `(-30, -50)` see how that changes your figure. The defaults are designed for plotting the contiguous USA, so they need to be changed to suit NZ!"
   ]
  },
  {
   "cell_type": "code",
   "execution_count": 7,
   "metadata": {},
   "outputs": [],
   "source": [
    "# Your answer here!"
   ]
  },
  {
   "cell_type": "markdown",
   "metadata": {},
   "source": [
    "Feel free to play around with other projections - there is a lot of information out there about map projections (including [this wikipedia page](https://en.wikipedia.org/wiki/Map_projection) and [this page on LINZ](https://www.linz.govt.nz/data/geodetic-system/datums-projections-and-heights/understanding-datums-projections/using-maps)), but the main thing for our mapping purposes is that you should chose a projection that minimises distortions across the map. \n",
    "\n",
    "Ideally for local maps a set distance would end up as the same length on our map no matter where on our map or what orientation we measure. For us in New Zealand the [NZTM (New Zealand Transverse Mercator)](https://www.linz.govt.nz/data/geodetic-system/datums-projections-and-heights/projections/new-zealand-transverse-mercator-2000) is probably the most useful projection. We can define this projection using the values from LINZ and use it for the rest of our maps:"
   ]
  },
  {
   "cell_type": "code",
   "execution_count": 8,
   "metadata": {},
   "outputs": [
    {
     "data": {
      "application/vnd.jupyter.widget-view+json": {
       "model_id": "29d260a45c44420eb187fe66866d48a2",
       "version_major": 2,
       "version_minor": 0
      },
      "text/plain": [
       "Canvas(toolbar=Toolbar(toolitems=[('Home', 'Reset original view', 'home', 'home'), ('Back', 'Back to previous …"
      ]
     },
     "metadata": {},
     "output_type": "display_data"
    }
   ],
   "source": [
    "globe = ccrs.Globe(semimajor_axis=6378137, inverse_flattening=298.257222101)\n",
    "NZTM = ccrs.TransverseMercator(\n",
    "    central_longitude=173.0, central_latitude=0.0,\n",
    "    false_easting=1600000, false_northing=10000000,\n",
    "    scale_factor=0.9996, globe=globe, approx=False)\n",
    "\n",
    "fig = plt.figure()\n",
    "ax = fig.add_subplot(projection=NZTM)\n",
    "\n",
    "# We are still setting the extent in PlateCarree\n",
    "ax.set_extent((165, 179, -47.5, -34.3), crs=ccrs.PlateCarree())\n",
    "\n",
    "# Add the coastlines to show where we are\n",
    "_ = ax.coastlines()"
   ]
  },
  {
   "cell_type": "markdown",
   "metadata": {},
   "source": [
    "Now that you know about projections, try making a map in NZTM projection focused on Fiordland. I don't think Slartibartfast created these Fiords, but they are certaintly pretty cool.\n",
    "\n",
    "You might find that your Fiords don't look as intricate as you might expect. This is because we are plotting a fairly low resolution version of the coastline dataset. Check out the [coastline documentation](https://scitools.org.uk/cartopy/docs/v0.15/matplotlib/geoaxes.html#cartopy.mpl.geoaxes.GeoAxes.coastlines) and try changing your call to `ax.coastlines()` to `ax.coastlines(resolution=\"10m\")` to get higher-resolution coasts. You can change the colour too if you want!"
   ]
  },
  {
   "cell_type": "code",
   "execution_count": 9,
   "metadata": {},
   "outputs": [],
   "source": [
    "# Your map of Fiordland here"
   ]
  },
  {
   "cell_type": "markdown",
   "metadata": {},
   "source": [
    "### Adding colour\n",
    "\n",
    "Black and white line maps are a bit dull - lets add some colour. To be able to fill in the land one colour and the oceans another we need to know which is which. Thankfully Cartopy has an interface for this called the [Feature interface](https://scitools.org.uk/cartopy/docs/v0.14/matplotlib/feature_interface.html). Cartopy has two data sources baked in: Natural Earth and GSHHS - the GSHHS coastlines offer greater accuracy for NZ so we will use them.\n",
    "\n",
    "To use the Feature interface we need to load the relevent module:"
   ]
  },
  {
   "cell_type": "code",
   "execution_count": 10,
   "metadata": {},
   "outputs": [],
   "source": [
    "import cartopy.feature as cfeature"
   ]
  },
  {
   "cell_type": "markdown",
   "metadata": {},
   "source": [
    "Lets start by making a map and setting the background colour to blue (for oceans) and adding the land on top filled in green (this might take a while to load the first time - the coastlines are much higher resolution now):"
   ]
  },
  {
   "cell_type": "code",
   "execution_count": 11,
   "metadata": {},
   "outputs": [
    {
     "data": {
      "application/vnd.jupyter.widget-view+json": {
       "model_id": "db69eaa9a0274edd93b3ce0654b20bdb",
       "version_major": 2,
       "version_minor": 0
      },
      "text/plain": [
       "Canvas(toolbar=Toolbar(toolitems=[('Home', 'Reset original view', 'home', 'home'), ('Back', 'Back to previous …"
      ]
     },
     "metadata": {},
     "output_type": "display_data"
    }
   ],
   "source": [
    "fig = plt.figure()\n",
    "ax = fig.add_subplot(projection=NZTM)\n",
    "\n",
    "# We are still setting the extent in PlateCarree\n",
    "ax.set_extent((165, 179, -47.5, -34.3), crs=ccrs.PlateCarree())\n",
    "\n",
    "ax.set_facecolor(\"blue\")  # This is a standard matplotlib call to set the background colour of a plot.\n",
    "\n",
    "# We first make a new object (shape) that is the coastline, we can set the scale to\n",
    "# \"l\", \"i\", \"h\" or \"f\" for low, intermediate, high and full respectively. Higher resolutions take longer to plot!\n",
    "coast = cfeature.GSHHSFeature(\n",
    "    scale=\"h\", levels=[1], facecolor=\"green\", edgecolor=\"black\")\n",
    "# Finally we add the feature to out map\n",
    "_ = ax.add_feature(coast)"
   ]
  },
  {
   "cell_type": "markdown",
   "metadata": {},
   "source": [
    "On my screen those colours are quite painful! Try changing the colours in the above code and re-running. Check out the [matplotlib colours page](https://matplotlib.org/3.1.0/gallery/color/named_colors.html) for a table of named colours that you could try for `ax.set_facecolor` and `facecolor` in the `cfeature.GSHHSfeature` call."
   ]
  },
  {
   "cell_type": "markdown",
   "metadata": {},
   "source": [
    "---\n",
    "## Adding information to our maps\n",
    "\n",
    "All good maps should have a scale-bar, north arrow and some axis labels. While axis labels are nice and easy with Caropy, Cartopy currently lacks an in-built way to add a scale bar or north arrow (gah!). I have written some code for this and provided it in the helpers module.  If you go on with making maps with Cartopy later in the course **remember that you need to get the code from the helpers folder.**\n",
    "\n",
    "### Adding Gridlines\n",
    "\n",
    "Lets start off simply with a map focused on Cook Strait and putting some grid-labels on it - we use the `ax.gridlines` call, which has a few arguments that you can see in the [gridlines docs](https://scitools.org.uk/cartopy/docs/latest/matplotlib/geoaxes.html#cartopy.mpl.geoaxes.GeoAxes.gridlines):"
   ]
  },
  {
   "cell_type": "code",
   "execution_count": 12,
   "metadata": {},
   "outputs": [
    {
     "data": {
      "application/vnd.jupyter.widget-view+json": {
       "model_id": "22185f5ea93949d6b1933c6e81e76a48",
       "version_major": 2,
       "version_minor": 0
      },
      "text/plain": [
       "Canvas(toolbar=Toolbar(toolitems=[('Home', 'Reset original view', 'home', 'home'), ('Back', 'Back to previous …"
      ]
     },
     "metadata": {},
     "output_type": "display_data"
    }
   ],
   "source": [
    "fig = plt.figure()\n",
    "ax = fig.add_subplot(projection=NZTM)\n",
    "ax.set_extent((173.8, 175.7, -42.0, -40.7), crs=ccrs.PlateCarree())\n",
    "ax.set_facecolor(\"lightskyblue\")\n",
    "coast = cfeature.GSHHSFeature(\n",
    "    scale=\"h\", levels=[1], facecolor=\"yellowgreen\", edgecolor=\"black\")\n",
    "ax.add_feature(coast)\n",
    "\n",
    "# Add the gridlines and labels\n",
    "_ = ax.gridlines(draw_labels=True)"
   ]
  },
  {
   "cell_type": "markdown",
   "metadata": {},
   "source": [
    "That fairly nicely shows that the NZTM projection is slightly rotated relative to the PlateCarree projection here. You'll also see that the longitude labels are slightly oddly positioned. This is done automatically to avoid labels overlapping. We can control which lines are drawn by setting `ylocs` or `xlocs` for the `ax.gridlines` call:"
   ]
  },
  {
   "cell_type": "code",
   "execution_count": 13,
   "metadata": {},
   "outputs": [
    {
     "data": {
      "application/vnd.jupyter.widget-view+json": {
       "model_id": "39695dc4430d4ed19042e415e5bfecd8",
       "version_major": 2,
       "version_minor": 0
      },
      "text/plain": [
       "Canvas(toolbar=Toolbar(toolitems=[('Home', 'Reset original view', 'home', 'home'), ('Back', 'Back to previous …"
      ]
     },
     "metadata": {},
     "output_type": "display_data"
    }
   ],
   "source": [
    "fig = plt.figure()\n",
    "ax = fig.add_subplot(projection=NZTM)\n",
    "ax.set_extent((173.8, 175.7, -42.0, -40.7), crs=ccrs.PlateCarree())\n",
    "ax.set_facecolor(\"lightskyblue\")\n",
    "coast = cfeature.GSHHSFeature(\n",
    "    scale=\"h\", levels=[1], facecolor=\"yellowgreen\", edgecolor=\"black\")\n",
    "ax.add_feature(coast)\n",
    "\n",
    "# Add the gridlines and labels, specifying that we only want labels every half a degree\n",
    "_ = ax.gridlines(\n",
    "    draw_labels=True, \n",
    "    xlocs=[174, 174.5, 175, 175.5], \n",
    "    ylocs=[-42, -41.5, -41])"
   ]
  },
  {
   "cell_type": "markdown",
   "metadata": {},
   "source": [
    "Make your own map of Fiordland with ticks every .5 degrees in longitude and .25 degree in latitude."
   ]
  },
  {
   "cell_type": "code",
   "execution_count": 14,
   "metadata": {},
   "outputs": [],
   "source": [
    "# Your map here!"
   ]
  },
  {
   "cell_type": "markdown",
   "metadata": {},
   "source": [
    "### Adding a north arrow and scale bar\n",
    "\n",
    "To do this we need to use some custom code. You don't need to know how this code works, but you will need it if you make makes outside of this notebook and want a scale bar and north arrow!  The code is located in `helpers/map_annotations.py`. We can import from there so we don't need to re-write the code."
   ]
  },
  {
   "cell_type": "code",
   "execution_count": 15,
   "metadata": {},
   "outputs": [],
   "source": [
    "from helpers.map_annotations import north_arrow, scale_bar"
   ]
  },
  {
   "cell_type": "code",
   "execution_count": 16,
   "metadata": {},
   "outputs": [
    {
     "data": {
      "application/vnd.jupyter.widget-view+json": {
       "model_id": "14638227167d4afaa1f95df075cc98a5",
       "version_major": 2,
       "version_minor": 0
      },
      "text/plain": [
       "Canvas(toolbar=Toolbar(toolitems=[('Home', 'Reset original view', 'home', 'home'), ('Back', 'Back to previous …"
      ]
     },
     "metadata": {},
     "output_type": "display_data"
    }
   ],
   "source": [
    "fig = plt.figure()\n",
    "ax = fig.add_subplot(projection=NZTM)\n",
    "ax.set_extent((173.8, 175.7, -42.0, -40.7), crs=ccrs.PlateCarree())\n",
    "ax.set_facecolor(\"lightskyblue\")\n",
    "coast = cfeature.GSHHSFeature(\n",
    "    scale=\"h\", levels=[1], facecolor=\"yellowgreen\", edgecolor=\"black\")\n",
    "ax.add_feature(coast)\n",
    "ax.gridlines(\n",
    "    draw_labels=True, \n",
    "    xlocs=[174, 174.5, 175, 175.5], \n",
    "    ylocs=[-42, -41.5, -41])\n",
    "\n",
    "# Make a North arrow starting from x and y, and of length arrow_length - we have \n",
    "# to tell it what coordinate reference system these coordinates are in!\n",
    "_ = north_arrow(ax, x=174, y=-41.9, arrow_length=.2, transform=ccrs.PlateCarree())"
   ]
  },
  {
   "cell_type": "markdown",
   "metadata": {},
   "source": [
    "Now we have our north arrow, lets add a scale bar as well:"
   ]
  },
  {
   "cell_type": "code",
   "execution_count": 17,
   "metadata": {},
   "outputs": [
    {
     "data": {
      "application/vnd.jupyter.widget-view+json": {
       "model_id": "fd54cb4fbf8645e795e7aab3902d7c03",
       "version_major": 2,
       "version_minor": 0
      },
      "text/plain": [
       "Canvas(toolbar=Toolbar(toolitems=[('Home', 'Reset original view', 'home', 'home'), ('Back', 'Back to previous …"
      ]
     },
     "metadata": {},
     "output_type": "display_data"
    }
   ],
   "source": [
    "fig = plt.figure()\n",
    "ax = fig.add_subplot(projection=NZTM)\n",
    "ax.set_extent((173.8, 175.7, -42.0, -40.7), crs=ccrs.PlateCarree())\n",
    "ax.set_facecolor(\"lightskyblue\")\n",
    "coast = cfeature.GSHHSFeature(\n",
    "    scale=\"h\", levels=[1], facecolor=\"yellowgreen\", edgecolor=\"black\")\n",
    "ax.add_feature(coast)\n",
    "ax.gridlines(\n",
    "    draw_labels=True, \n",
    "    xlocs=[174, 174.5, 175, 175.5], \n",
    "    ylocs=[-42, -41.5, -41])\n",
    "north_arrow(ax, x=174, y=-41.9, arrow_length=.2, transform=ccrs.PlateCarree())\n",
    "\n",
    "# We have to provide a position in axes co-ordinates (from 0 to 1) and length in km.\n",
    "_ = scale_bar(ax, location=(0.3, 0.03), length=50)"
   ]
  },
  {
   "cell_type": "markdown",
   "metadata": {},
   "source": [
    "Now it is your turn again, add a scale bar and north arrow to your Fiordland map!"
   ]
  },
  {
   "cell_type": "code",
   "execution_count": 18,
   "metadata": {},
   "outputs": [],
   "source": [
    "# Your map here."
   ]
  },
  {
   "cell_type": "markdown",
   "metadata": {},
   "source": [
    "---\n",
    "## Plotting data\n",
    "\n",
    "Yay, we can make simple maps, now lets plot some data!\n",
    "\n",
    "I'm going to grab an earthquake catalogue from GeoNet and play with that - we will use the same downloading tool we used before to get the csv. I have added this into the `helpers/get_data.py` file, so we can import it here without having to re-write the function:"
   ]
  },
  {
   "cell_type": "code",
   "execution_count": 19,
   "metadata": {},
   "outputs": [],
   "source": [
    "from helpers.get_data import get_geonet_quakes\n",
    "# We also need to import datetime to specify start and end times for the download\n",
    "import datetime"
   ]
  },
  {
   "cell_type": "code",
   "execution_count": 20,
   "metadata": {},
   "outputs": [
    {
     "name": "stdout",
     "output_type": "stream",
     "text": [
      "Using query: https://quakesearch.geonet.org.nz/csv?bbox=173.7,-42.1,175.8,-40.6&minmag=0.0&maxmag=9.0&mindepth=0.0&maxdepth=500.0&startdate=2010-01-01T00:00:00&enddate=2021-02-28T00:00:00\n",
      "You downloaded 38132 events\n"
     ]
    }
   ],
   "source": [
    "earthquakes = get_geonet_quakes(\n",
    "    min_latitude=-42.1, max_latitude=-40.6, min_longitude=173.7, max_longitude=175.8,\n",
    "    start_time=datetime.datetime(2010, 1, 1), end_time=datetime.datetime(2021, 2, 28))\n",
    "print(f\"You downloaded {len(earthquakes)} events\")"
   ]
  },
  {
   "cell_type": "markdown",
   "metadata": {},
   "source": [
    "To plot those we use standard matplotlib syntax, but we do have to specify the co-ordinate system that the data are in. Again, these will be in latitude and longitude, so PlateCarree:"
   ]
  },
  {
   "cell_type": "code",
   "execution_count": 21,
   "metadata": {},
   "outputs": [
    {
     "data": {
      "application/vnd.jupyter.widget-view+json": {
       "model_id": "4cc2753dcd7a49dbb95e66026ea75171",
       "version_major": 2,
       "version_minor": 0
      },
      "text/plain": [
       "Canvas(toolbar=Toolbar(toolitems=[('Home', 'Reset original view', 'home', 'home'), ('Back', 'Back to previous …"
      ]
     },
     "metadata": {},
     "output_type": "display_data"
    }
   ],
   "source": [
    "fig = plt.figure()\n",
    "ax = fig.add_subplot(projection=NZTM)\n",
    "ax.set_extent((173.8, 175.7, -42.0, -40.7), crs=ccrs.PlateCarree())\n",
    "ax.set_facecolor(\"lightskyblue\")\n",
    "coast = cfeature.GSHHSFeature(\n",
    "    scale=\"h\", levels=[1], facecolor=\"yellowgreen\", edgecolor=\"black\")\n",
    "ax.add_feature(coast)\n",
    "ax.gridlines(\n",
    "    draw_labels=True, \n",
    "    xlocs=[174, 174.5, 175, 175.5], \n",
    "    ylocs=[-42, -41.5, -41])\n",
    "north_arrow(ax, x=174, y=-41.9, arrow_length=.2, transform=ccrs.PlateCarree())\n",
    "scale_bar(ax, location=(0.3, 0.03), length=50)\n",
    "\n",
    "# A simple call to the scatter method will work here - we just have to add the transform.\n",
    "_ = ax.scatter(earthquakes.longitude, earthquakes.latitude, transform=ccrs.PlateCarree())"
   ]
  },
  {
   "cell_type": "markdown",
   "metadata": {},
   "source": [
    "When I run this, I get a lot of blue dots, all overlapping, and the land covers them up! That isn't much good!\n",
    "\n",
    "The main issues here are:\n",
    "1. The land is plotted \"on-top of\" the scatter - we want our data on top!\n",
    "2. There are so many dots we can't see the dots for the dots!\n",
    "\n",
    "We can solves those by:\n",
    "1. Changing the `zorder` - this controls the order that objects are rendered in the plot, if we increase the zorder it will bring things to the top\n",
    "2. We can change the styling of the dots - we will actually scale them by magnitude so the small magnitude earthquakes plot very small"
   ]
  },
  {
   "cell_type": "code",
   "execution_count": 22,
   "metadata": {},
   "outputs": [
    {
     "data": {
      "application/vnd.jupyter.widget-view+json": {
       "model_id": "ed27a0c9259845d4ba434a633fc8170f",
       "version_major": 2,
       "version_minor": 0
      },
      "text/plain": [
       "Canvas(toolbar=Toolbar(toolitems=[('Home', 'Reset original view', 'home', 'home'), ('Back', 'Back to previous …"
      ]
     },
     "metadata": {},
     "output_type": "display_data"
    }
   ],
   "source": [
    "fig = plt.figure()\n",
    "ax = fig.add_subplot(projection=NZTM)\n",
    "ax.set_extent((173.8, 175.7, -42.0, -40.7), crs=ccrs.PlateCarree())\n",
    "ax.set_facecolor(\"lightskyblue\")\n",
    "coast = cfeature.GSHHSFeature(\n",
    "    scale=\"h\", levels=[1], facecolor=\"yellowgreen\", edgecolor=\"black\")\n",
    "ax.add_feature(coast)\n",
    "ax.gridlines(\n",
    "    draw_labels=True, \n",
    "    xlocs=[174, 174.5, 175, 175.5], \n",
    "    ylocs=[-42, -41.5, -41])\n",
    "north_arrow(ax, x=174, y=-41.9, arrow_length=.2, transform=ccrs.PlateCarree())\n",
    "scale_bar(ax, location=(0.3, 0.03), length=50)\n",
    "\n",
    "# we can pass a vector of sizes, using the magnitude column\n",
    "_ = ax.scatter(\n",
    "    earthquakes.longitude, earthquakes.latitude, \n",
    "    s=earthquakes.magnitude ** 2,  # Set the size to be the square of magnitude\n",
    "    zorder=100, # Set a high zorder to get them to plot on top\n",
    "    facecolor=\"none\", # Make them unfilled circles\n",
    "    edgecolor=\"purple\", # with a purple outline\n",
    "    alpha=0.5, # Make them slightly transparent\n",
    "    transform=ccrs.PlateCarree())"
   ]
  },
  {
   "cell_type": "markdown",
   "metadata": {},
   "source": [
    "This is better (you can start to see what might be faults in North Island, and the mass of Cook Strait and Kaikoura aftershocks), but I'm sure you can do better!\n",
    "\n",
    "Get a suitable catalogue for your Fiordland region and make a prettier plot of earthquake locations there."
   ]
  },
  {
   "cell_type": "code",
   "execution_count": 23,
   "metadata": {},
   "outputs": [],
   "source": [
    "# Your map here"
   ]
  },
  {
   "cell_type": "markdown",
   "metadata": {},
   "source": [
    "Lets add some more useful information by plotting our locations coloured by depth. To do this we can make use of [matplotlib colormaps](https://matplotlib.org/3.1.0/tutorials/colors/colormaps.html) - there is a lot of colormap bias flying around the twittersphere - the main rule is to steer clear of rainbow colormaps if you can - they tend to artificially enhance relatively small variations...\n",
    "\n",
    "I'm going to use one of my favorites here: \"plasma\".  To do this we add another couple of arguments to scatter, `c` to give a vector of colours (in our case just the depths), and `cmap` to define the colourmap to convert from depth to colour."
   ]
  },
  {
   "cell_type": "code",
   "execution_count": 24,
   "metadata": {},
   "outputs": [
    {
     "data": {
      "application/vnd.jupyter.widget-view+json": {
       "model_id": "b0945736bbb94365a443f8c77b48223b",
       "version_major": 2,
       "version_minor": 0
      },
      "text/plain": [
       "Canvas(toolbar=Toolbar(toolitems=[('Home', 'Reset original view', 'home', 'home'), ('Back', 'Back to previous …"
      ]
     },
     "metadata": {},
     "output_type": "display_data"
    }
   ],
   "source": [
    "fig = plt.figure()\n",
    "ax = fig.add_subplot(projection=NZTM)\n",
    "ax.set_extent((173.8, 175.7, -42.0, -40.7), crs=ccrs.PlateCarree())\n",
    "ax.set_facecolor(\"lightskyblue\")\n",
    "coast = cfeature.GSHHSFeature(\n",
    "    scale=\"h\", levels=[1], facecolor=\"yellowgreen\", edgecolor=\"black\")\n",
    "ax.add_feature(coast)\n",
    "ax.gridlines(\n",
    "    draw_labels=True, \n",
    "    xlocs=[174, 174.5, 175, 175.5], \n",
    "    ylocs=[-42, -41.5, -41])\n",
    "north_arrow(ax, x=174, y=-41.9, arrow_length=.2, transform=ccrs.PlateCarree())\n",
    "scale_bar(ax, location=(0.3, 0.03), length=50)\n",
    "\n",
    "# we can pass a vector of sizes, using the magnitude column\n",
    "_ = ax.scatter(\n",
    "    earthquakes.longitude, earthquakes.latitude, \n",
    "    c=earthquakes.depth, cmap=\"plasma\",\n",
    "    s=earthquakes.magnitude ** 2,  # Set the size to be the square of magnitude\n",
    "    zorder=100, # Set a high zorder to get them to plot on top\n",
    "    alpha=0.5, # Make them slightly transparent\n",
    "    transform=ccrs.PlateCarree())"
   ]
  },
  {
   "cell_type": "markdown",
   "metadata": {},
   "source": [
    "Not as impressive as I had hoped - that is because a couple of really deep events are biasing the colourmap:"
   ]
  },
  {
   "cell_type": "code",
   "execution_count": 25,
   "metadata": {},
   "outputs": [
    {
     "data": {
      "text/plain": [
       "492.5"
      ]
     },
     "execution_count": 25,
     "metadata": {},
     "output_type": "execute_result"
    }
   ],
   "source": [
    "earthquakes.depth.max()"
   ]
  },
  {
   "cell_type": "markdown",
   "metadata": {},
   "source": [
    "We can add a limit to our colormap using a \"normalizer\":"
   ]
  },
  {
   "cell_type": "code",
   "execution_count": 26,
   "metadata": {},
   "outputs": [],
   "source": [
    "from matplotlib.colors import Normalize\n",
    "\n",
    "norm = Normalize(vmin=0, vmax=50.0)  # Only use the color map between 0 and 50 km depth"
   ]
  },
  {
   "cell_type": "markdown",
   "metadata": {},
   "source": [
    "### Colorbars\n",
    "\n",
    "Now lets make use of that and add a colorbar (and a label to the colorbar)."
   ]
  },
  {
   "cell_type": "code",
   "execution_count": 27,
   "metadata": {},
   "outputs": [
    {
     "data": {
      "application/vnd.jupyter.widget-view+json": {
       "model_id": "72543a3473fc4a138d16d8b800a67c08",
       "version_major": 2,
       "version_minor": 0
      },
      "text/plain": [
       "Canvas(toolbar=Toolbar(toolitems=[('Home', 'Reset original view', 'home', 'home'), ('Back', 'Back to previous …"
      ]
     },
     "metadata": {},
     "output_type": "display_data"
    }
   ],
   "source": [
    "fig = plt.figure(figsize=(8, 10))\n",
    "ax = fig.add_subplot(projection=NZTM)\n",
    "ax.set_extent((173.8, 175.7, -42.0, -40.7), crs=ccrs.PlateCarree())\n",
    "ax.set_facecolor(\"white\")\n",
    "coast = cfeature.GSHHSFeature(\n",
    "    scale=\"h\", levels=[1], facecolor=\"lightgrey\", edgecolor=\"black\")\n",
    "ax.add_feature(coast)\n",
    "ax.gridlines(\n",
    "    draw_labels=True, \n",
    "    xlocs=[174, 174.5, 175, 175.5], \n",
    "    ylocs=[-42, -41.5, -41])\n",
    "north_arrow(ax, x=174, y=-41.9, arrow_length=.2, transform=ccrs.PlateCarree())\n",
    "scale_bar(ax, location=(0.3, 0.03), length=50)\n",
    "\n",
    "# we can pass a vector of sizes, using the magnitude column\n",
    "colors = ax.scatter(\n",
    "    earthquakes.longitude, earthquakes.latitude, \n",
    "    c=earthquakes.depth, cmap=\"plasma\", norm=norm,\n",
    "    s=earthquakes.magnitude ** 2,  # Set the size to be the square of magnitude\n",
    "    zorder=9, # Set a high zorder to get them to plot on top\n",
    "    alpha=0.5, # Make them slightly transparent\n",
    "    rasterized=True,  # Rasterize for faster rendering\n",
    "    transform=ccrs.PlateCarree())\n",
    "\n",
    "cbar_ax = fig.colorbar(colors, ax=ax, orientation=\"horizontal\")  # Add a colorbar\n",
    "_ = cbar_ax.set_label(\"Depth (km)\")"
   ]
  },
  {
   "cell_type": "markdown",
   "metadata": {},
   "source": [
    "## Legends\n",
    "\n",
    "It is all well and good scaling by magnitude, but we can't read anything off about the magnitudes without a scale.\n",
    "Matplotlib handles this with legends:"
   ]
  },
  {
   "cell_type": "code",
   "execution_count": 28,
   "metadata": {},
   "outputs": [
    {
     "data": {
      "application/vnd.jupyter.widget-view+json": {
       "model_id": "16385bbc9ebb40dbb4349d26b3d0a060",
       "version_major": 2,
       "version_minor": 0
      },
      "text/plain": [
       "Canvas(toolbar=Toolbar(toolitems=[('Home', 'Reset original view', 'home', 'home'), ('Back', 'Back to previous …"
      ]
     },
     "metadata": {},
     "output_type": "display_data"
    }
   ],
   "source": [
    "fig = plt.figure(figsize=(8, 10))\n",
    "ax = fig.add_subplot(projection=NZTM)\n",
    "ax.set_extent((173.8, 175.7, -42.0, -40.7), crs=ccrs.PlateCarree())\n",
    "ax.set_facecolor(\"white\")\n",
    "coast = cfeature.GSHHSFeature(\n",
    "    scale=\"h\", levels=[1], facecolor=\"lightgrey\", edgecolor=\"black\")\n",
    "ax.add_feature(coast)\n",
    "ax.gridlines(\n",
    "    draw_labels=True, \n",
    "    xlocs=[174, 174.5, 175, 175.5], \n",
    "    ylocs=[-42, -41.5, -41])\n",
    "north_arrow(ax, x=174, y=-41.9, arrow_length=.2, transform=ccrs.PlateCarree())\n",
    "scale_bar(ax, location=(0.3, 0.03), length=50)\n",
    "\n",
    "# we can pass a vector of sizes, using the magnitude column\n",
    "colors = ax.scatter(\n",
    "    earthquakes.longitude, earthquakes.latitude, \n",
    "    c=earthquakes.depth, cmap=\"plasma\", norm=norm,\n",
    "    s=earthquakes.magnitude ** 2,  # Set the size to be the square of magnitude\n",
    "    zorder=9, # Set a high zorder to get them to plot on top\n",
    "    alpha=0.5, # Make them slightly transparent\n",
    "    rasterized=True,  # Rasterize for faster rendering\n",
    "    transform=ccrs.PlateCarree())\n",
    "\n",
    "cbar_ax = fig.colorbar(colors, ax=ax, orientation=\"horizontal\")  # Add a colorbar\n",
    "cbar_ax.set_label(\"Depth (km)\")\n",
    "\n",
    "# Add a legend\n",
    "magnitudes = [2, 3, 4, 5, 6, 7]  # Magnitudes to plot sizes for\n",
    "\n",
    "# We can retrive the marker for that size by accessing the legend elements of the mappable\n",
    "handles, labels = colors.legend_elements(\"sizes\", num=[mag ** 2 for mag in magnitudes])\n",
    "\n",
    "# This gives is \"handles\" (the plotted object) and \"labels\" (the text to go beside it),\n",
    "# but the labels in this case are the square of the magnitudes we want, so we will just use\n",
    "# the magnitudes themselves as labels.\n",
    "labels = magnitudes\n",
    "\n",
    "# If you are actually plotting at the size you want to mark, you don't have to change labels!\n",
    "_ = ax.legend(handles=handles, labels=labels, title=\"Magnitude\")"
   ]
  },
  {
   "cell_type": "markdown",
   "metadata": {},
   "source": [
    "Now we know how to plot points on maps, how about plotting some lines?\n",
    "\n",
    "For example, we can make a large NZ-wide map (again) and draw a box around the region plotted in our main map to give some context:"
   ]
  },
  {
   "cell_type": "code",
   "execution_count": 29,
   "metadata": {
    "scrolled": true
   },
   "outputs": [
    {
     "data": {
      "application/vnd.jupyter.widget-view+json": {
       "model_id": "03357bddbcc94b8a8213e7c5e7ebb077",
       "version_major": 2,
       "version_minor": 0
      },
      "text/plain": [
       "Canvas(toolbar=Toolbar(toolitems=[('Home', 'Reset original view', 'home', 'home'), ('Back', 'Back to previous …"
      ]
     },
     "metadata": {},
     "output_type": "display_data"
    }
   ],
   "source": [
    "fig = plt.figure(figsize=(8, 10))\n",
    "ax = fig.add_subplot(projection=NZTM)\n",
    "ax.set_extent((165, 179, -47.5, -34.3), crs=ccrs.PlateCarree())\n",
    "ax.set_facecolor(\"white\")\n",
    "coast = cfeature.GSHHSFeature(\n",
    "    scale=\"h\", levels=[1], facecolor=\"lightgrey\", edgecolor=\"black\")\n",
    "ax.add_feature(coast)\n",
    "ax.gridlines(draw_labels=True)\n",
    "north_arrow(ax, x=166, y=-46, arrow_length=.7, transform=ccrs.PlateCarree())\n",
    "scale_bar(ax, location=(0.1, 0.03), length=300)\n",
    "\n",
    "# We simply call ax.plot with the transform specified\n",
    "_ = ax.plot(\n",
    "    (173.8, 175.7, 175.7, 173.8, 173.8),\n",
    "    (-42.0, -42.0, -40.7, -40.7, -42.0),\n",
    "    transform=ccrs.PlateCarree())"
   ]
  },
  {
   "cell_type": "markdown",
   "metadata": {},
   "source": [
    "Now it is your turn - show the region that you have been plotting on an NZ-wide map. Hopefully you can see how this could be helpful for making figures for your projects...?"
   ]
  },
  {
   "cell_type": "code",
   "execution_count": 30,
   "metadata": {},
   "outputs": [],
   "source": [
    "# Your NZ-wide map"
   ]
  },
  {
   "cell_type": "markdown",
   "metadata": {},
   "source": [
    "---\n",
    "## Making a final multi-panel figure\n",
    "\n",
    "It might be nice is if we could have that NZ-wide map as a wee inset to our main figure eh?\n",
    "\n",
    "Lets have a go."
   ]
  },
  {
   "cell_type": "code",
   "execution_count": 31,
   "metadata": {},
   "outputs": [
    {
     "data": {
      "application/vnd.jupyter.widget-view+json": {
       "model_id": "4fa02be9f09247e7952fa6a686173381",
       "version_major": 2,
       "version_minor": 0
      },
      "text/plain": [
       "Canvas(toolbar=Toolbar(toolitems=[('Home', 'Reset original view', 'home', 'home'), ('Back', 'Back to previous …"
      ]
     },
     "metadata": {},
     "output_type": "display_data"
    }
   ],
   "source": [
    "# I'm going to set the region so that the region plotted and the box are the same\n",
    "region = (173.8, 175.7, -42.0, -40.7)\n",
    "\n",
    "fig = plt.figure(figsize=(6, 8))\n",
    "\n",
    "# We can specify where the axes should be within our figure canvas \n",
    "# I'm going to put this at the the bottom right\n",
    "ax = fig.add_axes(\n",
    "    [0.15, 0.05, 0.78, 0.9],  # This is origin x, origin y, x length, y length\n",
    "    projection=NZTM)\n",
    "\n",
    "ax.set_extent(region, crs=ccrs.PlateCarree())\n",
    "ax.set_facecolor(\"white\")\n",
    "coast = cfeature.GSHHSFeature(\n",
    "    scale=\"h\", levels=[1], facecolor=\"lightgrey\", edgecolor=\"black\")\n",
    "ax.add_feature(coast)\n",
    "ax.gridlines(\n",
    "    draw_labels=True, \n",
    "    xlocs=[174, 174.5, 175, 175.5], \n",
    "    ylocs=[-42, -41.5, -41])\n",
    "north_arrow(ax, x=174, y=-41.9, arrow_length=.2, transform=ccrs.PlateCarree())\n",
    "scale_bar(ax, location=(0.3, 0.03), length=50)\n",
    "\n",
    "# we can pass a vector of sizes, using the magnitude column\n",
    "colors = ax.scatter(\n",
    "    earthquakes.longitude, earthquakes.latitude, \n",
    "    c=earthquakes.depth, cmap=\"plasma\", norm=norm,\n",
    "    s=earthquakes.magnitude ** 2,  # Set the size to be the square of magnitude\n",
    "    zorder=9, # Set a high zorder to get them to plot on top\n",
    "    alpha=0.5, # Make them slightly transparent\n",
    "    rasterized=True,  # Rasterize for faster rendering\n",
    "    transform=ccrs.PlateCarree())\n",
    "\n",
    "cbar_ax = fig.colorbar(colors, ax=ax, orientation=\"horizontal\")  # Add a colorbar\n",
    "cbar_ax.set_label(\"Depth (km)\")\n",
    "# Add a legend\n",
    "magnitudes = [2, 3, 4, 5, 6, 7]  # Magnitudes to plot sizes for\n",
    "# We can retrive the marker for that size by accessing the legend elements of the mappable\n",
    "# Note that we plotted magnitude squared, so we have to get the elements at the magnitude squared\n",
    "handles, _ = colors.legend_elements(\"sizes\", num=[mag ** 2 for mag in magnitudes])\n",
    "ax.legend(handles=handles, labels=magnitudes, title=\"Magnitude\", framealpha=1.0)\n",
    "\n",
    "# now add the inset:\n",
    "inset_ax = fig.add_axes(\n",
    "    [0.05, 0.7, 0.25, 0.25],\n",
    "    projection=NZTM)\n",
    "inset_ax.set_extent((165, 179, -47.5, -34.3), crs=ccrs.PlateCarree())\n",
    "inset_ax.set_facecolor(\"white\")\n",
    "coast = cfeature.GSHHSFeature(\n",
    "    scale=\"h\", levels=[1], facecolor=\"lightgrey\", edgecolor=\"black\")\n",
    "inset_ax.add_feature(coast)\n",
    "\n",
    "_ = inset_ax.plot(\n",
    "    (region[0], region[1], region[1], region[0], region[0]),\n",
    "    (region[2], region[2], region[3], region[3], region[2]),\n",
    "    c=\"red\", transform=ccrs.PlateCarree())"
   ]
  },
  {
   "cell_type": "markdown",
   "metadata": {},
   "source": [
    "Bonus points to anyone who wants to make a function that takes a region (minimum latitude, minimum longitude, maximum latitude, maximum longitude) and start and end time as arguments and:\n",
    "1. Downloads the relevent earthquake catalogue from GeoNet\n",
    "2. Makes a pretty plot (maybe prettier than mine?!)\n",
    "\n",
    "For the GPHS445 students - that kind of map would be super helpful for your Earthquake Watch!"
   ]
  },
  {
   "cell_type": "code",
   "execution_count": 32,
   "metadata": {},
   "outputs": [],
   "source": [
    "# Your function here, if you want."
   ]
  },
  {
   "cell_type": "markdown",
   "metadata": {},
   "source": [
    "---\n",
    "## Saving figures\n",
    "\n",
    "You should know this by now, but just in case: you can save figures from matplotlib to many formats, including `pdf`, `eps`, `png`, `jpg` and `svg`. Saving figures as `svg` (scalar vector graphics) can be really handy - you can then load the figures in something like [inkscape](https://inkscape.org/) and add anything else you want or tweak elements.\n",
    "\n",
    "Saving is as simple as:\n",
    "```python\n",
    "fig.savefig(filename)\n",
    "```\n",
    "\n",
    "matplotlib will work out what format to save to based on the extension you give for your filename, for example if I wrote:\n",
    "```python\n",
    "fig.savefig(\"My_super_cool_map.eps\")\n",
    "```\n",
    "I would get an eps (encapsulated postscript) file.\n",
    "\n",
    "Thats all for this notebook - we will move on to some more advanced plotted of geographic data next."
   ]
  }
 ],
 "metadata": {
  "kernelspec": {
   "display_name": "Python 3",
   "language": "python",
   "name": "python3"
  },
  "language_info": {
   "codemirror_mode": {
    "name": "ipython",
    "version": 3
   },
   "file_extension": ".py",
   "mimetype": "text/x-python",
   "name": "python",
   "nbconvert_exporter": "python",
   "pygments_lexer": "ipython3",
   "version": "3.7.9"
  }
 },
 "nbformat": 4,
 "nbformat_minor": 4
}
