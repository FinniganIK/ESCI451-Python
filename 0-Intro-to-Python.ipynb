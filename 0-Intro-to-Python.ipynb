{
 "cells": [
  {
   "cell_type": "markdown",
   "metadata": {},
   "source": [
    "# 0: Introduction to Python\n",
    "\n",
    "<img alt=\"xkcd Python\" align=\"right\" style=\"width:40%\" src=\"https://imgs.xkcd.com/comics/python.png\">\n",
    "\n",
    "In this course we will be using the Python programming language to help us learn how to automate tasks in geoscience.\n",
    "Python is a relatively friendly language, but it still has lots of **rules** that you need to follow to make codes run.\n",
    "In the first three notebooks we will introduce some of those rules and start you on your way to \n",
    "[zen](https://www.python.org/dev/peps/pep-0020/).\n",
    "\n",
    "With that said, what follows is a very brief intro to Python for newcomers.  The focus of thess notebooks is to introduce you\n",
    "to the simple data types and logic in Python, and a couple of handy packages.  There are many other great tutorials out there \n",
    "for more in-depth ideas, e.g.\n",
    "- [The Python tutorial](https://docs.python.org/3/tutorial/)\n",
    "- [LearnPython](https://www.learnpython.org/)\n",
    "- and many more.\n",
    "\n",
    "Python itself is a useful language, but one of *the best* things about Python is all the packages written to extend\n",
    "Python.  These packages are usually distributed via [pypi](https://pypi.org) or/and [anaconda](https://conda.io), and are \n",
    "easy to install.  This means that you often don't have to write (much of) your own code! Most of the time someone out\n",
    "there knows better than you how to do something, so you get to use their code and focus on the important things.\n",
    "\n",
    "Most Python packages have documentation.  If you find yourself stuck, or thinking *I wish I could do this*, it is worth having\n",
    "a search online for what you want, or what you are stuck on.  With Python, installing other packages can be quite simple using\n",
    "either [conda](https://conda.io/en/latest/) or [pip](https://pypi.org/project/pip/).\n",
    "\n",
    "## Python\n",
    "\n",
    "Python is an interpreted language (rather than a compiled language like Fortran or C). Because of this it is easy to\n",
    "iterate and see your results. You can interact with your code in a step-by-step way, so it is simple to understand\n",
    "the logic of your code. However, because of the interpreted nature of the language, Python is rarely the fastest\n",
    "choice. To combat this, Python can be (and has been) extended by compilled sections of code, meaning that time-critical\n",
    "sections of code can be sped-up.  This has led to quite a few libraries that use *Python as glue* to hold together\n",
    "faster sections of code written in C, fortran, or other languages. We will introduce one of these fast packages, *numpy*\n",
    "later: *numpy* is at the heart of almost all scientific Python applications.\n",
    "\n",
    "Python itself is open-source and runs almost anywhere, and is used for a whole range of purposes, from science\n",
    "to web-pages, data analysis and more: Dropbox was written almost exclusively in \n",
    "[Python](https://blogs.dropbox.com/tech/2018/09/how-we-rolled-out-one-of-the-largest-python-3-migrations-ever/).\n",
    "\n",
    "## Using Python on your computer\n",
    "\n",
    "For our class we will be using these Jupyter notebooks (see below), but you can interact with Python in\n",
    "other ways: You can interact with Python by running a Python shell - in MacOS or Linux systems, open a terminal and type\n",
    "`python3` to start a Python 3.x shell (the default Python on most systems is python 2.7, which\n",
    "is currently end-of-life, so best to start with Python 3). In windows, open the command line and\n",
    "type `C:\\python3\\python.exe`: you might have to check your Python version.  To get a more interactive, nicely\n",
    "coloured shell, I would recommend using the [iPython](https://ipython.org/) shell, which you can install from\n",
    "either Pypi or Anaconda.\n",
    "\n",
    "## Jupyter notebooks\n",
    "\n",
    "This is a Jupyter notebook! [Jupyter notebooks](www.jupyter.org) provide inline interactive Python shells, alongside markdown capability to\n",
    "allow you to write descriptive comments around the code. In-fact, recently, [some scientific papers have been written\n",
    "in Jupyter notebooks](https://github.com/jupyter/jupyter/wiki/A-gallery-of-interesting-Jupyter-Notebooks#reproducible-academic-publications)\n",
    "which enables people to test their work. They are a great way to *show your work* while explaining what you did\n",
    "in more extensive prose. We are using them for teaching purposes because they let us play with the code and\n",
    "explain the ideas behind the code."
   ]
  },
  {
   "cell_type": "markdown",
   "metadata": {},
   "source": [
    "## 0.0 Introduction to fundamental programming concepts\n",
    "\n",
    "Computers are useful, but they need to be told what to do, even in this age of machine learning. Writing programs allows us to\n",
    "control what computers do, but we need to be clear and logical in how we program them.  The way we will program, using Python,\n",
    "is very abstracted from what a computer actually does. Python takes what we write and converts this into a set of simple\n",
    "and exhaustive instructions that the computer actually undertakes. For Python and your computer to understand what you want to\n",
    "do you need to write clear and logical code.\n",
    "\n",
    "Computers understand binary (ones and zeros) values only. I don't know about you, but I struggle to think in binary, so one\n",
    "of the first things we will think about is the abstraction on-top of binary that allows us to work in real numbers, words and\n",
    "more.  The only reason you need to know this at the moment is because there are certain things that you can and can't do with\n",
    "these data types (e.g. you can't add a word to a number, but Python will let you add words together to make sentences). Later in\n",
    "your programming career you may find that you have to understand the intricacies of these different data types (the difference between\n",
    "a 64-Bit floating-point number and a 32-Bit number has resulted in some annoyingly wrong earthquake catalogues...)."
   ]
  },
  {
   "cell_type": "markdown",
   "metadata": {},
   "source": [
    "## 0.1 Getting started - hello world!\n",
    "\n",
    "The first program written in most languages is a simple \"Hello World!\" program, that just outputs the phrase \"Hello World!\"\n",
    "to the screen. In Python this is embarassingly simple (run the code by clicking the arrow button up the top, or by hitting\n",
    "*ctrl-enter*):"
   ]
  },
  {
   "cell_type": "code",
   "execution_count": 3,
   "metadata": {},
   "outputs": [
    {
     "name": "stdout",
     "output_type": "stream",
     "text": [
      "Hello World!\n"
     ]
    }
   ],
   "source": [
    "print(\"Hello World!\")"
   ]
  },
  {
   "cell_type": "markdown",
   "metadata": {},
   "source": [
    "What we did is call the `print` function with the *argument* `\"Hello World!\"`. Encapsulating *Hello World!* in\n",
    "quotes tells Python that we want this to be a *string* type. Strings hold charectars, other types hold other\n",
    "data types.\n",
    "\n",
    "The `print` function takes whatever we gave it as an argument and prints that to screen (we see the output of our\n",
    "code in Jupyter notebooks just beneath the *cell* that we ran the code in)."
   ]
  },
  {
   "cell_type": "markdown",
   "metadata": {},
   "source": [
    "## 0.2 Some data types in Python\n",
    "\n",
    "We said that `\"Hello World!\"` was a string (known as `str` in Python, there are a few other data types that you should know about \n",
    "(there are others that we don't need to worry about yet):\n",
    "\n",
    "- `int`: For storing integers, like 1, 4, 999, -2000\n",
    "- `float`: For storing floating-point numbers, like 1.2, -37.473, 42.424242424242 - there is a limit to the precision!\n",
    "- `list`: For storing lists of other objects, written using square-brackets, e.g.: `[1, 2, \"alfred\", 3.2]`, note \n",
    "   that any other data type can be within a list, including another list. The order that you put things into\n",
    "   a `list` is retained.\n",
    "- `set`: Another data type for storing other objects, but this time only unique elements are stored, and order\n",
    "  is not guaranteed. `Set`s are written using curly-brackets, e.g: `{1, 2, \"alfred\", 3.2}`. These can be really\n",
    "  useful for getting a unique set of *things*.\n",
    "- `dict`: A further data type for storing other objects.  In a `dict` (short for dictionary), *values* are stored\n",
    "  associated with some *key* in key: value pairs.  This is really useful for keeping track of attributes, for example\n",
    "  you might have a dictionary to store the attributes associated with an observation like:\n",
    "  `rock = {\"type\": \"andesite\", \"age\": \"10\", \"comment\": \"Tastes like fish\"}`\n",
    "  \n",
    "`print` will take any of these types, convert it to a `str` and print it to screen:"
   ]
  },
  {
   "cell_type": "code",
   "execution_count": 4,
   "metadata": {},
   "outputs": [
    {
     "name": "stdout",
     "output_type": "stream",
     "text": [
      "1\n"
     ]
    }
   ],
   "source": [
    "print(1)"
   ]
  },
  {
   "cell_type": "code",
   "execution_count": 5,
   "metadata": {},
   "outputs": [
    {
     "name": "stdout",
     "output_type": "stream",
     "text": [
      "43.4242\n"
     ]
    }
   ],
   "source": [
    "print(43.4242)"
   ]
  },
  {
   "cell_type": "code",
   "execution_count": 6,
   "metadata": {},
   "outputs": [
    {
     "name": "stdout",
     "output_type": "stream",
     "text": [
      "[1, 2, 'alfred']\n"
     ]
    }
   ],
   "source": [
    "print([1, 2, \"alfred\"])"
   ]
  },
  {
   "cell_type": "code",
   "execution_count": 7,
   "metadata": {},
   "outputs": [
    {
     "name": "stdout",
     "output_type": "stream",
     "text": [
      "{1, 2, 'alfred'}\n"
     ]
    }
   ],
   "source": [
    "# NBVAL_IGNORE_OUTPUT\n",
    "print({1, 2, \"alfred\"})"
   ]
  },
  {
   "cell_type": "code",
   "execution_count": 8,
   "metadata": {},
   "outputs": [
    {
     "name": "stdout",
     "output_type": "stream",
     "text": [
      "{1, 2, 6}\n"
     ]
    }
   ],
   "source": [
    "print({1, 2, 6, 2, 1})"
   ]
  },
  {
   "cell_type": "markdown",
   "metadata": {},
   "source": [
    "Notice that the final print only printed the unique elements of the `set` - only those attributes are stored."
   ]
  },
  {
   "cell_type": "code",
   "execution_count": 51,
   "metadata": {},
   "outputs": [
    {
     "name": "stdout",
     "output_type": "stream",
     "text": [
      "{'type': 'andesite', 'age': '10', 'comment': 'Tastes like fish'}\n"
     ]
    }
   ],
   "source": [
    "rock = {\"type\": \"andesite\", \"age\": \"10\", \"comment\": \"Tastes like fish\"}\n",
    "print(rock)"
   ]
  },
  {
   "cell_type": "markdown",
   "metadata": {},
   "source": [
    "## 0.3 Variables\n",
    "\n",
    "Programming languages keep track of values using variables. You (the programmer) assign some name to a value, and the \n",
    "computer keeps track of this value in memory.  You can then use this variable later in your code, e.g. you can\n",
    "some maths! The symbols for doing mathematical operations are:\n",
    "\n",
    "- `+` addition\n",
    "- `-` subtraction\n",
    "- `*` multiplication\n",
    "- `\\` division\n",
    "- `**` exponentation\n",
    "\n",
    "Note that division will always return a `float` in Python 3.x."
   ]
  },
  {
   "cell_type": "code",
   "execution_count": 10,
   "metadata": {},
   "outputs": [
    {
     "name": "stdout",
     "output_type": "stream",
     "text": [
      "17\n"
     ]
    }
   ],
   "source": [
    "a = 5\n",
    "b = 12\n",
    "c = a + b\n",
    "print(c)"
   ]
  },
  {
   "cell_type": "markdown",
   "metadata": {},
   "source": [
    "You can also change the value of a variable *in-place* using the following symbols:\n",
    "\n",
    "- `+=` addition in-place\n",
    "- `-=` subtraction in-place\n",
    "- `*=` multiplication in-place\n",
    "- `\\=` division in-place\n",
    "- `**=` exponentiation in-place"
   ]
  },
  {
   "cell_type": "code",
   "execution_count": 24,
   "metadata": {},
   "outputs": [
    {
     "name": "stdout",
     "output_type": "stream",
     "text": [
      "8\n"
     ]
    }
   ],
   "source": [
    "d = 5\n",
    "d += 3\n",
    "print(d)"
   ]
  },
  {
   "cell_type": "code",
   "execution_count": 25,
   "metadata": {},
   "outputs": [
    {
     "name": "stdout",
     "output_type": "stream",
     "text": [
      "2.6666666666666665\n"
     ]
    }
   ],
   "source": [
    "d /= 3\n",
    "print(d)"
   ]
  },
  {
   "cell_type": "code",
   "execution_count": 26,
   "metadata": {},
   "outputs": [
    {
     "name": "stdout",
     "output_type": "stream",
     "text": [
      "18.96296296296296\n"
     ]
    }
   ],
   "source": [
    "d **= 3\n",
    "print(d)"
   ]
  },
  {
   "cell_type": "markdown",
   "metadata": {},
   "source": [
    "Note that if you run the above cell again, without re-running from when we first defined d, you will get a different returned value. Watch out\n",
    "when working in-place on data!"
   ]
  },
  {
   "cell_type": "markdown",
   "metadata": {},
   "source": [
    "## 0.3.1 Variable naming\n",
    "\n",
    "You should always give your variables useful names. Python doesn't demand this, but it does allow it. You should write\n",
    "your code so that you (both now and in ten years time, as well as other people) can understand it; as \n",
    "[Martin Fowler](https://en.wikiquote.org/wiki/Martin_Fowler) wrote:\n",
    "\n",
    "> Any fool can write code that a computer can understand. Good programmers write code that humans can understand.\n",
    "\n",
    "Hopefully you will note that variable names `a`, `b`, `c`, ... are crap names for variables! Try to use simple\n",
    "by expressive names, e.g. if you have a list of different volcano names, don't call that variable `vn`, nor\n",
    "should you call is `volcano_names_used_in_this_code_with_effusive_eruptions`; just call it `volcano_names`.\n",
    "*If* you need to get into more detail, maybe you should be using more complex data-types, like `dict`s. We will\n",
    "play with some of these later."
   ]
  },
  {
   "cell_type": "markdown",
   "metadata": {},
   "source": [
    "## 0.4 Comments\n",
    "\n",
    "Ideally you will write code with useful variable names and obvious logic so that you can read an understand your\n",
    "programs as if they were prose. When you find that it is a little harder to understand, you should add comments.\n",
    "Comments are text in your program that are not executed (run), and are just there to help the reader understand\n",
    "what is going on. While you are learning they can be really handy, and people often start code as a series of\n",
    "comments that they then convert into code.\n",
    "\n",
    "Comments in Python start with a `#` charectar, e.g.:"
   ]
  },
  {
   "cell_type": "code",
   "execution_count": 30,
   "metadata": {},
   "outputs": [
    {
     "name": "stdout",
     "output_type": "stream",
     "text": [
      "Total volume ejected: 11950 kg^3\n",
      "Average volume per-event: 2987.5 kg^3\n"
     ]
    }
   ],
   "source": [
    "volume_ejected_per_event = [1000, 1500, 750, 8700]  # Total volume of material in cubic kg\n",
    "# sum is a Python function over any iterable\n",
    "total_volume = sum(volume_ejected_per_event)\n",
    "print(f\"Total volume ejected: {total_volume} kg^3\")\n",
    "# len tells you how long an object is\n",
    "n_events = len(volume_ejected_per_event)\n",
    "average_volume = total_volume / n_events\n",
    "print(f\"Average volume per-event: {average_volume} kg^3\")"
   ]
  },
  {
   "cell_type": "markdown",
   "metadata": {},
   "source": [
    "## 0.5 String manipulation\n",
    "\n",
    "The above example does some fun things with the strings printed. We can do all sorts with strings, we can add them together:"
   ]
  },
  {
   "cell_type": "code",
   "execution_count": 32,
   "metadata": {},
   "outputs": [
    {
     "name": "stdout",
     "output_type": "stream",
     "text": [
      "Monty Python and the Holy Grail\n"
     ]
    }
   ],
   "source": [
    "sentence_start = \"Monty Python and the \"\n",
    "sentence_end = \"Holy Grail\"\n",
    "sentence = sentence_start + sentence_end\n",
    "print(sentence)"
   ]
  },
  {
   "cell_type": "markdown",
   "metadata": {},
   "source": [
    "Or we can make a list of them and join them together with another string in between:"
   ]
  },
  {
   "cell_type": "code",
   "execution_count": 33,
   "metadata": {},
   "outputs": [
    {
     "name": "stdout",
     "output_type": "stream",
     "text": [
      "Monty Python and the Un-Holy Grail\n"
     ]
    }
   ],
   "source": [
    "sentence = \"Un-\".join([sentence_start, sentence_end])\n",
    "print(sentence)"
   ]
  },
  {
   "cell_type": "markdown",
   "metadata": {},
   "source": [
    "We can operate in-place on strings as well:"
   ]
  },
  {
   "cell_type": "code",
   "execution_count": 36,
   "metadata": {},
   "outputs": [
    {
     "name": "stdout",
     "output_type": "stream",
     "text": [
      "Monty Python and the Holy Grail\n"
     ]
    }
   ],
   "source": [
    "sentence = sentence_start\n",
    "sentence += sentence_end\n",
    "print(sentence)"
   ]
  },
  {
   "cell_type": "markdown",
   "metadata": {},
   "source": [
    "We can make new strings using *format* strings, like we did in the example above. Here we start a string with an `f`, then open\n",
    "quotes to mark the start of a string. Within this, any plain text is interpreted to be a string. Anything within curly\n",
    "brackets (`{}`) is interpreted as a variable name and converted to a string."
   ]
  },
  {
   "cell_type": "code",
   "execution_count": 39,
   "metadata": {},
   "outputs": [
    {
     "name": "stdout",
     "output_type": "stream",
     "text": [
      "Monty Python and the Holy Grail is a rather amusing film\n"
     ]
    }
   ],
   "source": [
    "sentence = f\"{sentence_start}{sentence_end} is a rather amusing film\"\n",
    "print(sentence)"
   ]
  },
  {
   "cell_type": "markdown",
   "metadata": {},
   "source": [
    "There is lots more that you can do with format strings that we don't need to go into yet, but you can find out more\n",
    "[in the Python docs](https://docs.python.org/3.6/reference/lexical_analysis.html#f-strings)."
   ]
  },
  {
   "cell_type": "markdown",
   "metadata": {},
   "source": [
    "## 0.6 List manipulation"
   ]
  },
  {
   "cell_type": "markdown",
   "metadata": {},
   "source": [
    "Individual elements of a list can be accessed by their index. In Python, the first element in a list is at\n",
    "index `0` (hence this notebook being the zeroth notebook).  This may seem silly, but you get used to it.\n",
    "The reason for this is to do with the byte-offset from the start of the memory-block containing the list, but\n",
    "you don't need to know that.\n",
    "\n",
    "Say we have a list of 10 elements, their indexes are as follows:\n",
    "\n",
    "```python\n",
    "some_list = [1, 9, 3, 26, 7, 9, 42, 99, 1000, -2]\n",
    "# indexes:   0  1  2   3  4  5   6   7     8   9\n",
    "```\n",
    "\n",
    "You can also specify the index as the position from the end, in this case, the equivalent indexes are:\n",
    "\n",
    "```python\n",
    "some_list = [1, 9, 3, 26, 7, 9, 42, 99, 1000, -2]\n",
    "# indexes: -10 -9 -8  -7 -6 -5  -4  -3    -2  -1\n",
    "```\n",
    "\n",
    "Lets have a go at manipulating some lists based on their indexes, we will use the `\"Monty Python and the Holy Grail\"` example again."
   ]
  },
  {
   "cell_type": "code",
   "execution_count": 40,
   "metadata": {},
   "outputs": [],
   "source": [
    "sentence = \"Monty Python and the Holy Grail\""
   ]
  },
  {
   "cell_type": "markdown",
   "metadata": {},
   "source": [
    "We can split a string based on any charectar to get a list of strings:"
   ]
  },
  {
   "cell_type": "code",
   "execution_count": 41,
   "metadata": {},
   "outputs": [
    {
     "name": "stdout",
     "output_type": "stream",
     "text": [
      "['Monty', 'Python', 'and', 'the', 'Holy', 'Grail']\n"
     ]
    }
   ],
   "source": [
    "words = sentence.split(\" \")\n",
    "print(words)"
   ]
  },
  {
   "cell_type": "markdown",
   "metadata": {},
   "source": [
    "We can re-arange by making new lists from parts of the original list"
   ]
  },
  {
   "cell_type": "code",
   "execution_count": 45,
   "metadata": {},
   "outputs": [
    {
     "name": "stdout",
     "output_type": "stream",
     "text": [
      "['Holy', 'Monty']\n"
     ]
    }
   ],
   "source": [
    "sense = [words[-2], words[0]]\n",
    "print(sense)"
   ]
  },
  {
   "cell_type": "markdown",
   "metadata": {},
   "source": [
    "We can add parts of a list together to get a new thing:"
   ]
  },
  {
   "cell_type": "code",
   "execution_count": 46,
   "metadata": {},
   "outputs": [
    {
     "name": "stdout",
     "output_type": "stream",
     "text": [
      "Grailand\n"
     ]
    }
   ],
   "source": [
    "nonsense = words[-1] + words[2]\n",
    "print(nonsense)"
   ]
  },
  {
   "cell_type": "markdown",
   "metadata": {},
   "source": [
    "We can take chunks of the list by *slicing*"
   ]
  },
  {
   "cell_type": "code",
   "execution_count": 47,
   "metadata": {},
   "outputs": [
    {
     "name": "stdout",
     "output_type": "stream",
     "text": [
      "['Monty', 'Python', 'and']\n"
     ]
    }
   ],
   "source": [
    "first_three_words = words[0:3]\n",
    "print(first_three_words)"
   ]
  },
  {
   "cell_type": "markdown",
   "metadata": {},
   "source": [
    "We can append values to a list:"
   ]
  },
  {
   "cell_type": "code",
   "execution_count": 48,
   "metadata": {},
   "outputs": [
    {
     "name": "stdout",
     "output_type": "stream",
     "text": [
      "['Monty', 'Python', 'and', 'the']\n"
     ]
    }
   ],
   "source": [
    "first_three_words.append(\"the\")\n",
    "print(first_three_words)"
   ]
  },
  {
   "cell_type": "markdown",
   "metadata": {},
   "source": [
    "And we can add lists together (both in-place and not):"
   ]
  },
  {
   "cell_type": "code",
   "execution_count": 49,
   "metadata": {},
   "outputs": [
    {
     "name": "stdout",
     "output_type": "stream",
     "text": [
      "['Monty', 'Python', 'and', 'the', 'unruly', 'albatross']\n"
     ]
    }
   ],
   "source": [
    "first_three_words += [\"unruly\", \"albatross\"]\n",
    "print(first_three_words)"
   ]
  },
  {
   "cell_type": "markdown",
   "metadata": {},
   "source": [
    "## Exercise:\n",
    "\n",
    "Take the following sentence and reverse the order of the words.  This will be easier with loops once we introduce them\n",
    "in the next notebook..."
   ]
  },
  {
   "cell_type": "code",
   "execution_count": 50,
   "metadata": {},
   "outputs": [],
   "source": [
    "sentence = \"Once upon a time in the West\""
   ]
  },
  {
   "cell_type": "code",
   "execution_count": null,
   "metadata": {},
   "outputs": [],
   "source": [
    "# Your answer here:"
   ]
  },
  {
   "cell_type": "markdown",
   "metadata": {},
   "source": [
    "## 0.7 Dictionary lookups\n",
    "\n",
    "Finding attributes within a dictionary, if you know the key, is very fast.  Accessing attributes by key is similar to\n",
    "indexing lists, but instead of providing an index in the square brackets, you provide the key:"
   ]
  },
  {
   "cell_type": "code",
   "execution_count": 52,
   "metadata": {},
   "outputs": [
    {
     "name": "stdout",
     "output_type": "stream",
     "text": [
      "andesite\n"
     ]
    }
   ],
   "source": [
    "rock = {\"type\": \"andesite\", \"age\": \"10\", \"comment\": \"Tastes like fish\"}\n",
    "\n",
    "print(rock[\"type\"])"
   ]
  },
  {
   "cell_type": "code",
   "execution_count": 53,
   "metadata": {},
   "outputs": [
    {
     "name": "stdout",
     "output_type": "stream",
     "text": [
      "Tastes like fish\n"
     ]
    }
   ],
   "source": [
    "print(rock[\"comment\"])"
   ]
  },
  {
   "cell_type": "markdown",
   "metadata": {},
   "source": [
    "We will use dictionaries a bit in this tutorial because they can be really helpful for keeping track of your data,\n",
    "you will see *dictionary-style* lookups in the [pandas](5-Pandas-introduction.ipynb) notebook especially.\n",
    "\n",
    "So now you know that Python is a thing, lets see if we can make use of it.  Like any good scientist we\n",
    "should take a logical approach and start by introducing [logic in python](1-Python-logic.ipynb)."
   ]
  },
  {
   "cell_type": "code",
   "execution_count": null,
   "metadata": {},
   "outputs": [],
   "source": []
  }
 ],
 "metadata": {
  "kernelspec": {
   "display_name": "Python 3",
   "language": "python",
   "name": "python3"
  },
  "language_info": {
   "codemirror_mode": {
    "name": "ipython",
    "version": 3
   },
   "file_extension": ".py",
   "mimetype": "text/x-python",
   "name": "python",
   "nbconvert_exporter": "python",
   "pygments_lexer": "ipython3",
   "version": "3.7.6"
  }
 },
 "nbformat": 4,
 "nbformat_minor": 4
}
