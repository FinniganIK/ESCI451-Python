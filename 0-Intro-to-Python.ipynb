{
 "cells": [
  {
   "cell_type": "markdown",
   "metadata": {},
   "source": [
    "# 0: Introduction to Python\n",
    "\n",
    "<img alt=\"xkcd Python\" align=\"right\" style=\"width:40%\" src=\"https://imgs.xkcd.com/comics/python.png\">\n",
    "\n",
    "In this course we will be using the Python programming language to help us learn how to automate tasks in geoscience.\n",
    "Python is a relatively friendly language, but it still has lots of **rules** that you need to follow to make codes run.\n",
    "In the first three notebooks we will introduce some of those rules and start you on your way to \n",
    "[zen](https://www.python.org/dev/peps/pep-0020/).\n",
    "\n",
    "With that said, what follows is a very brief intro to Python for newcomers.  The focus of thess notebooks is to introduce you\n",
    "to the simple data types and logic in Python, and a couple of handy packages.  There are many other great tutorials out there \n",
    "for more in-depth ideas, e.g.\n",
    "- [The Python tutorial](https://docs.python.org/3/tutorial/)\n",
    "- [LearnPython](https://www.learnpython.org/)\n",
    "- and many more.\n",
    "\n",
    "Python itself is a useful language, but one of *the best* things about Python is all the packages written to extend\n",
    "Python.  These packages are usually distributed via [pypi](https://pypi.org) or/and [anaconda](https://conda.io), and are \n",
    "easy to install.  This means that you often don't have to write (much of) your own code! Most of the time someone out\n",
    "there knows better than you how to do something, so you get to use their code and focus on the important things.\n",
    "\n",
    "Most Python packages have documentation.  If you find yourself stuck, or thinking *I wish I could do this*, it is worth having\n",
    "a search online for what you want, or what you are stuck on.  With Python, installing other packages can be quite simple using\n",
    "either [conda](https://conda.io/en/latest/) or [pip](https://pypi.org/project/pip/).\n",
    "\n",
    "## Python\n",
    "\n",
    "Python is an interpreted language (rather than a compiled language like Fortran or C). Because of this it is easy to\n",
    "iterate and see your results. You can interact with your code in a step-by-step way, so it is simple to understand\n",
    "the logic of your code. However, because of the interpreted nature of the language, Python is rarely the fastest\n",
    "choice. To combat this, Python can be (and has been) extended by compilled sections of code, meaning that time-critical\n",
    "sections of code can be sped-up.  This has led to quite a few libraries that use *Python as glue* to hold together\n",
    "faster sections of code written in C, fortran, or other languages. We will introduce one of these fast packages, *numpy*\n",
    "later: *numpy* is at the heart of almost all scientific Python applications.\n",
    "\n",
    "Python itself is open-source and runs almost anywhere, and is used for a whole range of purposes, from science\n",
    "to web-pages, data analysis and more: Dropbox was written almost exclusively in \n",
    "[Python](https://blogs.dropbox.com/tech/2018/09/how-we-rolled-out-one-of-the-largest-python-3-migrations-ever/).\n",
    "\n",
    "## Using Python on your computer\n",
    "\n",
    "For our class we will be using these Jupyter notebooks (see below), but you can interact with Python in\n",
    "other ways: You can interact with Python by running a Python shell - in MacOS or Linux systems, open a terminal and type\n",
    "`python3` to start a Python 3.x shell (the default Python on most systems is python 2.7, which\n",
    "is currently end-of-life, so best to start with Python 3). In windows, open the command line and\n",
    "type `C:\\python3\\python.exe`: you might have to check your Python version.  To get a more interactive, nicely\n",
    "coloured shell, I would recommend using the [iPython](https://ipython.org/) shell, which you can install from\n",
    "either Pypi or Anaconda.\n",
    "\n",
    "## Jupyter notebooks\n",
    "\n",
    "This is a Jupyter notebook! [Jupyter notebooks](www.jupyter.org) provide inline interactive Python shells, alongside markdown capability to\n",
    "allow you to write descriptive comments around the code. In-fact, recently, [some scientific papers have been written\n",
    "in Jupyter notebooks](https://github.com/jupyter/jupyter/wiki/A-gallery-of-interesting-Jupyter-Notebooks#reproducible-academic-publications)\n",
    "which enables people to test their work. They are a great way to *show your work* while explaining what you did\n",
    "in more extensive prose. We are using them for teaching purposes because they let us play with the code and\n",
    "explain the ideas behind the code."
   ]
  },
  {
   "cell_type": "markdown",
   "metadata": {},
   "source": [
    "# Getting started - hello world!\n",
    "\n",
    "The first program written in most languages is a simple \"Hello World!\" program, that just outputs the phrase \"Hello World!\"\n",
    "to the screen. In Python this is embarassingly simple (run the code by clicking the arrow button up the top, or by hitting\n",
    "*ctrl-enter*):"
   ]
  },
  {
   "cell_type": "code",
   "execution_count": 3,
   "metadata": {},
   "outputs": [
    {
     "name": "stdout",
     "output_type": "stream",
     "text": [
      "Hello World!\n"
     ]
    }
   ],
   "source": [
    "print(\"Hello World!\")"
   ]
  },
  {
   "cell_type": "markdown",
   "metadata": {},
   "source": [
    "What we did is call the `print` function with the *argument* `\"Hello World!\"`. Encapsulating *Hello World!* in\n",
    "quotes tells Python that we want this to be a *string* type. Strings hold charectars, other types hold other\n",
    "data types.\n",
    "\n",
    "The `print` function takes whatever we gave it as an argument and prints that to screen (we see the output of our\n",
    "code in Jupyter notebooks just beneath the *cell* that we ran the code in)."
   ]
  },
  {
   "cell_type": "markdown",
   "metadata": {},
   "source": [
    "## Some data types in Python\n",
    "\n",
    "We said that `\"Hello World!\"` was a string (known as `str` in Python, there are a few other data types that you should know about \n",
    "(there are others that we don't need to worry about yet):\n",
    "\n",
    "- `int`: For storing integers, like 1, 4, 999, -2000\n",
    "- `float`: For storing floating-point numbers, like 1.2, -37.473, 42.424242424242 - there is a limit to the precision!\n",
    "- `list`: For storing lists of other objects, written using square-brackets, e.g.: `[1, 2, \"alfred\", 3.2]`, note \n",
    "   that any other data type can be within a list, including another list. The order that you put things into\n",
    "   a `list` is retained.\n",
    "- `set`: Another data type for storing other objects, but this time only unique elements are stored, and order\n",
    "  is not guaranteed. `Set`s are written using curly-brackets, e.g: `{1, 2, \"alfred\", 3.2}`. These can be really\n",
    "  useful for getting a unique set of *things*.\n",
    "  \n",
    "`print` will take any of these types, convert it to a `str` and print it to screen:"
   ]
  },
  {
   "cell_type": "code",
   "execution_count": 4,
   "metadata": {},
   "outputs": [
    {
     "name": "stdout",
     "output_type": "stream",
     "text": [
      "1\n"
     ]
    }
   ],
   "source": [
    "print(1)"
   ]
  },
  {
   "cell_type": "code",
   "execution_count": 5,
   "metadata": {},
   "outputs": [
    {
     "name": "stdout",
     "output_type": "stream",
     "text": [
      "43.4242\n"
     ]
    }
   ],
   "source": [
    "print(43.4242)"
   ]
  },
  {
   "cell_type": "code",
   "execution_count": 6,
   "metadata": {},
   "outputs": [
    {
     "name": "stdout",
     "output_type": "stream",
     "text": [
      "[1, 2, 'alfred']\n"
     ]
    }
   ],
   "source": [
    "print([1, 2, \"alfred\"])"
   ]
  },
  {
   "cell_type": "code",
   "execution_count": 7,
   "metadata": {},
   "outputs": [
    {
     "name": "stdout",
     "output_type": "stream",
     "text": [
      "{1, 2, 'alfred'}\n"
     ]
    }
   ],
   "source": [
    "print({1, 2, \"alfred\"})"
   ]
  },
  {
   "cell_type": "code",
   "execution_count": 8,
   "metadata": {},
   "outputs": [
    {
     "name": "stdout",
     "output_type": "stream",
     "text": [
      "{1, 2, 6}\n"
     ]
    }
   ],
   "source": [
    "print({1, 2, 6, 2, 1})"
   ]
  },
  {
   "cell_type": "markdown",
   "metadata": {},
   "source": [
    "Notice that the final print only printed the unique elements of the `set` - only those attributes are stored."
   ]
  },
  {
   "cell_type": "markdown",
   "metadata": {},
   "source": [
    "## Variables\n",
    "\n",
    "Programming languages keep track of values using variables. You (the programmer) assign some name to a value, and the \n",
    "computer keeps track of this value in memory.  You can then use this variable later in your code, e.g. you can\n",
    "some maths! The symbols for doing mathematical operations are:\n",
    "\n",
    "- `+` addition\n",
    "- `-` subtraction\n",
    "- `*` multiplication\n",
    "- `\\` division\n",
    "- `**` exponentation\n",
    "\n",
    "Note that division will always return a `float` in Python 3.x."
   ]
  },
  {
   "cell_type": "code",
   "execution_count": 10,
   "metadata": {},
   "outputs": [
    {
     "name": "stdout",
     "output_type": "stream",
     "text": [
      "17\n"
     ]
    }
   ],
   "source": [
    "a = 5\n",
    "b = 12\n",
    "c = a + b\n",
    "print(c)"
   ]
  },
  {
   "cell_type": "markdown",
   "metadata": {},
   "source": [
    "You can also change the value of a variable *in-place* using the following symbols:\n",
    "\n",
    "- `+=` addition in-place\n",
    "- `-=` subtraction in-place\n",
    "- `*=` multiplication in-place\n",
    "- `\\=` division in-place\n",
    "- `**=` exponentiation in-place"
   ]
  },
  {
   "cell_type": "code",
   "execution_count": 24,
   "metadata": {},
   "outputs": [
    {
     "name": "stdout",
     "output_type": "stream",
     "text": [
      "8\n"
     ]
    }
   ],
   "source": [
    "d = 5\n",
    "d += 3\n",
    "print(d)"
   ]
  },
  {
   "cell_type": "code",
   "execution_count": 25,
   "metadata": {},
   "outputs": [
    {
     "name": "stdout",
     "output_type": "stream",
     "text": [
      "2.6666666666666665\n"
     ]
    }
   ],
   "source": [
    "d /= 3\n",
    "print(d)"
   ]
  },
  {
   "cell_type": "code",
   "execution_count": 26,
   "metadata": {},
   "outputs": [
    {
     "name": "stdout",
     "output_type": "stream",
     "text": [
      "18.96296296296296\n"
     ]
    }
   ],
   "source": [
    "d **= 3\n",
    "print(d)"
   ]
  },
  {
   "cell_type": "markdown",
   "metadata": {},
   "source": [
    "Note that if you run the above cell again, without re-running from when we first defined d, you will get a different returned value. Watch out\n",
    "when working in-place on data!"
   ]
  },
  {
   "cell_type": "markdown",
   "metadata": {},
   "source": [
    "## Variable naming"
   ]
  },
  {
   "cell_type": "markdown",
   "metadata": {},
   "source": [
    "## String manipulation\n",
    "\n",
    "It is often helpful in code to "
   ]
  },
  {
   "cell_type": "markdown",
   "metadata": {},
   "source": [
    "## List manipulation"
   ]
  },
  {
   "cell_type": "markdown",
   "metadata": {},
   "source": [
    "## Comments"
   ]
  },
  {
   "cell_type": "code",
   "execution_count": null,
   "metadata": {},
   "outputs": [],
   "source": []
  }
 ],
 "metadata": {
  "kernelspec": {
   "display_name": "Python 3",
   "language": "python",
   "name": "python3"
  },
  "language_info": {
   "codemirror_mode": {
    "name": "ipython",
    "version": 3
   },
   "file_extension": ".py",
   "mimetype": "text/x-python",
   "name": "python",
   "nbconvert_exporter": "python",
   "pygments_lexer": "ipython3",
   "version": "3.7.3"
  }
 },
 "nbformat": 4,
 "nbformat_minor": 4
}
