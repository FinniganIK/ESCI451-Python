{
 "cells": [
  {
   "cell_type": "markdown",
   "metadata": {},
   "source": [
    "To cover:\n",
    "\n",
    "Read data from text-file\n",
    "\n",
    "1. The array\n",
    "2. Methods on arrays (sum, sqrt, mean, ...) and why you should use those rather than looping\n",
    "3. Slicing n-dimensional arrays"
   ]
  },
  {
   "cell_type": "code",
   "execution_count": null,
   "metadata": {},
   "outputs": [],
   "source": []
  }
 ],
 "metadata": {
  "kernelspec": {
   "display_name": "Python 3",
   "language": "python",
   "name": "python3"
  },
  "language_info": {
   "codemirror_mode": {
    "name": "ipython",
    "version": 3
   },
   "file_extension": ".py",
   "mimetype": "text/x-python",
   "name": "python",
   "nbconvert_exporter": "python",
   "pygments_lexer": "ipython3",
   "version": "3.7.3"
  }
 },
 "nbformat": 4,
 "nbformat_minor": 4
}
