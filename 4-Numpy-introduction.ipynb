{
 "cells": [
  {
   "cell_type": "markdown",
   "metadata": {},
   "source": [
    "# 4.0: NumPy: Numerical Python\n",
    "\n",
    "<img alt=\"Numpy logo\" align=\"right\" style=\"width:30%\" src=\"https://numpy.org/_static/numpy_logo.png\">\n",
    "\n",
    "NumPy is flipping excellent. NumPy is at the heart of almost all scientific Python applications. If you are\n",
    "not using NumPy directly you are probably using something that uses NumPy.  If you google around on the\n",
    "topic of Python, you will undoubtedly find people saying:\n",
    "\n",
    "> Python is slow\n",
    "\n",
    "and they are not wrong, Python itself isn't very fast (although if you are a good programmer and write idiomatic\n",
    "Python you can get Python to be fast enough for many applications), but one of the super-powers of Python\n",
    "is its extensibility. NumPy extends Python with many fast and well-tested C, C++ and Fortran libraries, and\n",
    "provides *the* way to handle n-dimensional (e.g. anything from 1D to ~(inf -1)D) arrays of data in Python.\n",
    "\n",
    "> **NumPy** is fast\n",
    "\n",
    "## 4.1: Speed\n",
    "\n",
    "Lets first show that speed, and some of the additional simplicity that NumPy brings.  Lets start by\n",
    "writing a function to add a number to every value in an array using a simple loop."
   ]
  },
  {
   "cell_type": "code",
   "execution_count": 1,
   "metadata": {},
   "outputs": [],
   "source": [
    "%matplotlib widget"
   ]
  },
  {
   "cell_type": "code",
   "execution_count": 2,
   "metadata": {},
   "outputs": [],
   "source": [
    "def add_to_array(array, number_to_add):\n",
    "    \"\"\" Add one number to all values in an array. \"\"\"\n",
    "    for number in array:\n",
    "        number += number_to_add\n",
    "    return array"
   ]
  },
  {
   "cell_type": "markdown",
   "metadata": {},
   "source": [
    "To test how long his takes and compare to NumPy we will create an array (similar to a list)\n",
    "of 1 million random numbers.  We will use NumPy's \n",
    "[random.randn](https://docs.scipy.org/doc/numpy-1.14.0/reference/generated/numpy.random.randn.html#numpy.random.randn) \n",
    "function to make this array.  It is a standard convention to `import numpy as np`, you don't have to,\n",
    "it is just people being lazy and trying to avoid typing `numpy` quite so many times.\n",
    "\n",
    "To check what we have made we will look at the shape of the array. Every NumPy array has a `.shape` property,\n",
    "which tells us the dimensions of the array (remember that a NumPy array is n-dimensional).  This shape is\n",
    "returned as a `tuple` (hence the round brackets and comma).  We will make a 1x1e6 array, being 1D, only the\n",
    "length is given."
   ]
  },
  {
   "cell_type": "code",
   "execution_count": 3,
   "metadata": {},
   "outputs": [
    {
     "name": "stdout",
     "output_type": "stream",
     "text": [
      "(1000000,)\n"
     ]
    }
   ],
   "source": [
    "import numpy as np\n",
    "\n",
    "array = np.random.randn(int(1e6))\n",
    "print(array.shape)"
   ]
  },
  {
   "cell_type": "markdown",
   "metadata": {},
   "source": [
    "Great, we have an array!  Lets try using our function to add 2 to every value in the array.  We don't really care\n",
    "about the outcome of this, but we will test how long it takes using the `timeit` magic.  This is a jupyter/ipython\n",
    "inline decorator. The outcome of it is that it times how long our function takes an averages over many loops.\n",
    "Another aside: the line `# NBVAL_IGNORE_OUTPUT` is just for testing of notebooks, ignore it."
   ]
  },
  {
   "cell_type": "code",
   "execution_count": 4,
   "metadata": {},
   "outputs": [
    {
     "name": "stdout",
     "output_type": "stream",
     "text": [
      "281 ms ± 6.8 ms per loop (mean ± std. dev. of 7 runs, 1 loop each)\n"
     ]
    }
   ],
   "source": [
    "# NBVAL_IGNORE_OUTPUT\n",
    "%timeit add_to_array(array, 2)"
   ]
  },
  {
   "cell_type": "markdown",
   "metadata": {},
   "source": [
    "On my computer I get something around 220 milli-seconds. \n",
    "\n",
    "Lets try the same with NumPy's add. We can just use the `+` symbol, or the `+=` for in-place\n",
    "addition (note `+=` is faster, but doesn't work with the `timeit` magic)."
   ]
  },
  {
   "cell_type": "code",
   "execution_count": 5,
   "metadata": {},
   "outputs": [
    {
     "name": "stdout",
     "output_type": "stream",
     "text": [
      "876 µs ± 31.1 µs per loop (mean ± std. dev. of 7 runs, 1000 loops each)\n"
     ]
    }
   ],
   "source": [
    "# NBVAL_IGNORE_OUTPUT\n",
    "%timeit array + 2"
   ]
  },
  {
   "cell_type": "markdown",
   "metadata": {},
   "source": [
    "On my computer I get something around 920 micro-seconds, or around 200 times faster.  Both times are quite fast,\n",
    "but when you are doing an operation many times, NumPy gets you free speed, yay!"
   ]
  },
  {
   "cell_type": "markdown",
   "metadata": {},
   "source": [
    "So, NumPy is fast for some things... We are not going to provide an exhaustive NumPy tutorial here, for that\n",
    "look to the [canonical NumPy tutorial](https://numpy.org/devdocs/user/quickstart.html). Instead, lets focus on\n",
    "why you should (or might) care about NumPy by playing with some data.\n",
    "\n",
    "## 4.2: Reading in data: DFDP-2 temperatures\n",
    "\n",
    "In late 2013 to early 2014, we (led by scientists from VUW, GNS University of Otago and many other institutions\n",
    "around the world) drilled an hole near the Alpine Fault.  Unfortunately we came up short of the Alpine Fault,\n",
    "but we got some pretty amazing data from the hole.  The temperatures we observed were pretty unusual, and were\n",
    "the topic of a [Nature paper led by Rupert Sutherland](https://www.nature.com/articles/nature22355).  We provided\n",
    "the temperature data alongside the paper (temperatures were measured using a distributed fibre-optic sensing method), and I have extracted a subset of the data for us to play with here.\n",
    "\n",
    "If for some reason someone comes across these notebook and wants to use these data, get the raw data from the\n",
    "paper and cite the paper!\n",
    "\n",
    "NumPy provides a nice way to load data from a text-file:"
   ]
  },
  {
   "cell_type": "code",
   "execution_count": 6,
   "metadata": {},
   "outputs": [
    {
     "name": "stdout",
     "output_type": "stream",
     "text": [
      "[[ 0.00000e+00  2.40000e-02  0.00000e+00  0.00000e+00  0.00000e+00\n",
      "           nan]\n",
      " [ 1.00000e+00  2.60000e-02  0.00000e+00  0.00000e+00  1.00000e+00\n",
      "   1.10590e+01]\n",
      " [ 2.00000e+00  3.00000e-02 -1.00000e-03  0.00000e+00  2.00000e+00\n",
      "   1.05640e+01]\n",
      " ...\n",
      " [ 8.91000e+02  4.42910e+01 -8.14500e+01  2.40027e+02  8.16568e+02\n",
      "           nan]\n",
      " [ 8.92000e+02  4.43390e+01 -8.16570e+01  2.40694e+02  8.17283e+02\n",
      "           nan]\n",
      " [ 8.93000e+02  4.43820e+01 -8.18640e+01  2.41362e+02  8.17998e+02\n",
      "           nan]]\n"
     ]
    }
   ],
   "source": [
    "temp_data = np.loadtxt(\n",
    "    \"data/Sutherland_etal_DFDP_temperatures.csv\", delimiter=\",\",\n",
    "    skiprows=1)\n",
    "print(temp_data)"
   ]
  },
  {
   "cell_type": "markdown",
   "metadata": {},
   "source": [
    "Here we used the `delimiter` argument to tell NumPy that the file is comma separated (its a csv file),\n",
    "and the `skiprows` argument to skip the header. Lets check what that header is:"
   ]
  },
  {
   "cell_type": "code",
   "execution_count": 7,
   "metadata": {},
   "outputs": [
    {
     "name": "stdout",
     "output_type": "stream",
     "text": [
      "﻿Drilled depth (m),Tilt (Degrees),Distance E (m),Distance N (m),True Vertical Depth (m),Temperature (degrees C)\n",
      "\n"
     ]
    }
   ],
   "source": [
    "with open(\"data/Sutherland_etal_DFDP_temperatures.csv\", \"r\") as f:\n",
    "    # Open the file read-only in a context-manager\n",
    "    print(f.readline())\n",
    "    # Read one line (the zeroth) from the file and print it."
   ]
  },
  {
   "cell_type": "markdown",
   "metadata": {},
   "source": [
    "Now we know what is in each column. We will see in the [pandas notebook](5-Pandas-introduction.ipynb) that there are nicer ways of working with these kinds of data, but for now lets focus on NumPy.\n",
    "\n",
    "## 4.3: Indexing and slicing NumPy arrays\n",
    "\n",
    "We can access the parts of the array by index, or slice.  A slice is a range of indexes, and allows us to grab\n",
    "chunks of an array.  Lets work out what our array looks like and extract some data from it:"
   ]
  },
  {
   "cell_type": "code",
   "execution_count": 8,
   "metadata": {},
   "outputs": [
    {
     "name": "stdout",
     "output_type": "stream",
     "text": [
      "(894, 6)\n"
     ]
    }
   ],
   "source": [
    "print(temp_data.shape)"
   ]
  },
  {
   "cell_type": "markdown",
   "metadata": {},
   "source": [
    "This means that our array has 894 x 6 elements, at the moment our data are indexed by row first, then column,\n",
    "so that if we get the zeroth index of our data it will be the first row:"
   ]
  },
  {
   "cell_type": "code",
   "execution_count": 9,
   "metadata": {},
   "outputs": [
    {
     "data": {
      "text/plain": [
       "array([0.   , 0.024, 0.   , 0.   , 0.   ,   nan])"
      ]
     },
     "execution_count": 9,
     "metadata": {},
     "output_type": "execute_result"
    }
   ],
   "source": [
    "temp_data[0]"
   ]
  },
  {
   "cell_type": "markdown",
   "metadata": {},
   "source": [
    "If we want the temperature (column 5, starting from 0) from the 4th row we would have to do:"
   ]
  },
  {
   "cell_type": "code",
   "execution_count": 10,
   "metadata": {},
   "outputs": [
    {
     "data": {
      "text/plain": [
       "9.798"
      ]
     },
     "execution_count": 10,
     "metadata": {},
     "output_type": "execute_result"
    }
   ],
   "source": [
    "temp_data[4][5]"
   ]
  },
  {
   "cell_type": "markdown",
   "metadata": {},
   "source": [
    "This is all well and good, but I prefer to think of data like this in columns first, then rows.  We can transpose our data to get\n",
    "it into the shape we want:"
   ]
  },
  {
   "cell_type": "code",
   "execution_count": 11,
   "metadata": {},
   "outputs": [
    {
     "name": "stdout",
     "output_type": "stream",
     "text": [
      "(6, 894)\n"
     ]
    }
   ],
   "source": [
    "temp_data = temp_data.T\n",
    "print(temp_data.shape)"
   ]
  },
  {
   "cell_type": "markdown",
   "metadata": {},
   "source": [
    "Now we can easily get all the temperatures by extracting the 5th column:"
   ]
  },
  {
   "cell_type": "code",
   "execution_count": 12,
   "metadata": {},
   "outputs": [
    {
     "data": {
      "text/plain": [
       "array([    nan,  11.059,  10.564,  10.121,   9.798,   9.679,   9.61 ,\n",
       "         9.603,   9.614,   9.621,   9.623,   9.628,   9.635,   9.637,\n",
       "         9.655,   9.679,   9.692,   9.754,   9.874,  10.034,  10.14 ,\n",
       "        10.197,  10.261,  10.327,  10.409,  10.472,  10.543,  10.622,\n",
       "        10.714,  10.758,  10.771,  10.782,  10.821,  10.904,  10.964,\n",
       "        10.961,  10.987,  11.019,  11.068,  11.092,  11.131,  11.202,\n",
       "        11.227,  11.25 ,  11.311,  11.335,  11.388,  11.457,  11.557,\n",
       "        11.704,  11.841,  11.963,  12.122,  12.267,  12.406,  12.563,\n",
       "        12.716,  12.865,  12.974,  13.107,  13.297,  13.535,  13.822,\n",
       "        14.018,  14.162,  14.273,  14.341,  14.365,  14.39 ,  14.408,\n",
       "        14.455,  14.541,  14.722,  15.16 ,  15.821,  16.252,  16.633,\n",
       "        17.019,  17.338,  17.664,  17.983,  18.272,  18.546,  18.835,\n",
       "        19.092,  19.328,  19.582,  19.865,  20.124,  20.355,  20.601,\n",
       "        20.841,  21.076,  21.325,  21.575,  21.796,  22.037,  22.277,\n",
       "        22.491,  22.726,  22.951,  23.178,  23.416,  23.64 ,  23.858,\n",
       "        24.072,  24.283,  24.488,  24.707,  24.918,  25.136,  25.357,\n",
       "        25.554,  25.751,  25.941,  26.136,  26.346,  26.548,  26.76 ,\n",
       "        26.953,  27.116,  27.307,  27.501,  27.693,  27.911,  28.087,\n",
       "        28.252,  28.439,  28.633,  28.816,  28.996,  29.199,  29.383,\n",
       "        29.571,  29.738,  29.911,  30.084,  30.263,  30.44 ,  30.617,\n",
       "        30.781,  30.964,  31.126,  31.29 ,  31.486,  31.655,  31.819,\n",
       "        31.985,  32.142,  32.323,  32.503,  32.663,  32.826,  32.994,\n",
       "        33.147,  33.298,  33.463,  33.619,  33.782,  33.957,  34.118,\n",
       "        34.265,  34.421,  34.567,  34.745,  34.894,  35.035,  35.196,\n",
       "        35.317,  35.442,  35.573,  35.722,  35.848,  35.978,  36.122,\n",
       "        36.254,  36.374,  36.52 ,  36.661,  36.793,  36.935,  37.107,\n",
       "        37.242,  37.344,  37.484,  37.639,  37.785,  37.954,  38.102,\n",
       "        38.224,  38.376,  38.526,  38.669,  38.828,  38.961,  39.096,\n",
       "        39.235,  39.325,  39.412,  39.517,  39.607,  39.686,  39.777,\n",
       "        39.857,  39.928,  39.99 ,  40.038,  40.079,  40.161,  40.226,\n",
       "        40.296,  40.393,  40.473,  40.552,  40.692,  40.855,  41.038,\n",
       "        41.221,  41.437,  41.666,  41.885,  42.085,  42.272,  42.484,\n",
       "        42.698,  42.957,  43.18 ,  43.407,  43.644,  43.881,  44.1  ,\n",
       "        44.313,  44.525,  44.712,  44.896,  45.064,  45.223,  45.4  ,\n",
       "        45.577,  45.755,  45.96 ,  46.134,  46.332,  46.524,  46.722,\n",
       "        46.931,  47.14 ,  47.325,  47.522,  47.752,  47.954,  48.171,\n",
       "        48.378,  48.589,  48.802,  48.999,  49.22 ,  49.479,  49.72 ,\n",
       "        49.943,  50.178,  50.38 ,  50.57 ,  50.777,  50.972,  51.154,\n",
       "        51.333,  51.509,  51.683,  51.858,  52.04 ,  52.222,  52.408,\n",
       "        52.556,  52.702,  52.884,  53.06 ,  53.221,  53.375,  53.553,\n",
       "        53.735,  53.892,  54.059,  54.216,  54.375,  54.547,  54.724,\n",
       "        54.889,  55.061,  55.208,  55.346,  55.497,  55.674,  55.828,\n",
       "        55.999,  56.154,  56.306,  56.441,  56.604,  56.775,  56.92 ,\n",
       "        57.069,  57.206,  57.352,  57.496,  57.633,  57.788,  57.932,\n",
       "        58.084,  58.234,  58.354,  58.501,  58.652,  58.801,  58.958,\n",
       "        59.096,  59.234,  59.397,  59.544,  59.691,  59.836,  59.973,\n",
       "        60.122,  60.281,  60.413,  60.55 ,  60.687,  60.82 ,  60.994,\n",
       "        61.13 ,  61.289,  61.448,  61.594,  61.757,  61.903,  62.061,\n",
       "        62.23 ,  62.353,  62.503,  62.66 ,  62.817,  62.968,  63.126,\n",
       "        63.263,  63.41 ,  63.555,  63.728,  63.861,  64.03 ,  64.185,\n",
       "        64.317,  64.466,  64.632,  64.767,  64.91 ,  65.054,  65.177,\n",
       "        65.33 ,  65.471,  65.59 ,  65.727,  65.863,  65.982,  66.118,\n",
       "        66.288,  66.44 ,  66.571,  66.716,  66.821,  66.972,  67.115,\n",
       "        67.229,  67.369,  67.5  ,  67.635,  67.757,  67.883,  68.023,\n",
       "        68.168,  68.302,  68.418,  68.548,  68.681,  68.809,  68.953,\n",
       "        69.086,  69.215,  69.353,  69.482,  69.612,  69.721,  69.859,\n",
       "        69.988,  70.155,  70.324,  70.501,  70.64 ,  70.76 ,  70.883,\n",
       "        70.995,  71.119,  71.274,  71.423,  71.556,  71.693,  71.847,\n",
       "        71.979,  72.109,  72.249,  72.368,  72.468,  72.579,  72.719,\n",
       "        72.856,  72.978,  73.113,  73.22 ,  73.336,  73.445,  73.563,\n",
       "        73.677,  73.778,  73.908,  74.044,  74.179,  74.288,  74.411,\n",
       "        74.548,  74.66 ,  74.782,  74.922,  75.059,  75.166,  75.275,\n",
       "        75.395,  75.509,  75.648,  75.75 ,  75.856,  75.974,  76.073,\n",
       "        76.21 ,  76.346,  76.481,  76.607,  76.701,  76.834,  76.959,\n",
       "        77.072,  77.204,  77.33 ,  77.437,  77.574,  77.688,  77.815,\n",
       "        77.95 ,  78.09 ,  78.213,  78.329,  78.45 ,  78.558,  78.688,\n",
       "        78.805,  78.943,  79.059,  79.138,  79.253,  79.392,  79.487,\n",
       "        79.612,  79.73 ,  79.829,  79.95 ,  80.069,  80.184,  80.299,\n",
       "        80.431,  80.557,  80.695,  80.82 ,  80.935,  81.058,  81.166,\n",
       "        81.287,  81.427,  81.544,  81.647,  81.773,  81.889,  81.992,\n",
       "        82.084,  82.188,  82.287,  82.395,  82.51 ,  82.614,  82.719,\n",
       "        82.833,  82.942,  83.061,  83.187,  83.274,  83.36 ,  83.471,\n",
       "        83.589,  83.686,  83.792,  83.89 ,  83.965,  84.079,  84.198,\n",
       "        84.311,  84.448,  84.562,  84.655,  84.762,  84.861,  84.982,\n",
       "        85.1  ,  85.209,  85.325,  85.453,  85.557,  85.635,  85.794,\n",
       "        85.883,  85.942,  86.074,  86.211,  86.336,  86.432,  86.504,\n",
       "        86.607,  86.72 ,  86.873,  86.984,  87.106,  87.215,  87.32 ,\n",
       "        87.429,  87.54 ,  87.69 ,  87.798,  87.897,  88.042,  88.184,\n",
       "        88.294,  88.422,  88.533,  88.628,  88.72 ,  88.832,  88.959,\n",
       "        89.088,  89.25 ,  89.38 ,  89.432,  89.5  ,  89.619,  89.794,\n",
       "        89.884,  90.03 ,  90.186,  90.299,  90.398,  90.521,  90.63 ,\n",
       "        90.736,  90.871,  90.988,  91.089,  91.212,  91.34 ,  91.468,\n",
       "        91.593,  91.735,  91.88 ,  92.03 ,  92.175,  92.342,  92.53 ,\n",
       "        92.59 ,  92.634,  92.669,  92.701,  92.759,  92.881,  93.083,\n",
       "        93.231,  93.347,  93.491,  93.591,  93.687,  93.808,  93.936,\n",
       "        94.05 ,  94.154,  94.269,  94.39 ,  94.487,  94.592,  94.733,\n",
       "        94.85 ,  94.965,  95.081,  95.191,  95.335,  95.454,  95.591,\n",
       "        95.724,  95.846,  95.985,  96.112,  96.245,  96.37 ,  96.483,\n",
       "        96.608,  96.739,  96.859,  96.982,  97.094,  97.221,  97.35 ,\n",
       "        97.482,  97.602,  97.722,  97.854,  97.969,  98.099,  98.213,\n",
       "        98.32 ,  98.429,  98.549,  98.647,  98.746,  98.855,  98.942,\n",
       "        99.017,  99.124,  99.24 ,  99.339,  99.431,  99.551,  99.642,\n",
       "        99.731,  99.853,  99.954, 100.063, 100.191, 100.29 , 100.391,\n",
       "       100.483, 100.597, 100.706, 100.775, 100.876, 100.988, 101.083,\n",
       "       101.192, 101.284, 101.362, 101.455, 101.525, 101.625, 101.736,\n",
       "       101.824, 101.964, 102.032, 102.063, 102.124, 102.19 , 102.263,\n",
       "       102.305, 102.395, 102.544, 102.653, 102.766, 102.858, 102.951,\n",
       "       103.05 , 103.153, 103.235, 103.335, 103.433, 103.498, 103.591,\n",
       "       103.679, 103.755, 103.853, 103.963, 104.054, 104.143, 104.24 ,\n",
       "       104.333, 104.41 , 104.504, 104.584, 104.671, 104.776, 104.86 ,\n",
       "       104.934, 105.01 , 105.113, 105.208, 105.312, 105.42 , 105.516,\n",
       "       105.611, 105.704, 105.806, 105.888, 105.986, 106.082, 106.163,\n",
       "       106.271, 106.332, 106.407, 106.488, 106.563, 106.621, 106.696,\n",
       "       106.775, 106.829, 106.914, 106.99 , 107.05 , 107.108, 107.155,\n",
       "       107.22 , 107.259, 107.286, 107.307, 107.318, 107.323, 107.314,\n",
       "       107.301, 107.305, 107.304, 107.306, 107.327, 107.314, 107.332,\n",
       "       107.363, 107.361, 107.363, 107.385, 107.397, 107.412, 107.413,\n",
       "       107.424, 107.426, 107.433, 107.456, 107.471, 107.486, 107.497,\n",
       "       107.511, 107.515, 107.53 , 107.554, 107.554, 107.576, 107.592,\n",
       "       107.612, 107.639, 107.669, 107.692, 107.7  , 107.72 , 107.746,\n",
       "       107.755, 107.778, 107.792, 107.793, 107.825, 107.855, 107.879,\n",
       "       107.913, 107.943, 107.968, 107.989, 108.027, 108.048, 108.067,\n",
       "       108.085, 108.123, 108.143, 108.165, 108.204, 108.232, 108.265,\n",
       "       108.297, 108.328, 108.354, 108.403, 108.416, 108.422, 108.449,\n",
       "       108.47 , 108.481, 108.484, 108.488, 108.511, 108.534, 108.539,\n",
       "       108.558, 108.574, 108.601, 108.622, 108.632, 108.665, 108.695,\n",
       "       108.707, 108.756, 108.79 , 108.798, 108.822, 108.864, 108.879,\n",
       "       108.888, 108.931, 108.95 , 108.973, 109.002, 109.021, 109.056,\n",
       "       109.077, 109.1  , 109.124, 109.136, 109.155, 109.188, 109.203,\n",
       "       109.211, 109.247, 109.273, 109.303, 109.318, 109.344, 109.365,\n",
       "       109.378, 109.377, 109.378, 109.402, 109.428, 109.435, 109.45 ,\n",
       "       109.47 , 109.494, 109.531, 109.561, 109.601, 109.675, 109.752,\n",
       "       109.79 , 109.852, 109.918, 109.941, 109.994, 110.028, 110.062,\n",
       "       110.113, 110.131, 110.174, 110.219, 110.247, 110.27 , 110.311,\n",
       "       110.34 , 110.384, 110.399, 110.435, 110.46 , 110.472, 110.502,\n",
       "       110.554, 110.587, 110.612, 110.617, 110.631, 110.697, 110.711,\n",
       "       110.813, 110.804, 110.654, 110.974, 110.593, 110.475,     nan,\n",
       "           nan,     nan,     nan,     nan,     nan])"
      ]
     },
     "execution_count": 12,
     "metadata": {},
     "output_type": "execute_result"
    }
   ],
   "source": [
    "temp_data[5]"
   ]
  },
  {
   "cell_type": "markdown",
   "metadata": {},
   "source": [
    "That looks horrible, lets plot it. I will plot against drilled depth here, which is in the zeroth column."
   ]
  },
  {
   "cell_type": "code",
   "execution_count": 13,
   "metadata": {},
   "outputs": [
    {
     "data": {
      "application/vnd.jupyter.widget-view+json": {
       "model_id": "601b905e31d846e486d9625e2de6aaff",
       "version_major": 2,
       "version_minor": 0
      },
      "text/plain": [
       "Canvas(toolbar=Toolbar(toolitems=[('Home', 'Reset original view', 'home', 'home'), ('Back', 'Back to previous …"
      ]
     },
     "metadata": {},
     "output_type": "display_data"
    }
   ],
   "source": [
    "import matplotlib.pyplot as plt\n",
    "\n",
    "fig, ax = plt.subplots()\n",
    "ax.plot(temp_data[5], temp_data[0])\n",
    "ax.set_xlabel(\"Temperature (deg C)\")\n",
    "ax.set_ylabel(\"Depth (m)\")\n",
    "ax.set_title(\"DFDP2 Downhole Temperatures from Sutherland et al., 2017\")\n",
    "ax.invert_yaxis()  # Invert the y-axis so increasing depth is down\n",
    "plt.show()"
   ]
  },
  {
   "cell_type": "markdown",
   "metadata": {},
   "source": [
    "## 4.4: Array maths: calculating temperature gradient\n",
    "\n",
    "In the paper, we calculated temperature gradients in degrees per km.  This is simply division, and we can do this really\n",
    "easily with NumPy. A simple formula:\n",
    "\\begin{equation}\n",
    "    T\\ gradient = \\frac{change\\ in\\ T}{change\\ in\\ depth}\n",
    "\\end{equation}\n",
    "\n",
    "So, we need the change in temperature and change in depth at every step. We can do this by subtracting a 1-sample\n",
    "shifted version of our column of interest from the column, e.g."
   ]
  },
  {
   "cell_type": "code",
   "execution_count": 14,
   "metadata": {},
   "outputs": [],
   "source": [
    "temperature_change = temp_data[5][1:] - temp_data[5][0:-1]"
   ]
  },
  {
   "cell_type": "markdown",
   "metadata": {},
   "source": [
    "This looks a bit funky, but all that we have done is sliced our array so that we get the fifth column (the temperatures)\n",
    "(using the `[5]` index) and taken the elements of that column between the zeroth to n-1-th indexes away from\n",
    "that data from the same column, but from the 1st to the n-th index. \n",
    "\n",
    "We will do the same for the depth:"
   ]
  },
  {
   "cell_type": "code",
   "execution_count": 15,
   "metadata": {},
   "outputs": [],
   "source": [
    "depth_change =  temp_data[0][1:] - temp_data[0][0:-1]"
   ]
  },
  {
   "cell_type": "markdown",
   "metadata": {},
   "source": [
    "Lets plot our change in temperature to make sure we have something sensible.  We need to plot against depth, but our change in temperature\n",
    "is an average over a depth range. We will plot against the mid-point of the depths that the change in temperature is calculated over, lets\n",
    "make a new array that is that mid-point depth:"
   ]
  },
  {
   "cell_type": "code",
   "execution_count": 16,
   "metadata": {},
   "outputs": [],
   "source": [
    "mid_point_depth = temp_data[0][0:-1] + depth_change / 2"
   ]
  },
  {
   "cell_type": "markdown",
   "metadata": {},
   "source": [
    "All that we have done is add half the change in depth to the depth. We have to ignore the final depth sample because\n",
    "we don't have a gradient that corresponds to this (there is no data beyond the end of the borehole).\n",
    "\n",
    "Now we can plot again:"
   ]
  },
  {
   "cell_type": "code",
   "execution_count": 17,
   "metadata": {},
   "outputs": [
    {
     "data": {
      "application/vnd.jupyter.widget-view+json": {
       "model_id": "27f0c7d29bb64c86b5244493adbb05cf",
       "version_major": 2,
       "version_minor": 0
      },
      "text/plain": [
       "Canvas(toolbar=Toolbar(toolitems=[('Home', 'Reset original view', 'home', 'home'), ('Back', 'Back to previous …"
      ]
     },
     "metadata": {},
     "output_type": "display_data"
    }
   ],
   "source": [
    "fig, ax = plt.subplots()\n",
    "ax.plot(temperature_change, mid_point_depth)\n",
    "ax.set_xlabel(\"Temperature change (deg C)\")\n",
    "ax.set_ylabel(\"Mid-point depth (m)\")\n",
    "ax.set_title(\"DFDP2 Downhole Temperatures from Sutherland et al., 2017\")\n",
    "ax.invert_yaxis()  # Invert the y-axis so increasing depth is down\n",
    "plt.show()"
   ]
  },
  {
   "cell_type": "markdown",
   "metadata": {},
   "source": [
    "Now we have the change in temperature and the change in depth we can calculate the temperature gradient at each point as a simple\n",
    "division.\n",
    "\n",
    "To get the units into degrees per km we will divide our change in depth by 1000 to convert to km first."
   ]
  },
  {
   "cell_type": "code",
   "execution_count": 18,
   "metadata": {},
   "outputs": [],
   "source": [
    "depth_change /= 1000\n",
    "temperature_gradient = temperature_change / depth_change"
   ]
  },
  {
   "cell_type": "markdown",
   "metadata": {},
   "source": [
    "Again, lets plot the result at the mid-points:"
   ]
  },
  {
   "cell_type": "code",
   "execution_count": 19,
   "metadata": {},
   "outputs": [
    {
     "data": {
      "application/vnd.jupyter.widget-view+json": {
       "model_id": "7aa7e47b3baf488b91323412d158722d",
       "version_major": 2,
       "version_minor": 0
      },
      "text/plain": [
       "Canvas(toolbar=Toolbar(toolitems=[('Home', 'Reset original view', 'home', 'home'), ('Back', 'Back to previous …"
      ]
     },
     "metadata": {},
     "output_type": "display_data"
    }
   ],
   "source": [
    "fig, ax = plt.subplots()\n",
    "ax.plot(temperature_gradient, mid_point_depth)\n",
    "ax.set_xlabel(\"Temperature gradient (deg C / km)\")\n",
    "ax.set_ylabel(\"Mid-point depth (m)\")\n",
    "ax.set_title(\"DFDP2 Downhole Temperatures from Sutherland et al., 2017\")\n",
    "ax.invert_yaxis()  # Invert the y-axis so increasing depth is down\n",
    "plt.show()"
   ]
  },
  {
   "cell_type": "markdown",
   "metadata": {},
   "source": [
    "A brief inspection shows that the last two plots look very similar, this is because the depth sampling is 1m.\n",
    "\n",
    "**But wait!**  This isn't a true depth profile, this is just drilled depth...  We didn't drill a straight hole\n",
    "(not deliberately, but these things happen when you are a few hundred meters down in highly-foliated schist...).\n",
    "\n",
    "Lets have a look at what the hole looks like:"
   ]
  },
  {
   "cell_type": "code",
   "execution_count": 20,
   "metadata": {},
   "outputs": [
    {
     "data": {
      "application/vnd.jupyter.widget-view+json": {
       "model_id": "e23ce05a5bdd4f04a4cb95de32c8d925",
       "version_major": 2,
       "version_minor": 0
      },
      "text/plain": [
       "Canvas(toolbar=Toolbar(toolitems=[('Home', 'Reset original view', 'home', 'home'), ('Back', 'Back to previous …"
      ]
     },
     "metadata": {},
     "output_type": "display_data"
    }
   ],
   "source": [
    "horizontal_distance = np.sqrt(temp_data[2] ** 2 + temp_data[3] ** 2)\n",
    "fig, ax = plt.subplots()\n",
    "ax.plot(horizontal_distance, temp_data[4])\n",
    "ax.set_xlabel(\"Horizontal distance from pad (m)\")\n",
    "ax.set_ylabel(\"True Vertical Depth (m)\")\n",
    "ax.set_title(\"DFDP2 hole profile\")\n",
    "ax.invert_yaxis()  # Invert the y-axis so increasing depth is down\n",
    "plt.show()"
   ]
  },
  {
   "cell_type": "markdown",
   "metadata": {},
   "source": [
    "# Exercise:\n",
    "\n",
    "Plot the temperature gradient against true vertical depth.  You will need to recalculate the depth changes and the temperature gradient to do this.\n",
    "\n",
    "Do your plots look like the plot in the [Sutherland et al. paper](https://www.nature.com/articles/nature22355)?"
   ]
  },
  {
   "cell_type": "code",
   "execution_count": 21,
   "metadata": {},
   "outputs": [],
   "source": [
    "# Your answer here"
   ]
  },
  {
   "cell_type": "markdown",
   "metadata": {},
   "source": [
    "## 4.5: Saving your data\n",
    "\n",
    "So you have dome some cool things to your data, and you want to save your work.  You should always save your\n",
    "notebook or scripts, and they should be your *sacred* way of doing your analysis.  But it is also\n",
    "good to actually write out the data that you have processed.  With NumPy there are a few ways that you\n",
    "can do that.  One of the simplest ways is using the \n",
    "[savetxt](https://docs.scipy.org/doc/numpy/reference/generated/numpy.savetxt.html) function:"
   ]
  },
  {
   "cell_type": "code",
   "execution_count": 22,
   "metadata": {},
   "outputs": [],
   "source": [
    "np.savetxt(\"data/temperature_gradient.txt\", temperature_gradient)"
   ]
  },
  {
   "cell_type": "markdown",
   "metadata": {},
   "source": [
    "Lets check what is in that file by printing the first five lines:"
   ]
  },
  {
   "cell_type": "code",
   "execution_count": 23,
   "metadata": {},
   "outputs": [
    {
     "name": "stdout",
     "output_type": "stream",
     "text": [
      "nan\n",
      "-4.949999999999992042e+02\n",
      "-4.429999999999996021e+02\n",
      "-3.230000000000003979e+02\n",
      "-1.189999999999997726e+02\n"
     ]
    }
   ],
   "source": [
    "with open(\"data/temperature_gradient.txt\", \"r\") as f:\n",
    "    for i in range(5):\n",
    "        print(f.readline().rstrip())"
   ]
  },
  {
   "cell_type": "markdown",
   "metadata": {},
   "source": [
    "Looks correct.  Note that the `.rstrip` method on a string strips trailing white-space characters, in\n",
    "this case it removes a new-line (`\\n`) character.\n",
    "\n",
    "## 4.-1: Summary\n",
    "\n",
    "NumPy is at the heart of most scientific Python, but it can be unintuitive when thinking about many Earth science datasets. Having to remember which column and row things should be in can be a little frustrating. This is one of the things that Pandas can help us with and we will showcase in the [pandas notebook](5-Pandas-introduction.ipynb)."
   ]
  }
 ],
 "metadata": {
  "kernelspec": {
   "display_name": "Python 3",
   "language": "python",
   "name": "python3"
  },
  "language_info": {
   "codemirror_mode": {
    "name": "ipython",
    "version": 3
   },
   "file_extension": ".py",
   "mimetype": "text/x-python",
   "name": "python",
   "nbconvert_exporter": "python",
   "pygments_lexer": "ipython3",
   "version": "3.7.6"
  }
 },
 "nbformat": 4,
 "nbformat_minor": 4
}
