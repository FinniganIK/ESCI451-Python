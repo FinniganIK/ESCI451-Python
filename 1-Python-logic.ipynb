{
 "cells": [
  {
   "cell_type": "markdown",
   "metadata": {},
   "source": [
    "# 1: Logic in Python\n",
    "\n",
    "<img alt=\"xkcd automation\" align=\"right\" style=\"width:40%\" src=\"https://imgs.xkcd.com/comics/automation.png\">\n",
    "\n",
    "One of the main goals of programming is to automate things. The main reasons for this are:\n",
    "\n",
    "1. Doing dull things manually is boring and you, a highly trained scientist, should be doing \n",
    "   something more worthwhile than moving decimal points in spreadsheets;\n",
    "2. Reproducibility: someone should be able to take what you hae done and re-do it, without\n",
    "   your \"fudging\". The more your \"expert opinion\" is used to generate a result, the less\n",
    "   trust-worthy that result is.\n",
    "3. Safety: you will cock something up (likely many things, that is what learning is about)\n",
    "   while doing your science; if you write a program to do the thing, and write it well, you\n",
    "   should just have to make minor adjustments to fix the issue and re-run it, rather than\n",
    "   having to re-do all the boring work (see 1).\n",
    "   \n",
    "Sometimes automation takes ages... you will learn at some point (or not in my case) what the\n",
    "most efficient use of your time is (see comic).\n",
    "   \n",
    "To be able to automate things, you need to understand some basic computer logic.  These concepts\n",
    "are pretty much universal.  In this notebook we will introduce:\n",
    "\n",
    "1. For loops\n",
    "2. If/else statements\n",
    "3. While loops\n",
    "4. Sorting lists\n",
    "\n",
    "We will also showcase some nicities/nuances that Python has for these."
   ]
  },
  {
   "cell_type": "markdown",
   "metadata": {},
   "source": [
    "# Looping\n",
    "\n",
    "There are two main ways to loop in Python, `for` loops and `while` loops.  You will likely find yourself using\n",
    "`for` loops more-often than `while` loops, but we will introduce both. the main difference is that `for` loops\n",
    "iterate through a range of variables, whereas `while` loops operate repeatedly until some condition is met.\n",
    "We will talk about conditions in the `if`/`else` section, before getting onto `while` loops.\n",
    "\n",
    "The following two loops are equivelant, but the `for` loop is more expressive and usually safer (`while` loops\n",
    "are the cause of many infinite loops...):"
   ]
  },
  {
   "cell_type": "code",
   "execution_count": 1,
   "metadata": {},
   "outputs": [
    {
     "name": "stdout",
     "output_type": "stream",
     "text": [
      "0\n",
      "1\n",
      "2\n",
      "3\n",
      "4\n"
     ]
    }
   ],
   "source": [
    "for i in range(5):\n",
    "    print(i)"
   ]
  },
  {
   "cell_type": "code",
   "execution_count": 2,
   "metadata": {},
   "outputs": [
    {
     "name": "stdout",
     "output_type": "stream",
     "text": [
      "0\n",
      "1\n",
      "2\n",
      "3\n",
      "4\n"
     ]
    }
   ],
   "source": [
    "i = 0\n",
    "while i < 5:\n",
    "    print(i)\n",
    "    i += 1"
   ]
  },
  {
   "cell_type": "markdown",
   "metadata": {},
   "source": [
    "## `for` loops\n",
    "\n",
    "`for` loops allow us to iterate through some *iterable*. Often this *iterable* is a `list`, but it doesn't have to be\n",
    "(the `range` function above creates a `range` object, which is a type of [sequence](https://docs.python.org/3/library/stdtypes.html#typesseq)).\n",
    "\n",
    "If we have any `list` an we want to apply the same process to every element in that list we can use a `for` loop (there are better/faster\n",
    "ways to do this for numeric types using **numpy**, and we will showcase those in the [numpy](4-Numpy-introduction.ipynb) notebook).\n",
    "\n",
    "In Python, `for` loops start with:\n",
    "```python\n",
    "for variable in iterable:\n",
    "    do_something\n",
    "```\n",
    "where `variable` is a newly defined variable that equates to each element of the `iterable` in turn. At the end of the loop\n",
    "`variable` will be the value of `iterable[-1]`. `iterable` is something that can be iterated over.  The `for` and `in` are\n",
    "Python *keywords* that Python knows how to interpret. The colon (`:`) at the end of the `for` line shows that that statement\n",
    "has finished.\n",
    "\n",
    "All the statements that should be implemented within the loop **must** be indented, this indentation *should* be 4 spaces\n",
    "(not a tab).  \n",
    "\n",
    "**Never mix tabs and spaces!**  \n",
    "\n",
    "When the indentation ends, the loop ends.\n",
    "\n",
    "For example, say we wanted to make a list of word lengths for a given sentence:"
   ]
  },
  {
   "cell_type": "code",
   "execution_count": 3,
   "metadata": {},
   "outputs": [
    {
     "name": "stdout",
     "output_type": "stream",
     "text": [
      "Monty is 5 char long\n",
      "Python is 6 char long\n",
      "and is 3 char long\n",
      "the is 3 char long\n",
      "Holy is 4 char long\n",
      "Grail is 5 char long\n",
      "[5, 6, 3, 3, 4, 5]\n"
     ]
    }
   ],
   "source": [
    "sentence = \"Monty Python and the Holy Grail\"\n",
    "words = sentence.split(\" \")\n",
    "\n",
    "word_lengths = []  # Define an empty list that we will append to\n",
    "for word in words:\n",
    "    word_length = len(word)\n",
    "    print(f\"{word} is {word_length} char long\")\n",
    "    word_lengths.append(word_length)\n",
    "\n",
    "print(word_lengths)"
   ]
  },
  {
   "cell_type": "markdown",
   "metadata": {},
   "source": [
    "Lets play with some real data.  In the data directory (directory is a unix-y word for a folder) there is a text-file containing\n",
    "the ground accelerations measured in [Wellington](https://www.geonet.org.nz/data/network/sensor/WEL)\n",
    "during the Kaikoura earthquake.  I downloaded these data and manipulated them\n",
    "using Python tools (those doing GPHS445 will learn these tools soon) and formatted them into a simple text-file.  We will:\n",
    "\n",
    "0. Open this file\n",
    "1. Read this file using a for loop\n",
    "2. Work out the average acceleration\n",
    "3. Remove the average acceleration from all values\n",
    "4. Plot the results (note more plotting is to come, so we will skim over the details here).\n",
    "\n",
    "This example is not Python best-practice, and if you find yourself using time-series data like this, Numpy will\n",
    "be your friend.  We will show some different examples of similar things in the [numpy](4-Numpy-introduction.ipynb)\n",
    "notebook.\n",
    "\n",
    "### 0: Opening files:\n",
    "\n",
    "In Python, files are opened using the `open` function.  The syntax for this function is:\n",
    "```python\n",
    "open(filename, mode)\n",
    "```\n",
    "where `filename` is the file you want to open (note if the file is not in your current working directory, e.g. where you are,\n",
    "then you will need to specify the full path to the file) and `mode` is how you want to open the file. The main ones we\n",
    "will use are:\n",
    "\n",
    "- `r` to open the file in read mode\n",
    "- `w` to open the file in write mode, this allows you to write to the file\n",
    "- `a` to open the file in append mode, this allows you to write more data to the end of the file\n",
    "\n",
    "Our file is in the `data` directory, so we need to specify the path for it, and we want to open\n",
    "in read mode:"
   ]
  },
  {
   "cell_type": "code",
   "execution_count": 4,
   "metadata": {},
   "outputs": [
    {
     "name": "stdout",
     "output_type": "stream",
     "text": [
      "<_io.TextIOWrapper name='data/Kaikoura_acceleration_in_wellington.txt' mode='r' encoding='UTF-8'>\n"
     ]
    }
   ],
   "source": [
    "open_file = open(\"data/Kaikoura_acceleration_in_wellington.txt\", mode=\"r\")\n",
    "print(open_file)"
   ]
  },
  {
   "cell_type": "markdown",
   "metadata": {},
   "source": [
    "### 1: Reading data from the file\n",
    "\n",
    "Once we have an open file, we can iterate through the lines in the file using a for loop:"
   ]
  },
  {
   "cell_type": "code",
   "execution_count": 5,
   "metadata": {},
   "outputs": [
    {
     "name": "stdout",
     "output_type": "stream",
     "text": [
      "Read in 1841 samples\n",
      "[0.50074274, 0.49951969, 0.50078667, 0.49956336, 0.5008345, 0.4996077, 0.5008761, 0.49964785, 0.50091492, 0.4996899]\n"
     ]
    }
   ],
   "source": [
    "accelerations = []  # Note that these are in m/s^2\n",
    "for line in open_file:\n",
    "    accelerations.append(float(line))  # We need to convert the strings read in to floats\n",
    "\n",
    "print(f\"Read in {len(accelerations)} samples\")\n",
    "print(accelerations[0:10])\n",
    "\n",
    "# Note, if you re-run this then you will not be returned anything, you need to return to the\n",
    "# start of the file using `open_file.seek(0)`"
   ]
  },
  {
   "cell_type": "markdown",
   "metadata": {},
   "source": [
    "We should always close the file once you are done with it:"
   ]
  },
  {
   "cell_type": "code",
   "execution_count": 6,
   "metadata": {},
   "outputs": [],
   "source": [
    "open_file.close()"
   ]
  },
  {
   "cell_type": "markdown",
   "metadata": {},
   "source": [
    "A better way to do this is to use a *context-manager*, you don't need to know what this is, but a nice\n",
    "rule to follow is to open files like the example below:"
   ]
  },
  {
   "cell_type": "code",
   "execution_count": 7,
   "metadata": {},
   "outputs": [
    {
     "name": "stdout",
     "output_type": "stream",
     "text": [
      "Read in 1841 samples\n",
      "[0.50074274, 0.49951969, 0.50078667, 0.49956336, 0.5008345, 0.4996077, 0.5008761, 0.49964785, 0.50091492, 0.4996899]\n"
     ]
    }
   ],
   "source": [
    "with open(\"data/Kaikoura_acceleration_in_wellington.txt\", mode=\"r\") as f:\n",
    "    accelerations = []\n",
    "    for line in f:\n",
    "        accelerations.append(float(line))\n",
    "\n",
    "print(f\"Read in {len(accelerations)} samples\")\n",
    "print(accelerations[0:10])"
   ]
  },
  {
   "cell_type": "markdown",
   "metadata": {},
   "source": [
    "When you leave the context-manager (indicated by reducing the indent level to the same as the `with` statement) the file will\n",
    "be closed for you.  This is simpler and safer, always good!"
   ]
  },
  {
   "cell_type": "markdown",
   "metadata": {},
   "source": [
    "### 2: Finding the mean\n",
    "\n",
    "We can loop through the list to calculate the sum, then divide by the length:"
   ]
  },
  {
   "cell_type": "code",
   "execution_count": 8,
   "metadata": {},
   "outputs": [
    {
     "name": "stdout",
     "output_type": "stream",
     "text": [
      "Cumulative acceleration is 920.4865030700008 m/s^2\n",
      "Mean acceleration is 0.4999926686963611 m/s^2\n"
     ]
    }
   ],
   "source": [
    "cumulative_acceleration = 0\n",
    "for acceleration in accelerations:\n",
    "    cumulative_acceleration += acceleration\n",
    "\n",
    "print(f\"Cumulative acceleration is {cumulative_acceleration} m/s^2\")\n",
    "\n",
    "mean_acceleration = cumulative_acceleration / len(accelerations)\n",
    "\n",
    "print(f\"Mean acceleration is {mean_acceleration} m/s^2\")"
   ]
  },
  {
   "cell_type": "markdown",
   "metadata": {},
   "source": [
    "Note that this is not very efficient, but lists can be summed using a Python native function to speed things up a bit:"
   ]
  },
  {
   "cell_type": "code",
   "execution_count": 9,
   "metadata": {},
   "outputs": [
    {
     "name": "stdout",
     "output_type": "stream",
     "text": [
      "Mean acceleration is 0.4999926686963611 m/s^2\n"
     ]
    }
   ],
   "source": [
    "cumulative_acceleration = sum(accelerations)\n",
    "mean_acceleration = cumulative_acceleration / len(accelerations)\n",
    "print(f\"Mean acceleration is {mean_acceleration} m/s^2\")"
   ]
  },
  {
   "cell_type": "markdown",
   "metadata": {},
   "source": [
    "### 3: Removing the mean\n",
    "\n",
    "The mean is quite large, so we will remove it.  Again, we will use a `for` loop:"
   ]
  },
  {
   "cell_type": "code",
   "execution_count": 12,
   "metadata": {},
   "outputs": [],
   "source": [
    "accelerations_demeaned = []\n",
    "for acceleration in accelerations:\n",
    "    accelerations_demeaned.append(acceleration - mean_acceleration)"
   ]
  },
  {
   "cell_type": "markdown",
   "metadata": {},
   "source": [
    "Lets recalculate the mean to make sure it is now zero (or close to zero taking into account rounding errors):"
   ]
  },
  {
   "cell_type": "code",
   "execution_count": 13,
   "metadata": {},
   "outputs": [
    {
     "name": "stdout",
     "output_type": "stream",
     "text": [
      "Mean acceleration is -4.3655103070404714e-16 m/s^2\n"
     ]
    }
   ],
   "source": [
    "cumulative_acceleration = sum(accelerations_demeaned)\n",
    "mean_acceleration = cumulative_acceleration / len(accelerations_demeaned)\n",
    "print(f\"Mean acceleration is {mean_acceleration} m/s^2\")"
   ]
  },
  {
   "cell_type": "markdown",
   "metadata": {},
   "source": [
    "This is pretty much as close to zero as we are going to get taking into account the precision of floating point numbers."
   ]
  },
  {
   "cell_type": "markdown",
   "metadata": {},
   "source": [
    "### Plotting our data\n",
    "\n",
    "We will make a simple plot of acceleration against sample number using matplotlib.  Matplotlib is a plotting\n",
    "package for Python, we will talk about it more in the [plotting](3-Basic-plotting.ipynb) notebook.\n",
    "\n",
    "To access the functions in a package we need to import it.  Unlike Matlab, not all packages are imported\n",
    "when you start Python; this makes Python faster to start, lighter and means that you don't run the risk of\n",
    "having two functions with the same name being called wrongly.\n",
    "\n",
    "We will follow the standard convention for importing matplotlib:"
   ]
  },
  {
   "cell_type": "code",
   "execution_count": 14,
   "metadata": {},
   "outputs": [],
   "source": [
    "# To get plots to render in the notebook we need to include this \"magic\" line.\n",
    "%matplotlib widget\n",
    "import matplotlib.pyplot as plt  # This imports the matplotlib.pyplot package and renames it temporarily as plt"
   ]
  },
  {
   "cell_type": "markdown",
   "metadata": {},
   "source": [
    "We can make simple plots using `plt.plot(x, y)`, first we need to make a range of x values, then use that:"
   ]
  },
  {
   "cell_type": "code",
   "execution_count": 17,
   "metadata": {},
   "outputs": [
    {
     "data": {
      "application/vnd.jupyter.widget-view+json": {
       "model_id": "e58d30fde66b4cdc9ab93303aa8fe9c7",
       "version_major": 2,
       "version_minor": 0
      },
      "text/plain": [
       "Canvas(toolbar=Toolbar(toolitems=[('Home', 'Reset original view', 'home', 'home'), ('Back', 'Back to previous …"
      ]
     },
     "metadata": {},
     "output_type": "display_data"
    }
   ],
   "source": [
    "sampling_rate = 10.0  # This is the number of samples per second of the data.\n",
    "times = []\n",
    "for i in range(len(accelerations)):\n",
    "    times.append(i / sampling_rate)\n",
    "\n",
    "fig, ax = plt.subplots()\n",
    "ax.plot(times, accelerations)\n",
    "ax.set_xlabel(\"Time (s)\")\n",
    "ax.set_ylabel(\"Acceleration ($m/s^2$)\")\n",
    "plt.show()"
   ]
  },
  {
   "cell_type": "markdown",
   "metadata": {},
   "source": [
    "To compare the two, we can plot both the demeaned data and the raw data on the same graph, using different colours:"
   ]
  },
  {
   "cell_type": "code",
   "execution_count": 18,
   "metadata": {},
   "outputs": [
    {
     "data": {
      "application/vnd.jupyter.widget-view+json": {
       "model_id": "969441b58f1f443182f2a088c7dc4f92",
       "version_major": 2,
       "version_minor": 0
      },
      "text/plain": [
       "Canvas(toolbar=Toolbar(toolitems=[('Home', 'Reset original view', 'home', 'home'), ('Back', 'Back to previous …"
      ]
     },
     "metadata": {},
     "output_type": "display_data"
    }
   ],
   "source": [
    "fig, ax = plt.subplots()\n",
    "ax.plot(times, accelerations, color=\"black\")\n",
    "ax.plot(times, accelerations_demeaned, color=\"red\")\n",
    "ax.set_xlabel(\"Time (s)\")\n",
    "ax.set_ylabel(\"Acceleration ($m/s^2$)\")\n",
    "plt.show()"
   ]
  },
  {
   "cell_type": "markdown",
   "metadata": {},
   "source": [
    "## Exercise:\n",
    "\n",
    "Normalise the demeaned data such that the maximum amplitude = 1.  You can do this by dividing all values in the list by the\n",
    "maximum amplitude.  Plot the resulting acceleration graph (time-series) with the non-normalised data plotted on top of it."
   ]
  },
  {
   "cell_type": "code",
   "execution_count": 19,
   "metadata": {},
   "outputs": [],
   "source": [
    "# Your answer here"
   ]
  },
  {
   "cell_type": "markdown",
   "metadata": {},
   "source": [
    "# `if`/`else` conditions\n",
    "\n",
    "Switches or conditional statements allow a programmer to control the flow of a program, and react to events.\n",
    "\n",
    "The basic syntax of conditional statements in Python is:\n",
    "\n",
    "```python\n",
    "if condition:\n",
    "    do_something()\n",
    "elif another_condition:\n",
    "    do_something_else()\n",
    "else:\n",
    "    do_anything()\n",
    "```\n",
    "\n",
    "As usual, indentation is used to show the start and end of sections of code, and colons are used to show the\n",
    "end of a statement.  The three keywords here, `if`, `elif` and `else` do the following:\n",
    "- `if` evaluates whether `condition` is `True`, and runs the section of code indented beneath \n",
    "   it (`do_somtheting()`) if `condition` is `True`;\n",
    "- `elif` is evaluated if `condition` is `False`. This is a second `if` conditional that evaluates\n",
    "  whether `another_condition` is `True`. The function `do_somthing_else` is only run if\n",
    "  `condition` is `False` and `another_condition` is `True`.\n",
    "- `else` catches any cases where the previous `if` statements evaluated to False. `do_anything` is\n",
    "  run when both `condition` and `another_condition` are `False`.\n",
    "  \n",
    "This is a little confusing to write, so it probably doesn't make much sense to read! Lets have a look at\n",
    "an example.  First note that mathematical conditions work in Python:\n",
    "- `a == b` is `True` when the values of `a` and `b` are the same\n",
    "- `a < b` is `True` when the value of `a` is less than the value of `b`\n",
    "- ... The expected things happen for `>`, `>=` and `<=`. These symbols are known as *comparison operators* in Python."
   ]
  },
  {
   "cell_type": "code",
   "execution_count": 20,
   "metadata": {},
   "outputs": [
    {
     "name": "stdout",
     "output_type": "stream",
     "text": [
      "Your number must be equal to 5!\n"
     ]
    }
   ],
   "source": [
    "a = 5\n",
    "\n",
    "# This is a pretty dumb example! But we will do some more fun things in a minute\n",
    "if a < 5:\n",
    "    print(\"That is a small number, less than 5\")\n",
    "elif a > 5:\n",
    "    print(\"That is a larger number, greater than 5\")\n",
    "else:\n",
    "    print(\"Your number must be equal to 5!\")"
   ]
  },
  {
   "cell_type": "markdown",
   "metadata": {},
   "source": [
    "The logic of this toy example is to first check if the number assigned to the variable *a* is less than 5, it isn't, so \n",
    "the second, `elif` statement is evaluated to see if a is greater than 5. It isn't so the final `else` statement is run.\n",
    "\n",
    "We can combine loops and conditional statements to extract information from lists.  We will work out when our acceleration\n",
    "time-series rises above 0.5 m/s^2.  First we will read back in the data, just in case you tampered with the in-memory\n",
    "representation:"
   ]
  },
  {
   "cell_type": "code",
   "execution_count": 21,
   "metadata": {},
   "outputs": [],
   "source": [
    "with open(\"data/Kaikoura_acceleration_in_wellington.txt\", mode=\"r\") as f:\n",
    "    accelerations = []\n",
    "    for line in f:\n",
    "        accelerations.append(float(line))\n",
    "\n",
    "mean_acceleration = sum(accelerations) / len(accelerations)\n",
    "demeaned_acceleration = []\n",
    "for acceleration in accelerations:\n",
    "    demeaned_acceleration.append(acceleration - mean_acceleration)"
   ]
  },
  {
   "cell_type": "markdown",
   "metadata": {},
   "source": [
    "Now we can set some threshold (we will use a variable here so that you can play around with this and get different results):"
   ]
  },
  {
   "cell_type": "code",
   "execution_count": 22,
   "metadata": {},
   "outputs": [
    {
     "name": "stdout",
     "output_type": "stream",
     "text": [
      "Threshold exceeded at index 877 by value 0.5473739213036388\n",
      "Large negative acceleration found at index 892, value: -0.5870554886963611\n"
     ]
    }
   ],
   "source": [
    "acceleration_threshold = 0.5\n",
    "\n",
    "# the enumerate function allows us to iterate through a list \n",
    "# and get the index of the element (i in this case) at the same time.\n",
    "for i, acceleration in enumerate(demeaned_acceleration):\n",
    "    if acceleration > acceleration_threshold:\n",
    "        print(f\"Threshold exceeded at index {i} by value {acceleration}\")\n",
    "    elif acceleration < -1 * acceleration_threshold:\n",
    "        print(f\"Large negative acceleration found at index {i}, value: {acceleration}\")\n",
    "    # We aren't doing anything with the other values, so we don't need an else statement"
   ]
  },
  {
   "cell_type": "markdown",
   "metadata": {},
   "source": [
    "Lets work out the total time that the absolute acceleration was above 0.25 m/s^2 during the Kaikoura wavetrain:"
   ]
  },
  {
   "cell_type": "code",
   "execution_count": 23,
   "metadata": {},
   "outputs": [
    {
     "name": "stdout",
     "output_type": "stream",
     "text": [
      "1.9s with absolute acceleration above 0.25 m/s^2\n"
     ]
    }
   ],
   "source": [
    "acceleration_threshold = 0.25\n",
    "sampling_rate = 10.0\n",
    "cumulative_time = 0\n",
    "\n",
    "for acceleration in demeaned_acceleration:\n",
    "    if acceleration > acceleration_threshold:\n",
    "        cumulative_time += 1\n",
    "    elif acceleration < -1 * acceleration_threshold:\n",
    "        cumulative_time += 1\n",
    "\n",
    "cumulative_time /= sampling_rate\n",
    "print(f\"{cumulative_time}s with absolute acceleration above {acceleration_threshold} m/s^2\")"
   ]
  },
  {
   "cell_type": "markdown",
   "metadata": {},
   "source": [
    "This is slightly clumsy.  If we want the same result for two different conditions we can chain them together in an if statement\n",
    "using an `or` conditional keyword. Lets re-write the above using a chained `if` statement:"
   ]
  },
  {
   "cell_type": "code",
   "execution_count": 24,
   "metadata": {},
   "outputs": [
    {
     "name": "stdout",
     "output_type": "stream",
     "text": [
      "1.9s with absolute acceleration above 0.25 m/s^2\n"
     ]
    }
   ],
   "source": [
    "acceleration_threshold = 0.25\n",
    "sampling_rate = 10.0\n",
    "cumulative_time = 0\n",
    "\n",
    "for acceleration in demeaned_acceleration:\n",
    "    if acceleration > acceleration_threshold or acceleration < -1 * acceleration_threshold:\n",
    "        cumulative_time += 1\n",
    "\n",
    "cumulative_time /= sampling_rate\n",
    "print(f\"{cumulative_time}s with absolute acceleration above {acceleration_threshold} m/s^2\")"
   ]
  },
  {
   "cell_type": "markdown",
   "metadata": {},
   "source": [
    "In this case there is actually a better way to get the sam result, using the `abs` built-in function to get the absolute value of\n",
    "acceleration, without the need for the second `if` conditional:"
   ]
  },
  {
   "cell_type": "code",
   "execution_count": 25,
   "metadata": {},
   "outputs": [
    {
     "name": "stdout",
     "output_type": "stream",
     "text": [
      "1.9s with absolute acceleration above 0.25 m/s^2\n"
     ]
    }
   ],
   "source": [
    "acceleration_threshold = 0.25\n",
    "sampling_rate = 10.0\n",
    "cumulative_time = 0\n",
    "\n",
    "for acceleration in demeaned_acceleration:\n",
    "    # Note that acceleration is replaced with abs(acceleration)\n",
    "    if abs(acceleration) > acceleration_threshold:\n",
    "        cumulative_time += 1\n",
    "\n",
    "cumulative_time /= sampling_rate\n",
    "print(f\"{cumulative_time}s with absolute acceleration above {acceleration_threshold} m/s^2\")"
   ]
  },
  {
   "cell_type": "markdown",
   "metadata": {},
   "source": [
    "As well as the `or` conditional keyword there are others:\n",
    "- `and` for chaining conditions together, the total conditional will only evaluate to `True` if all conditions joined with `and` are met;\n",
    "- `in` for testing if something is within another object, useful for checking if something is in a `list`;\n",
    "- `is` tests whether something is the same as another thing, rather than just testing the value;\n",
    "- `not` reverses any test.\n",
    "\n",
    "Some examples:"
   ]
  },
  {
   "cell_type": "code",
   "execution_count": 26,
   "metadata": {},
   "outputs": [
    {
     "data": {
      "text/plain": [
       "False"
      ]
     },
     "execution_count": 26,
     "metadata": {},
     "output_type": "execute_result"
    }
   ],
   "source": [
    "a = 1\n",
    "b = 3\n",
    "c = 42\n",
    "\n",
    "# Example of an or conditional\n",
    "a > b or a > c"
   ]
  },
  {
   "cell_type": "code",
   "execution_count": 27,
   "metadata": {},
   "outputs": [
    {
     "data": {
      "text/plain": [
       "True"
      ]
     },
     "execution_count": 27,
     "metadata": {},
     "output_type": "execute_result"
    }
   ],
   "source": [
    "a > b or a < c"
   ]
  },
  {
   "cell_type": "code",
   "execution_count": 28,
   "metadata": {},
   "outputs": [
    {
     "data": {
      "text/plain": [
       "False"
      ]
     },
     "execution_count": 28,
     "metadata": {},
     "output_type": "execute_result"
    }
   ],
   "source": [
    "a > b and a < c"
   ]
  },
  {
   "cell_type": "code",
   "execution_count": 29,
   "metadata": {},
   "outputs": [
    {
     "data": {
      "text/plain": [
       "True"
      ]
     },
     "execution_count": 29,
     "metadata": {},
     "output_type": "execute_result"
    }
   ],
   "source": [
    "a < b and a < c"
   ]
  },
  {
   "cell_type": "code",
   "execution_count": 30,
   "metadata": {},
   "outputs": [
    {
     "data": {
      "text/plain": [
       "True"
      ]
     },
     "execution_count": 30,
     "metadata": {},
     "output_type": "execute_result"
    }
   ],
   "source": [
    "a < b and not a > c"
   ]
  },
  {
   "cell_type": "code",
   "execution_count": 31,
   "metadata": {},
   "outputs": [
    {
     "data": {
      "text/plain": [
       "True"
      ]
     },
     "execution_count": 31,
     "metadata": {},
     "output_type": "execute_result"
    }
   ],
   "source": [
    "d = [1, 4, 12]\n",
    "\n",
    "a in d"
   ]
  },
  {
   "cell_type": "code",
   "execution_count": 32,
   "metadata": {},
   "outputs": [
    {
     "data": {
      "text/plain": [
       "False"
      ]
     },
     "execution_count": 32,
     "metadata": {},
     "output_type": "execute_result"
    }
   ],
   "source": [
    "c in d"
   ]
  },
  {
   "cell_type": "markdown",
   "metadata": {},
   "source": [
    "# While loops:\n",
    "\n",
    "While loops are helpful for iterating through some list until you reach some state, for example, if you want to find the first\n",
    "instance of something in a list:"
   ]
  },
  {
   "cell_type": "code",
   "execution_count": 33,
   "metadata": {},
   "outputs": [
    {
     "name": "stdout",
     "output_type": "stream",
     "text": [
      "['The', 'cat', 'sat', 'on', 'the', 'mat', 'then', 'jumped', 'across', 'the', 'dog']\n",
      "Found mat at index 5\n"
     ]
    }
   ],
   "source": [
    "sentence = \"The cat sat on the mat then jumped across the dog\"\n",
    "words = sentence.split(\" \")\n",
    "print(words)\n",
    "\n",
    "i = 0\n",
    "word = words[i]\n",
    "while not word == \"mat\":\n",
    "    i += 1\n",
    "    word = words[i]\n",
    "print(f\"Found {word} at index {i}\")"
   ]
  },
  {
   "cell_type": "markdown",
   "metadata": {},
   "source": [
    "Lets make a time-series of our data up to the point where we first get large accelerations.  We will start by reading the data in again in-case you\n",
    "have changed the in-memory representation."
   ]
  },
  {
   "cell_type": "code",
   "execution_count": 34,
   "metadata": {},
   "outputs": [],
   "source": [
    "with open(\"data/Kaikoura_acceleration_in_wellington.txt\", mode=\"r\") as f:\n",
    "    accelerations = []\n",
    "    for line in f:\n",
    "        accelerations.append(float(line))\n",
    "\n",
    "mean_acceleration = sum(accelerations) / len(accelerations)\n",
    "demeaned_acceleration = []\n",
    "for acceleration in accelerations:\n",
    "    demeaned_acceleration.append(acceleration - mean_acceleration)"
   ]
  },
  {
   "cell_type": "code",
   "execution_count": 35,
   "metadata": {},
   "outputs": [],
   "source": [
    "acceleration_threshold = 0.25\n",
    "\n",
    "initial_accelerations = []\n",
    "i = 0\n",
    "acceleration = demeaned_acceleration[0]\n",
    "while acceleration <= acceleration_threshold:\n",
    "    initial_accelerations.append(acceleration)\n",
    "    i += 1\n",
    "    acceleration = demeaned_acceleration[i]"
   ]
  },
  {
   "cell_type": "code",
   "execution_count": 36,
   "metadata": {},
   "outputs": [
    {
     "data": {
      "application/vnd.jupyter.widget-view+json": {
       "model_id": "d14fafc6b99746e491cea20b0230e3a0",
       "version_major": 2,
       "version_minor": 0
      },
      "text/plain": [
       "Canvas(toolbar=Toolbar(toolitems=[('Home', 'Reset original view', 'home', 'home'), ('Back', 'Back to previous …"
      ]
     },
     "metadata": {},
     "output_type": "display_data"
    }
   ],
   "source": [
    "sampling_rate = 10.0\n",
    "times = []\n",
    "\n",
    "for i in range(len(demeaned_acceleration)):\n",
    "    times.append(i / sampling_rate)\n",
    "\n",
    "fig, ax = plt.subplots()\n",
    "ax.plot(times, demeaned_acceleration, color=\"black\")\n",
    "ax.plot(times[0:len(initial_accelerations)], initial_accelerations, color=\"red\")\n",
    "ax.set_xlabel(\"Time (s)\")\n",
    "ax.set_ylabel(\"Acceleration ($m/s^2$)\")\n",
    "plt.show()"
   ]
  },
  {
   "cell_type": "code",
   "execution_count": null,
   "metadata": {},
   "outputs": [],
   "source": []
  }
 ],
 "metadata": {
  "kernelspec": {
   "display_name": "Python 3",
   "language": "python",
   "name": "python3"
  },
  "language_info": {
   "codemirror_mode": {
    "name": "ipython",
    "version": 3
   },
   "file_extension": ".py",
   "mimetype": "text/x-python",
   "name": "python",
   "nbconvert_exporter": "python",
   "pygments_lexer": "ipython3",
   "version": "3.7.6"
  }
 },
 "nbformat": 4,
 "nbformat_minor": 4
}
