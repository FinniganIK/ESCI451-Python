{
 "cells": [
  {
   "cell_type": "markdown",
   "metadata": {},
   "source": [
    "<div>\n",
    "    <img src=\"https://scitools.org.uk/cartopy/docs/latest/_static/cartopy.png\"><br>\n",
    "</div>\n",
    "\n",
    "# Mapping with Cartopy\n",
    "\n",
    "Earth Science is, shockingly, about the Earth, and often involves making maps. Thankfully, we don't have to \n",
    "continue to draw maps by hand, and you can even consider putting away your colouring pencils (but keep them \n",
    "close at hand, just in case).\n",
    "\n",
    "There are many tools out there for making maps. For more advanced mapping, and interactive mapping you may\n",
    "want to consider working with GIS (Geographic Information System) tools like [QGIS](https://www.qgis.org/en/site/). \n",
    "We won't cover GIS here, and in fact SGEES has a whole [Masters program dedicated to GIS](https://www.wgtn.ac.nz/explore/postgraduate-programmes/master-of-geographic-information-science/overview), as well as specific courses that you could take, like [GISC420](https://www.wgtn.ac.nz/courses/gisc/420/2021/offering?crn=33043).\n",
    "\n",
    "In this notebook we will cover some basic map-making using the Python package [cartopy](https://scitools.org.uk/cartopy/docs/latest/#).\n",
    "This is the new de-facto mapping package in Python, however it remains under development (as most open-source\n",
    "scientific software does!), so you can expect that some features will continue to be added. For what we show though,\n",
    "it does the job well.\n",
    "\n",
    "In this notebook we will cover:\n",
    "1. Basic map making;\n",
    "2. Changing map projections;\n",
    "3. Adding labels and map adornments (keys, grids, north arrows);\n",
    "4. Plotting some geospatial data;\n",
    "5. Making a cross-section through those data\n",
    "\n",
    "We will then advance on to making some more advanced maps with some fun datasets."
   ]
  },
  {
   "cell_type": "markdown",
   "metadata": {},
   "source": [
    "---\n",
    "\n",
    "## Basic Map Making\n",
    "\n",
    "To start off we will make a map of the world with coastlines. You should be familiar with using matplotlib by now,\n",
    "so a lot of the starting code will be familiar to you.\n",
    "\n",
    "First we will initialize the matplotlib notebook plotting widget:"
   ]
  },
  {
   "cell_type": "code",
   "execution_count": 1,
   "metadata": {},
   "outputs": [],
   "source": [
    "%matplotlib inline"
   ]
  },
  {
   "cell_type": "markdown",
   "metadata": {},
   "source": [
    "Then we can import the packages we need:"
   ]
  },
  {
   "cell_type": "code",
   "execution_count": 2,
   "metadata": {},
   "outputs": [],
   "source": [
    "import matplotlib.pyplot as plt\n",
    "import cartopy.crs as ccrs   # This is the Cartopy Co-ordinate Reference System that handles projections"
   ]
  },
  {
   "cell_type": "markdown",
   "metadata": {},
   "source": [
    "Now we can make a new figure and axis using similar syntax to before, but we will specify the projection."
   ]
  },
  {
   "cell_type": "code",
   "execution_count": 3,
   "metadata": {},
   "outputs": [
    {
     "data": {
      "image/png": "[encoded data removed]",
      "text/plain": [
       "<Figure size 432x288 with 1 Axes>"
      ]
     },
     "metadata": {
      "needs_background": "light"
     },
     "output_type": "display_data"
    }
   ],
   "source": [
    "fig, ax = plt.subplots(subplot_kw=dict(projection=ccrs.PlateCarree()))"
   ]
  },
  {
   "cell_type": "markdown",
   "metadata": {},
   "source": [
    "The [PlateCarree](https://scitools.org.uk/cartopy/docs/latest/crs/projections.html#platecarree) projection is a \n",
    "standard [equirectangular projection](https://en.wikipedia.org/wiki/Equirectangular_projection), and is often\n",
    "how latitude and longitude are defined. \n",
    "\n",
    "It doesn't look great! Lets plot the coastline and see how it looks. To add the coastline we just make a single,\n",
    "simple call:"
   ]
  },
  {
   "cell_type": "code",
   "execution_count": 4,
   "metadata": {},
   "outputs": [
    {
     "name": "stderr",
     "output_type": "stream",
     "text": [
      "/home/calumch/miniconda3/envs/conda_37/lib/python3.7/site-packages/ipykernel_launcher.py:2: UserWarning: Matplotlib is currently using module://ipykernel.pylab.backend_inline, which is a non-GUI backend, so cannot show the figure.\n",
      "  \n"
     ]
    }
   ],
   "source": [
    "ax.coastlines()\n",
    "fig.show()"
   ]
  },
  {
   "cell_type": "code",
   "execution_count": null,
   "metadata": {},
   "outputs": [],
   "source": []
  }
 ],
 "metadata": {
  "kernelspec": {
   "display_name": "Python 3",
   "language": "python",
   "name": "python3"
  },
  "language_info": {
   "codemirror_mode": {
    "name": "ipython",
    "version": 3
   },
   "file_extension": ".py",
   "mimetype": "text/x-python",
   "name": "python",
   "nbconvert_exporter": "python",
   "pygments_lexer": "ipython3",
   "version": "3.7.8"
  }
 },
 "nbformat": 4,
 "nbformat_minor": 4
}
