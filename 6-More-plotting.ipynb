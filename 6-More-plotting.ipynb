{
 "cells": [
  {
   "cell_type": "markdown",
   "metadata": {},
   "source": [
    "# 6.0: Plotting extended\n",
    "\n",
    "<img alt=\"matplotlib topo\" align=\"right\" style=\"width:40%\" src=\"https://matplotlib.org/3.1.1/_images/sphx_glr_topographic_hillshading_001.png\">\n",
    "\n",
    "Not all datasets fit into simple scatter, line or histogram plots. Python still has your back.\n",
    "We won't discuss it here, but Python is also good for plotting maps, but it is a little\n",
    "more advanced.  The best library is [cartopy](https://scitools.org.uk/cartopy/docs/latest/).\n",
    "\n",
    "\n",
    "\n",
    "Here we will cover:\n",
    "1. Density plotting with colourmaps - avoid overplotting\n",
    "2. Multi-axis plotting: scatter plotting geochemical data\n",
    "3. Circular plotting (rose/wind plots): plotting focal mechanisms from the NZ Moment Tensor database\n",
    "4. 3D plotting\n",
    "\n",
    "For more examples of what matplotlib can do, have a look at their\n",
    "[gallery](https://matplotlib.org/3.1.1/gallery/index.html). The image on the\n",
    "right is generated with matplotlib, and the [source code is here](https://matplotlib.org/3.1.1/gallery/specialty_plots/topographic_hillshading.html#sphx-glr-gallery-specialty-plots-topographic-hillshading-py)"
   ]
  },
  {
   "cell_type": "code",
   "execution_count": 1,
   "metadata": {},
   "outputs": [],
   "source": [
    "%matplotlib widget"
   ]
  },
  {
   "cell_type": "markdown",
   "metadata": {},
   "source": [
    "## 6.1: Density plotting\n",
    "\n",
    "Overplotting data can lead to miss-interpretation.  Overplotting is when you have\n",
    "many overlapping points on a plot. A simple example is a 2-D normal distribution\n",
    "sampled at discrete points:"
   ]
  },
  {
   "cell_type": "code",
   "execution_count": 2,
   "metadata": {},
   "outputs": [
    {
     "data": {
      "application/vnd.jupyter.widget-view+json": {
       "model_id": "44710bd7449a41238037efdb92cc09b3",
       "version_major": 2,
       "version_minor": 0
      },
      "text/plain": [
       "Canvas(toolbar=Toolbar(toolitems=[('Home', 'Reset original view', 'home', 'home'), ('Back', 'Back to previous …"
      ]
     },
     "metadata": {},
     "output_type": "display_data"
    }
   ],
   "source": [
    "import numpy as np\n",
    "import matplotlib.pyplot as plt\n",
    "\n",
    "# Set a random state so that I can test the output\n",
    "np.random.seed(42)\n",
    "\n",
    "n = 100000\n",
    "x = np.random.standard_normal(n)\n",
    "y = 2.0 + 3.0 * x + 4.0 * np.random.standard_normal(n)\n",
    "\n",
    "fig, ax = plt.subplots()\n",
    "ax.scatter(x, y)\n",
    "plt.show()"
   ]
  },
  {
   "cell_type": "markdown",
   "metadata": {},
   "source": [
    "There are *many* overlapping point here.  We would be better to represent these data by their\n",
    "density.  Matplotlib offers a few ways to do this, one of the simplest is the `hexbin`, which\n",
    "grids the data into hexagonal bins and uses colour to represent the number of points within\n",
    "that bin:"
   ]
  },
  {
   "cell_type": "code",
   "execution_count": 3,
   "metadata": {},
   "outputs": [
    {
     "data": {
      "application/vnd.jupyter.widget-view+json": {
       "model_id": "bf568781a01248c4b31e45de838d79eb",
       "version_major": 2,
       "version_minor": 0
      },
      "text/plain": [
       "Canvas(toolbar=Toolbar(toolitems=[('Home', 'Reset original view', 'home', 'home'), ('Back', 'Back to previous …"
      ]
     },
     "metadata": {},
     "output_type": "display_data"
    }
   ],
   "source": [
    "fig, ax = plt.subplots()\n",
    "collection = ax.hexbin(x, y)\n",
    "colorbar = fig.colorbar(collection)\n",
    "colorbar.set_label(\"Count\")"
   ]
  },
  {
   "cell_type": "markdown",
   "metadata": {},
   "source": [
    "If you find yourself with a dense 2D dataset, plotting the density of points can be really helpful!"
   ]
  },
  {
   "cell_type": "markdown",
   "metadata": {},
   "source": [
    "**Exercise:** Use the [hist2d](https://matplotlib.org/3.1.0/api/_as_gen/matplotlib.axes.Axes.hist2d.html#matplotlib.axes.Axes.hist2d) method to make a similar plot, but with square \"bars\"."
   ]
  },
  {
   "cell_type": "code",
   "execution_count": 4,
   "metadata": {},
   "outputs": [],
   "source": [
    "# Your answer here"
   ]
  },
  {
   "cell_type": "markdown",
   "metadata": {},
   "source": [
    "## 6.2: Multi-axis plotting\n",
    "\n",
    "### 6.2.1: Subplots\n",
    "\n",
    "We keep using the:\n",
    "```python\n",
    "fig, ax = plt.subplots()\n",
    "```\n",
    "syntax for starting a plotting session, but we haven't explored the strength of subplots.\n",
    "As the name suggests, subplots let you make multiple plots in one.  To explore this we will\n",
    "use a dataset provided by Colin Wilson that contains a range of geochemical data. These data are \n",
    "from the Huckleberry Ridge Tuff and were published in [Swallow et al., 2019](https://academic.oup.com/petrology/article/60/7/1371/5524670). \n",
    "\n",
    "We will read it\n",
    "in using pandas and make some scatter plots (as any *good/bad/indifferent* geochemist would/should). \n",
    "\n",
    "*Note:* The author is **not a geochemist** and doesn't know what plots are useful!"
   ]
  },
  {
   "cell_type": "code",
   "execution_count": 5,
   "metadata": {},
   "outputs": [
    {
     "name": "stdout",
     "output_type": "stream",
     "text": [
      "        SiO2 (wt%)  TiO2 (wt%)  Al2O3 (wt%)  Fe2O3 (T) (wt%)  MnO (wt%)  \\\n",
      "Sample                                                                    \n",
      "YP114        72.98        0.26        13.56             2.96       0.05   \n",
      "YP307        76.50        0.13        11.85             1.70       0.04   \n",
      "YP359        74.56        0.17        12.83             2.06       0.04   \n",
      "YP363        76.61        0.12        12.06             1.73       0.04   \n",
      "YP414        76.08        0.14        12.14             1.79       0.04   \n",
      "...            ...         ...          ...              ...        ...   \n",
      "YP564        76.64        0.17        12.23             2.13       0.02   \n",
      "YP603        76.93        0.19        11.77             2.29       0.04   \n",
      "YP081        75.68        0.10        12.81             1.84       0.04   \n",
      "YP133        76.69        0.10        12.04             1.55       0.02   \n",
      "YP600        76.39        0.10        12.54             1.59       0.03   \n",
      "\n",
      "        MgO (wt%)  CaO (wt%)  Na2O (wt%)  K2O (wt%)  P2O5 (wt%)  ...  \\\n",
      "Sample                                                           ...   \n",
      "YP114        0.08       0.82        4.05       5.22       0.040  ...   \n",
      "YP307        0.08       1.15        2.87       5.67       0.020  ...   \n",
      "YP359        0.23       1.28        2.95       5.86       0.030  ...   \n",
      "YP363        0.04       0.69        2.78       5.94       0.010  ...   \n",
      "YP414        0.06       0.96        2.77       5.99       0.020  ...   \n",
      "...           ...        ...         ...        ...         ...  ...   \n",
      "YP564        0.01       0.37        3.30       4.89       0.030  ...   \n",
      "YP603        0.01       0.39        3.48       4.58       0.020  ...   \n",
      "YP081        0.14       0.68        3.34       5.35       0.021  ...   \n",
      "YP133        0.25       1.45        3.03       4.85       0.020  ...   \n",
      "YP600        0.06       1.01        2.84       5.17       0.010  ...   \n",
      "\n",
      "        Dy (ppm)  Ho (ppm)  Er (ppm)  Tm (ppm)  Yb (ppm)  Lu (ppm)  Hf (ppm)  \\\n",
      "Sample                                                                         \n",
      "YP114       11.2   2.20002       6.4      0.89       5.7   0.82957       9.8   \n",
      "YP307       10.1   1.90000       6.0      0.82       5.3   0.88000       6.0   \n",
      "YP359        9.8   1.90000       5.6      0.75       4.9   0.85000       6.8   \n",
      "YP363       10.5   2.10000       6.3      0.89       5.6   1.02000       6.6   \n",
      "YP414        8.9   1.73000       5.3      0.73       4.6   0.84000       6.4   \n",
      "...          ...       ...       ...       ...       ...       ...       ...   \n",
      "YP564        9.0   1.70000       4.9      0.64       4.1   0.60000       8.1   \n",
      "YP603        7.2   1.47000       4.4      0.62       4.2   0.62000       8.2   \n",
      "YP081       14.7   3.00000       8.9      1.29       8.3   1.20000       7.8   \n",
      "YP133       11.9   2.40000       7.4      1.06       6.7   1.19000       7.0   \n",
      "YP600       12.2   2.40000       7.4      1.05       6.6   1.12000       6.9   \n",
      "\n",
      "        Pb (ppm)  Th (ppm)  U (ppm)  \n",
      "Sample                               \n",
      "YP114       25.0  19.36672      2.2  \n",
      "YP307       40.0  23.00000      4.5  \n",
      "YP359       55.0  23.00000      3.8  \n",
      "YP363       38.0  23.00000      5.1  \n",
      "YP414       28.0  20.00000      4.0  \n",
      "...          ...       ...      ...  \n",
      "YP564       38.0  21.00000      6.3  \n",
      "YP603       35.0  16.90000      4.2  \n",
      "YP081       29.0  31.00000      7.5  \n",
      "YP133       42.0  25.00000      6.4  \n",
      "YP600       80.0  25.00000      6.0  \n",
      "\n",
      "[65 rows x 38 columns]\n"
     ]
    }
   ],
   "source": [
    "import pandas as pd\n",
    "\n",
    "geochem = pd.read_csv(\n",
    "    \"data/Edited Swallow et al J Petrol data for plotting.csv\",\n",
    "    index_col=\"Sample\")\n",
    "print(geochem)"
   ]
  },
  {
   "cell_type": "markdown",
   "metadata": {},
   "source": [
    "Lets make a plot of P2O5 against SiO2:"
   ]
  },
  {
   "cell_type": "code",
   "execution_count": 6,
   "metadata": {},
   "outputs": [
    {
     "data": {
      "application/vnd.jupyter.widget-view+json": {
       "model_id": "76fa8622c74443288335f12546294f9c",
       "version_major": 2,
       "version_minor": 0
      },
      "text/plain": [
       "Canvas(toolbar=Toolbar(toolitems=[('Home', 'Reset original view', 'home', 'home'), ('Back', 'Back to previous …"
      ]
     },
     "metadata": {},
     "output_type": "display_data"
    }
   ],
   "source": [
    "fig, ax = plt.subplots()\n",
    "ax.scatter(geochem[\"SiO2 (wt%)\"], geochem[\"P2O5 (wt%)\"])\n",
    "ax.set_ylabel(\"$P_2O_5$ (wt%)\")\n",
    "ax.set_xlabel(\"$SiO_2$ (wt%)\")\n",
    "plt.show()"
   ]
  },
  {
   "cell_type": "markdown",
   "metadata": {},
   "source": [
    "Lets work towards plotting the first four major elements in the table ($TiO_2$, $Al_2O_3$, $Fe_2O_3 (T)$, $MnO$) against $Si0_2$.\n",
    "\n",
    "To do this we will need four axes.  We can make four axes using the `plt.subplots` command.  Lets get help for that function.  You can get to the docs for a given function by typing `function?`.  Run the cell below and you should see a pop-up of the docs."
   ]
  },
  {
   "cell_type": "code",
   "execution_count": 7,
   "metadata": {},
   "outputs": [],
   "source": [
    "plt.subplots?"
   ]
  },
  {
   "cell_type": "markdown",
   "metadata": {},
   "source": [
    "The arguments that we care about at the moment at:\n",
    "- `nrows`, the number of rows of subplots\n",
    "- `ncols`, the number of columns of subplots\n",
    "- `sharex`, whether axes should have the same x-axis.  We will be having $SiO_2$ on all the x-axes, so we will set this to be `True`.\n",
    "\n",
    "Lets make a 2x2 grid of subplots:"
   ]
  },
  {
   "cell_type": "code",
   "execution_count": 8,
   "metadata": {},
   "outputs": [
    {
     "data": {
      "application/vnd.jupyter.widget-view+json": {
       "model_id": "67e53a93e14c44dbb3d5a07727a2e8e8",
       "version_major": 2,
       "version_minor": 0
      },
      "text/plain": [
       "Canvas(toolbar=Toolbar(toolitems=[('Home', 'Reset original view', 'home', 'home'), ('Back', 'Back to previous …"
      ]
     },
     "metadata": {},
     "output_type": "display_data"
    }
   ],
   "source": [
    "fig, ax = plt.subplots(nrows=2, ncols=2, sharex=True)"
   ]
  },
  {
   "cell_type": "markdown",
   "metadata": {},
   "source": [
    "This returned two things as usual, `fig`: the `Figure` containing all our axes, and `ax`, which is a list of the subplot axes.  We can index those axes as usual.\n",
    "\n",
    "`ax` is indexed by column then row:"
   ]
  },
  {
   "cell_type": "code",
   "execution_count": 9,
   "metadata": {},
   "outputs": [
    {
     "data": {
      "application/vnd.jupyter.widget-view+json": {
       "model_id": "4504286b8bb849398c8a2c669e8245a6",
       "version_major": 2,
       "version_minor": 0
      },
      "text/plain": [
       "Canvas(toolbar=Toolbar(toolitems=[('Home', 'Reset original view', 'home', 'home'), ('Back', 'Back to previous …"
      ]
     },
     "metadata": {},
     "output_type": "display_data"
    }
   ],
   "source": [
    "fig, ax = plt.subplots(nrows=2, ncols=2, sharex=True)\n",
    "for column in range(2):\n",
    "    for row in range(2):\n",
    "        ax[column][row].set_title(f\"ax[{column}][{row}]\")"
   ]
  },
  {
   "cell_type": "markdown",
   "metadata": {},
   "source": [
    "Okay, so we can make some axes, handy. Now lets plot the data:"
   ]
  },
  {
   "cell_type": "code",
   "execution_count": 10,
   "metadata": {},
   "outputs": [
    {
     "data": {
      "application/vnd.jupyter.widget-view+json": {
       "model_id": "135e71b96081499b8d7d9d7c18045c47",
       "version_major": 2,
       "version_minor": 0
      },
      "text/plain": [
       "Canvas(toolbar=Toolbar(toolitems=[('Home', 'Reset original view', 'home', 'home'), ('Back', 'Back to previous …"
      ]
     },
     "metadata": {},
     "output_type": "display_data"
    }
   ],
   "source": [
    "fig, ax = plt.subplots(nrows=2, ncols=2, sharex=True)\n",
    "\n",
    "elements = [[\"TiO2 (wt%)\", \"Al2O3 (wt%)\"], [\"Fe2O3 (T) (wt%)\", \"MnO (wt%)\"]]\n",
    "for column in range(2):\n",
    "    for row in range(2):\n",
    "        element_name = elements[column][row]\n",
    "        ax[column][row].scatter(geochem[\"SiO2 (wt%)\"], geochem[element_name])\n",
    "        ax[column][row].set_ylabel(element_name)\n",
    "        ax[column][row].set_xlabel(\"$SiO_2$ (wt%)\")"
   ]
  },
  {
   "cell_type": "markdown",
   "metadata": {},
   "source": [
    "The y-axis labels overlap, we can shift the ones in column 1 to be on the right hand-side:"
   ]
  },
  {
   "cell_type": "code",
   "execution_count": 11,
   "metadata": {},
   "outputs": [
    {
     "data": {
      "application/vnd.jupyter.widget-view+json": {
       "model_id": "f5badef5036a470098107b87f92c02d9",
       "version_major": 2,
       "version_minor": 0
      },
      "text/plain": [
       "Canvas(toolbar=Toolbar(toolitems=[('Home', 'Reset original view', 'home', 'home'), ('Back', 'Back to previous …"
      ]
     },
     "metadata": {},
     "output_type": "display_data"
    }
   ],
   "source": [
    "fig, ax = plt.subplots(nrows=2, ncols=2, sharex=True)\n",
    "\n",
    "elements = [[\"TiO2 (wt%)\", \"Al2O3 (wt%)\"], [\"Fe2O3 (T) (wt%)\", \"MnO (wt%)\"]]\n",
    "for column in range(2):\n",
    "    for row in range(2):\n",
    "        element_name = elements[column][row]\n",
    "        ax[column][row].scatter(geochem[\"SiO2 (wt%)\"], geochem[element_name])\n",
    "        ax[column][row].set_ylabel(element_name)\n",
    "        ax[column][row].set_xlabel(\"$SiO_2$ (wt%)\")\n",
    "        if row == 1:\n",
    "            ax[column][row].yaxis.tick_right()\n",
    "            ax[column][row].yaxis.set_label_position(\"right\")"
   ]
  },
  {
   "cell_type": "markdown",
   "metadata": {},
   "source": [
    "You can do all your normal customisation to subplots as well.  Note that because we set `sharex=True`, if you zoom in one one axis it will adjust the x-axis of all other plots as well, making it easy to see trends across multi-variate data.\n",
    "\n",
    "**Exercise:** Turn off the tick labels for row 1 because they are unnecessary, and make the subplots sit tight next to one-another.  Have a look at [this page](https://matplotlib.org/3.1.3/gallery/subplots_axes_and_figures/shared_axis_demo.html) for help on hiding the xticks, and [this page](https://matplotlib.org/3.1.3/tutorials/intermediate/tight_layout_guide.html) for making axes tight together."
   ]
  },
  {
   "cell_type": "code",
   "execution_count": 12,
   "metadata": {},
   "outputs": [],
   "source": [
    "# Your answer here"
   ]
  },
  {
   "cell_type": "markdown",
   "metadata": {},
   "source": [
    "### 6.2.2: Twinning axes\n",
    "\n",
    "Sometimes it can be good to have multiple different datasets on one axes.  We can set up two y-axes on the same `Axes` object to allow us to plot different scales on the one figure.  Lets give this a go by plotting $P_2O_5$ and $K_2O$ both against $SiO_2$:"
   ]
  },
  {
   "cell_type": "code",
   "execution_count": 13,
   "metadata": {},
   "outputs": [
    {
     "data": {
      "application/vnd.jupyter.widget-view+json": {
       "model_id": "2d35ec6c63a54918bc758d19a8130817",
       "version_major": 2,
       "version_minor": 0
      },
      "text/plain": [
       "Canvas(toolbar=Toolbar(toolitems=[('Home', 'Reset original view', 'home', 'home'), ('Back', 'Back to previous …"
      ]
     },
     "metadata": {},
     "output_type": "display_data"
    }
   ],
   "source": [
    "fig, ax = plt.subplots()\n",
    "ax.scatter(geochem[\"SiO2 (wt%)\"], geochem[\"P2O5 (wt%)\"],\n",
    "           label=\"$P_2O_5 (wt%)\")\n",
    "ax.set_xlabel(\"$SiO_2$ (wt%)\")\n",
    "ax.set_ylabel(\"$P_2O_5$ (wt%)\")\n",
    "\n",
    "ax1 = ax.twinx()\n",
    "ax1.scatter(\n",
    "    geochem[\"SiO2 (wt%)\"], geochem[\"K2O (wt%)\"], color=\"orange\",\n",
    "    label=\"$K_2O$ (wt%)\")\n",
    "ax1.set_ylabel(\"$K_2O$ (wt%)\")\n",
    "\n",
    "fig.legend()\n",
    "plt.show()"
   ]
  },
  {
   "cell_type": "markdown",
   "metadata": {},
   "source": [
    "Cool, but wouldn't it be nice if the axes labels were the same colour as the data so you could quickly see which scale related to which data?\n",
    "\n",
    "**Exercise:** Make the scales the same colour as the data.  Check out [this page](https://matplotlib.org/3.1.1/gallery/subplots_axes_and_figures/two_scales.html#sphx-glr-gallery-subplots-axes-and-figures-two-scales-py) for help."
   ]
  },
  {
   "cell_type": "code",
   "execution_count": 14,
   "metadata": {},
   "outputs": [],
   "source": [
    "# Your answer here"
   ]
  },
  {
   "cell_type": "markdown",
   "metadata": {},
   "source": [
    "## 6.3: Circular plotting\n",
    "\n",
    "So far we have just been plotting nice real numbers. Circular data is a little different, mostly because it is periodic.  This introduces a few more issues, including issues in circular statistics that we will cover in the [next notebook](7-Geoscience-data-wrangling.ipynb).  Lets have a play with plotting some circular data.\n",
    "\n",
    "### 6.3.1: New Zealand Moment Tensor database: \n",
    "\n",
    "To demonstrate plotting circular values we are\n",
    "going to play around with the New Zealand Centroid Moment Tensor database, maintained \n",
    "by John Ristau of GNS.  This dataset is publicly available\n",
    "on the [GeoNet github page](https://github.com/GeoNet/data). Centroid Moment Tensors are a little\n",
    "like focal mechanisms: they are a way of modeling the faulting style of an earthquake.  They are\n",
    "a little more complex than focal mechanisms because they allow for *non-double couple* forces, and\n",
    "so can also describe explosions and implosions and any combination thereof.\n",
    "\n",
    "To start off, we will write a little function to download the data from the website and \n",
    "read it into a pandas dataframe. We only care about the column `\"strike1\"` for this example,\n",
    "but feel free to explore the database more at your leisure."
   ]
  },
  {
   "cell_type": "code",
   "execution_count": 15,
   "metadata": {},
   "outputs": [],
   "source": [
    "import requests\n",
    "import pandas as pd\n",
    "\n",
    "def get_geonet_cmt():\n",
    "    \"\"\" Download GeoNet CMT catalogue and save to the Data directory. \"\"\"\n",
    "    response = requests.get(\n",
    "        \"https://raw.githubusercontent.com/GeoNet/data/master/\"\n",
    "        \"moment-tensor/GeoNet_CMT_solutions.csv\")\n",
    "    with open(\"data/GeoNet_CMT_solutions.csv\", \"wb\") as f:\n",
    "        f.write(response.content)\n",
    "    return pd.read_csv(\"data/GeoNet_CMT_solutions.csv\", parse_dates=[\"Date\"])"
   ]
  },
  {
   "cell_type": "code",
   "execution_count": 16,
   "metadata": {},
   "outputs": [
    {
     "name": "stdout",
     "output_type": "stream",
     "text": [
      "         PublicID                Date  Latitude  Longitude  strike1  dip1  \\\n",
      "0         2103645 2003-08-21 12:12:00  -45.1929   166.8300      213    56   \n",
      "1         2169849 2003-08-21 14:12:00  -45.3592   166.8152      212    68   \n",
      "2         2206498 2003-08-21 19:56:00  -45.2900   166.8020      252    53   \n",
      "3         2218435 2003-08-22 00:02:00  -45.0656   166.9658      232    68   \n",
      "4         2254800 2003-08-22 15:29:00  -45.1861   166.9908      247    48   \n",
      "...           ...                 ...       ...        ...      ...   ...   \n",
      "2408  2020p092995 2020-02-04 09:47:00  -37.6295   176.5458      190    57   \n",
      "2409  2020p118012 2020-02-13 15:57:00  -41.6551   174.2750      339    67   \n",
      "2410  2020p118387 2020-02-13 19:16:00  -41.6959   174.1826      318    83   \n",
      "2411  2020p135192 2020-02-20 00:30:00  -38.7424   174.0895       31    88   \n",
      "2412  2020p147099 2020-02-24 10:14:00  -44.7103   167.4464      175    53   \n",
      "\n",
      "      rake1  strike2  dip2  rake2  ...  VR         Tva  Tpl  Taz        Nva  \\\n",
      "0        98       20    35     79  ...  83  5416627.50   78  149  388026.19   \n",
      "1        98       12    23     72  ...  67   144527.23   66  135  -21321.51   \n",
      "2       108       44    41     67  ...  71     8649.84   74  217    1021.07   \n",
      "3       102       23    25     63  ...  89     6523.77   65  162    1337.04   \n",
      "4       100       52    43     79  ...  77     3391.86   82  222    -179.29   \n",
      "...     ...      ...   ...    ...  ...  ..         ...  ...  ...        ...   \n",
      "2408     49       69    51    136  ...  77    -7328.36   56   43    -263.83   \n",
      "2409     29      237    63    155  ...  68     -191.78   37  200     130.55   \n",
      "2410     34      223    56    172  ...  71       36.13   29  187      14.98   \n",
      "2411   -175      300    85     -2  ...  50       25.02    2  165     -18.66   \n",
      "2412     76       18    39    108  ...  87     1787.75   77   37     167.43   \n",
      "\n",
      "      Npl  Naz         Pva  Ppl  Paz  \n",
      "0       6   28 -5804654.00   11  298  \n",
      "1       7   29  -123205.72   23  296  \n",
      "2      14   60    -9670.91    6  329  \n",
      "3      11   47    -7860.81   22  313  \n",
      "4       8   60    -3212.57    3  330  \n",
      "...   ...  ...         ...  ...  ...  \n",
      "2408   34  215     7592.19    3  308  \n",
      "2409   53   13       61.23    3  107  \n",
      "2410   55  328      -51.11   18   86  \n",
      "2411   85   52       -6.36    5  256  \n",
      "2412   11  183    -1955.17    7  275  \n",
      "\n",
      "[2413 rows x 32 columns]\n"
     ]
    }
   ],
   "source": [
    "cmt_solutions = get_geonet_cmt()\n",
    "print(cmt_solutions)"
   ]
  },
  {
   "cell_type": "markdown",
   "metadata": {},
   "source": [
    "To make a circular plot, we will introduce the `projection` argument used when we initialise a figure.  We will make use of this below as well when making 3D plots.\n",
    "\n",
    "To make a circular plot we use `projection=\"polar\"` parsed to `subplot_kw` as a dictionary."
   ]
  },
  {
   "cell_type": "code",
   "execution_count": 17,
   "metadata": {},
   "outputs": [
    {
     "data": {
      "application/vnd.jupyter.widget-view+json": {
       "model_id": "43a9fbef95234036a8b8db971813b746",
       "version_major": 2,
       "version_minor": 0
      },
      "text/plain": [
       "Canvas(toolbar=Toolbar(toolitems=[('Home', 'Reset original view', 'home', 'home'), ('Back', 'Back to previous …"
      ]
     },
     "metadata": {},
     "output_type": "display_data"
    }
   ],
   "source": [
    "fig, ax = plt.subplots(subplot_kw=dict(projection=\"polar\"))"
   ]
  },
  {
   "cell_type": "markdown",
   "metadata": {},
   "source": [
    "Lets plot all the data to start with as a scatter.  To do this, we need to convert our angles to radians:"
   ]
  },
  {
   "cell_type": "code",
   "execution_count": 18,
   "metadata": {},
   "outputs": [],
   "source": [
    "import numpy as np\n",
    "\n",
    "strikes = np.radians(cmt_solutions.strike1)"
   ]
  },
  {
   "cell_type": "markdown",
   "metadata": {},
   "source": [
    "Then we can make a scatter plot of strike against something else - in this case I plot against magnitude:"
   ]
  },
  {
   "cell_type": "code",
   "execution_count": 19,
   "metadata": {},
   "outputs": [
    {
     "data": {
      "application/vnd.jupyter.widget-view+json": {
       "model_id": "ed9ccfd094ec4f719ec5f9e71e8540cc",
       "version_major": 2,
       "version_minor": 0
      },
      "text/plain": [
       "Canvas(toolbar=Toolbar(toolitems=[('Home', 'Reset original view', 'home', 'home'), ('Back', 'Back to previous …"
      ]
     },
     "metadata": {},
     "output_type": "display_data"
    }
   ],
   "source": [
    "fig, ax = plt.subplots(subplot_kw=dict(projection=\"polar\"))\n",
    "ax.scatter(strikes, cmt_solutions.ML, label=\"Magnitude\")\n",
    "ax.legend()\n",
    "ax.set_xlabel(\"Strike\")\n",
    "plt.show()"
   ]
  },
  {
   "cell_type": "markdown",
   "metadata": {},
   "source": [
    "Overplotting much?  Lets make it a histogram:"
   ]
  },
  {
   "cell_type": "code",
   "execution_count": 20,
   "metadata": {},
   "outputs": [
    {
     "data": {
      "application/vnd.jupyter.widget-view+json": {
       "model_id": "ac2c9cf6497f4d319a6c499258543eda",
       "version_major": 2,
       "version_minor": 0
      },
      "text/plain": [
       "Canvas(toolbar=Toolbar(toolitems=[('Home', 'Reset original view', 'home', 'home'), ('Back', 'Back to previous …"
      ]
     },
     "metadata": {},
     "output_type": "display_data"
    }
   ],
   "source": [
    "fig, ax = plt.subplots(subplot_kw=dict(projection=\"polar\"))\n",
    "ax.hist(strikes, bins=90)\n",
    "ax.set_xlabel(\"Strike\")\n",
    "plt.show()"
   ]
  },
  {
   "cell_type": "markdown",
   "metadata": {},
   "source": [
    "There appears to be a bias in strikes of our moment tensors! I wonder why that might be...?\n",
    "\n",
    "**Exercise:** Make a circular histogram of the rakes (column `\"rake1\"`)."
   ]
  },
  {
   "cell_type": "code",
   "execution_count": 21,
   "metadata": {},
   "outputs": [],
   "source": [
    "# Your answer here"
   ]
  },
  {
   "cell_type": "markdown",
   "metadata": {},
   "source": [
    "## 6.4: 3D plotting\n",
    "\n",
    "Some data are best in 3-D! Lets try and visualise where the earthquakes in the CMT catalogue are happening.  We won't bother converting from lat-long to distances in km (although we will learn about how to do that in the [next notebook](7-Geoscience-data-wrangling.ipynb)), and we will just make scatter plots of lat-long-depth.\n",
    "\n",
    "To do this we use the `projection` keyword argument again, this time setting it to `\"3d\"`.  We have to add an extra step and import the `Axes3D` toolkit before to start plotting:"
   ]
  },
  {
   "cell_type": "code",
   "execution_count": 22,
   "metadata": {},
   "outputs": [
    {
     "data": {
      "application/vnd.jupyter.widget-view+json": {
       "model_id": "0d1c9185031c4d92accf1e3e7408cbbb",
       "version_major": 2,
       "version_minor": 0
      },
      "text/plain": [
       "Canvas(toolbar=Toolbar(toolitems=[('Home', 'Reset original view', 'home', 'home'), ('Back', 'Back to previous …"
      ]
     },
     "metadata": {},
     "output_type": "display_data"
    }
   ],
   "source": [
    "from mpl_toolkits.mplot3d import Axes3D\n",
    "\n",
    "fig, ax = plt.subplots(subplot_kw=dict(projection=\"3d\"))"
   ]
  },
  {
   "cell_type": "markdown",
   "metadata": {},
   "source": [
    "This should have popped up an interactive 3d plot that you can move around (after clicking the four-way arrow button).\n",
    "\n",
    "Lets plot some data:"
   ]
  },
  {
   "cell_type": "code",
   "execution_count": 23,
   "metadata": {},
   "outputs": [
    {
     "data": {
      "application/vnd.jupyter.widget-view+json": {
       "model_id": "fef9dcf63463472195c9cf735d5a78bc",
       "version_major": 2,
       "version_minor": 0
      },
      "text/plain": [
       "Canvas(toolbar=Toolbar(toolitems=[('Home', 'Reset original view', 'home', 'home'), ('Back', 'Back to previous …"
      ]
     },
     "metadata": {},
     "output_type": "display_data"
    }
   ],
   "source": [
    "fig, ax = plt.subplots(subplot_kw=dict(projection=\"3d\"))\n",
    "ax.scatter(\n",
    "    xs=cmt_solutions.Latitude, ys=cmt_solutions.Longitude, \n",
    "    zs=cmt_solutions.CD)\n",
    "ax.set_xlabel(\"Latitude\")\n",
    "ax.set_ylabel(\"Longitude\")\n",
    "ax.set_zlabel(\"Depth (km)\")\n",
    "ax.invert_zaxis()"
   ]
  },
  {
   "cell_type": "markdown",
   "metadata": {},
   "source": [
    "This looks silly because we have longitudes both sides of 180. Lets wrap around 180 using the modulo `%` operator:"
   ]
  },
  {
   "cell_type": "code",
   "execution_count": 24,
   "metadata": {},
   "outputs": [],
   "source": [
    "cmt_solutions.Longitude %= 360"
   ]
  },
  {
   "cell_type": "code",
   "execution_count": 25,
   "metadata": {},
   "outputs": [
    {
     "data": {
      "application/vnd.jupyter.widget-view+json": {
       "model_id": "a6cf5b609c5a447fa755c7fcbd747d85",
       "version_major": 2,
       "version_minor": 0
      },
      "text/plain": [
       "Canvas(toolbar=Toolbar(toolitems=[('Home', 'Reset original view', 'home', 'home'), ('Back', 'Back to previous …"
      ]
     },
     "metadata": {},
     "output_type": "display_data"
    }
   ],
   "source": [
    "fig, ax = plt.subplots(subplot_kw=dict(projection=\"3d\"))\n",
    "ax.scatter(\n",
    "    xs=cmt_solutions.Latitude, ys=cmt_solutions.Longitude, \n",
    "    zs=cmt_solutions.CD)\n",
    "ax.set_xlabel(\"Latitude\")\n",
    "ax.set_ylabel(\"Longitude\")\n",
    "ax.set_zlabel(\"Depth (km)\")\n",
    "ax.invert_zaxis()"
   ]
  },
  {
   "cell_type": "markdown",
   "metadata": {},
   "source": [
    "Much better.  The modulo operator is really handy, you can read about it [here](https://docs.python.org/3.3/reference/expressions.html#binary-arithmetic-operations). \n",
    "\n",
    "We can see deep seismicity associated with the two subduction zones.\n",
    "\n",
    "We can add some more useful information to our plot by scaling our dot-size by magnitude. We can set the `s` argument to one of our magnitude columns to scale them:"
   ]
  },
  {
   "cell_type": "code",
   "execution_count": 26,
   "metadata": {},
   "outputs": [
    {
     "data": {
      "application/vnd.jupyter.widget-view+json": {
       "model_id": "904d164d8ffb4d0b8170fce1794b9a0f",
       "version_major": 2,
       "version_minor": 0
      },
      "text/plain": [
       "Canvas(toolbar=Toolbar(toolitems=[('Home', 'Reset original view', 'home', 'home'), ('Back', 'Back to previous …"
      ]
     },
     "metadata": {},
     "output_type": "display_data"
    }
   ],
   "source": [
    "fig, ax = plt.subplots(subplot_kw=dict(projection=\"3d\"))\n",
    "ax.scatter(\n",
    "    xs=cmt_solutions.Latitude, ys=cmt_solutions.Longitude, \n",
    "    zs=cmt_solutions.CD, s=cmt_solutions.ML)\n",
    "ax.set_xlabel(\"Latitude\")\n",
    "ax.set_ylabel(\"Longitude\")\n",
    "ax.set_zlabel(\"Depth (km)\")\n",
    "ax.invert_zaxis()"
   ]
  },
  {
   "cell_type": "markdown",
   "metadata": {},
   "source": [
    "The difference in dot-size is not that obvious, play around with scaling the magnitude column until you can see the differences."
   ]
  },
  {
   "cell_type": "markdown",
   "metadata": {},
   "source": [
    "**Exercise:** Using your knowledge of [pandas](5-Pandas-introduction.ipynb), select a region of interest and make a 3D scatter plot of earthquake locations, scaled by magnitude."
   ]
  },
  {
   "cell_type": "code",
   "execution_count": 27,
   "metadata": {},
   "outputs": [],
   "source": [
    "# Your answer here"
   ]
  },
  {
   "cell_type": "markdown",
   "metadata": {},
   "source": [
    "## 6.-1: Summary\n",
    "\n",
    "<img alt=\"Puysegur Seismicity\" align=\"right\" style=\"width:40%\" src=\"images/Summary_map_raw.png\">\n",
    "\n",
    "That covers some more options for plotting, but we still haven't touched every plotting option, and we haven't touched map plotting.  I'm leaving that for the GMT class, but for keen Pythonistas, check out [cartopy](https://scitools.org.uk/cartopy/docs/latest/#).  The map to the right was made using cartopy, subplots, and various other Python things that we have discussed.  I added fault labels later in inkscape, and moved the legend to the top layer... If anyone wants the source-code let me know.\n",
    "\n",
    "Our final notebook comes next, with some [playing around with data](7-Geoscience-data-wrangling.ipynb)"
   ]
  }
 ],
 "metadata": {
  "kernelspec": {
   "display_name": "Python 3",
   "language": "python",
   "name": "python3"
  },
  "language_info": {
   "codemirror_mode": {
    "name": "ipython",
    "version": 3
   },
   "file_extension": ".py",
   "mimetype": "text/x-python",
   "name": "python",
   "nbconvert_exporter": "python",
   "pygments_lexer": "ipython3",
   "version": "3.7.6"
  }
 },
 "nbformat": 4,
 "nbformat_minor": 4
}
