{
 "cells": [
  {
   "cell_type": "markdown",
   "metadata": {},
   "source": [
    "To cover:\n",
    "1. 3D plotting\n",
    "2. Multi-axis plotting\n",
    "3. Circular plotting (rose/wind plots) - plot azimuths of fractures"
   ]
  }
 ],
 "metadata": {
  "kernelspec": {
   "display_name": "Python 3",
   "language": "python",
   "name": "python3"
  },
  "language_info": {
   "codemirror_mode": {
    "name": "ipython",
    "version": 3
   },
   "file_extension": ".py",
   "mimetype": "text/x-python",
   "name": "python",
   "nbconvert_exporter": "python",
   "pygments_lexer": "ipython3",
   "version": "3.7.3"
  }
 },
 "nbformat": 4,
 "nbformat_minor": 4
}
