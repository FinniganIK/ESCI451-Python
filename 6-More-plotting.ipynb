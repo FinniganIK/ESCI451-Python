{
 "cells": [
  {
   "cell_type": "markdown",
   "metadata": {},
   "source": [
    "# Plotting extended\n",
    "\n",
    "Not all datasets fit into simple scatter, line or histogram plots. Python still has your back.\n",
    "We won't discuss it here, but Python is also good for plotting maps, but it is a little\n",
    "more advanced.  The best library is [cartopy](https://scitools.org.uk/cartopy/docs/latest/).\n",
    "\n",
    "Here we will cover:\n",
    "1. Density plotting with colourmaps - avoid overplotting\n",
    "2. Multi-axis plotting: scatter plotting geochemical data\n",
    "3. Circular plotting (rose/wind plots): plotting focal mechanisms from the NZ Moment Tensor database\n",
    "4. 3D plotting"
   ]
  },
  {
   "cell_type": "markdown",
   "metadata": {},
   "source": [
    "## Density plotting\n",
    "\n",
    "Overplotting is an issue. Here is how to avoid it."
   ]
  },
  {
   "cell_type": "code",
   "execution_count": null,
   "metadata": {},
   "outputs": [],
   "source": []
  },
  {
   "cell_type": "markdown",
   "metadata": {},
   "source": [
    "## Multi-axis plotting\n",
    "\n",
    "Subplots\n",
    "\n",
    "Sharing axes"
   ]
  },
  {
   "cell_type": "code",
   "execution_count": null,
   "metadata": {},
   "outputs": [],
   "source": []
  },
  {
   "cell_type": "markdown",
   "metadata": {},
   "source": [
    "## Circular plotting\n",
    "\n",
    "### New Zealand Moment Tensor database: \n",
    "\n",
    "To demonstrate plotting circular values we are\n",
    "going to play around with the New Zealand Centroid Moment Tensor database, maintained \n",
    "by John Ristau of GNS.  This dataset is publicly available\n",
    "on the [GeoNet github page](https://github.com/GeoNet/data). Centroid Moment Tensors are a little\n",
    "like focal mechanisms: they are a way of modeling the faulting style of an earthquake.  They are\n",
    "a little more complex than focal mechanisms because they allow for *non-double couple* forces, and\n",
    "so can also describe explosions and implosions and any combination thereof.\n",
    "\n",
    "To start off, we will write a little function to download the data from the website and \n",
    "read it into a pandas dataframe. We only care about the column `\"strike1\"` for this example,\n",
    "but feel free to explore the database more at your leisure."
   ]
  },
  {
   "cell_type": "code",
   "execution_count": 3,
   "metadata": {},
   "outputs": [],
   "source": [
    "import requests\n",
    "import pandas as pd\n",
    "\n",
    "def get_geonet_cmt():\n",
    "    \"\"\" Download GeoNet CMT catalogue and save to the Data directory. \"\"\"\n",
    "    response = requests.get(\n",
    "        \"https://raw.githubusercontent.com/GeoNet/data/master/\"\n",
    "        \"moment-tensor/GeoNet_CMT_solutions.csv\")\n",
    "    with open(\"data/GeoNet_CMT_solutions.csv\", \"wb\") as f:\n",
    "        f.write(response.content)\n",
    "    return pd.read_csv(\"data/GeoNet_CMT_solutions.csv\", parse_dates=[\"Date\"])"
   ]
  },
  {
   "cell_type": "code",
   "execution_count": 4,
   "metadata": {},
   "outputs": [],
   "source": [
    "cmt_solutions = get_geonet_cmt()"
   ]
  },
  {
   "cell_type": "markdown",
   "metadata": {},
   "source": [
    "## 3D plotting\n",
    "\n",
    "Some data are best in 3-D! "
   ]
  },
  {
   "cell_type": "code",
   "execution_count": null,
   "metadata": {},
   "outputs": [],
   "source": []
  }
 ],
 "metadata": {
  "kernelspec": {
   "display_name": "Python 3",
   "language": "python",
   "name": "python3"
  },
  "language_info": {
   "codemirror_mode": {
    "name": "ipython",
    "version": 3
   },
   "file_extension": ".py",
   "mimetype": "text/x-python",
   "name": "python",
   "nbconvert_exporter": "python",
   "pygments_lexer": "ipython3",
   "version": "3.7.6"
  }
 },
 "nbformat": 4,
 "nbformat_minor": 4
}
