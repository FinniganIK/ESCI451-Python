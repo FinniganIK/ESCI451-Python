{
 "cells": [
  {
   "cell_type": "markdown",
   "metadata": {},
   "source": [
    "# Plotting extended\n",
    "\n",
    "<img alt=\"matplotlib topo\" align=\"right\" style=\"width:40%\" src=\"https://matplotlib.org/3.1.1/_images/sphx_glr_topographic_hillshading_001.png\">\n",
    "\n",
    "Not all datasets fit into simple scatter, line or histogram plots. Python still has your back.\n",
    "We won't discuss it here, but Python is also good for plotting maps, but it is a little\n",
    "more advanced.  The best library is [cartopy](https://scitools.org.uk/cartopy/docs/latest/).\n",
    "\n",
    "\n",
    "\n",
    "Here we will cover:\n",
    "1. Density plotting with colourmaps - avoid overplotting\n",
    "2. Multi-axis plotting: scatter plotting geochemical data\n",
    "3. Circular plotting (rose/wind plots): plotting focal mechanisms from the NZ Moment Tensor database\n",
    "4. 3D plotting\n",
    "\n",
    "For more examples of what matplotlib can do, have a look at their\n",
    "[gallery](https://matplotlib.org/3.1.1/gallery/index.html). The image on the\n",
    "right is generated with matplotlib, and the [source code is here](https://matplotlib.org/3.1.1/gallery/specialty_plots/topographic_hillshading.html#sphx-glr-gallery-specialty-plots-topographic-hillshading-py)"
   ]
  },
  {
   "cell_type": "code",
   "execution_count": 1,
   "metadata": {},
   "outputs": [],
   "source": [
    "%matplotlib widget"
   ]
  },
  {
   "cell_type": "markdown",
   "metadata": {},
   "source": [
    "## Density plotting\n",
    "\n",
    "Overplotting data can lead to miss-interpretation.  Overplotting is when you have\n",
    "many overlapping points on a plot. A simple example is a 2-D normal distribution\n",
    "sampled at discrete points:"
   ]
  },
  {
   "cell_type": "code",
   "execution_count": 2,
   "metadata": {},
   "outputs": [
    {
     "data": {
      "application/vnd.jupyter.widget-view+json": {
       "model_id": "2ca8de47b05241a2b9c2927d349086c3",
       "version_major": 2,
       "version_minor": 0
      },
      "text/plain": [
       "Canvas(toolbar=Toolbar(toolitems=[('Home', 'Reset original view', 'home', 'home'), ('Back', 'Back to previous …"
      ]
     },
     "metadata": {},
     "output_type": "display_data"
    }
   ],
   "source": [
    "import numpy as np\n",
    "import matplotlib.pyplot as plt\n",
    "\n",
    "# Set a random state so that I can test the output\n",
    "np.random.seed(42)\n",
    "\n",
    "n = 100000\n",
    "x = np.random.standard_normal(n)\n",
    "y = 2.0 + 3.0 * x + 4.0 * np.random.standard_normal(n)\n",
    "\n",
    "fig, ax = plt.subplots()\n",
    "ax.scatter(x, y)\n",
    "plt.show()"
   ]
  },
  {
   "cell_type": "markdown",
   "metadata": {},
   "source": [
    "There are *many* overlapping point here.  We would be better to represent these data by their\n",
    "density.  Matplotlib offers a few ways to do this, one of the simplest is the `hexbin`, which\n",
    "grids the data into hexagonal bins and uses colour to represent the number of points within\n",
    "that bin:"
   ]
  },
  {
   "cell_type": "code",
   "execution_count": 3,
   "metadata": {},
   "outputs": [
    {
     "data": {
      "application/vnd.jupyter.widget-view+json": {
       "model_id": "aadf48df674141ada4eb61a1c502fbee",
       "version_major": 2,
       "version_minor": 0
      },
      "text/plain": [
       "Canvas(toolbar=Toolbar(toolitems=[('Home', 'Reset original view', 'home', 'home'), ('Back', 'Back to previous …"
      ]
     },
     "metadata": {},
     "output_type": "display_data"
    }
   ],
   "source": [
    "fig, ax = plt.subplots()\n",
    "collection = ax.hexbin(x, y)\n",
    "colorbar = fig.colorbar(collection)\n",
    "colorbar.set_label(\"Count\")"
   ]
  },
  {
   "cell_type": "markdown",
   "metadata": {},
   "source": [
    "If you find yourself with a dense 2D dataset, plotting the density of points can be really helpful!"
   ]
  },
  {
   "cell_type": "markdown",
   "metadata": {},
   "source": [
    "## Multi-axis plotting\n",
    "\n",
    "### Subplots\n",
    "\n",
    "We keep using the:\n",
    "```python\n",
    "fig, ax = plt.subplots()\n",
    "```\n",
    "syntax for starting a plotting session, but we haven't explored the strength of subplots.\n",
    "As the name suggests, subplots let you make multiple plots in one.  To explore this we will\n",
    "use a dataset provided by Colin Wilson that contains a range of geochemical data. These data are \n",
    "from the Huckleberry Ridge Tuff and were published in a paper by [Swallow et al., 2019](https://academic.oup.com/petrology/article/60/7/1371/5524670). \n",
    "\n",
    "We will read it\n",
    "in using pandas and make some scatter plots (as any good/bad/indifferent geochemist would/should)."
   ]
  },
  {
   "cell_type": "code",
   "execution_count": 11,
   "metadata": {},
   "outputs": [
    {
     "name": "stdout",
     "output_type": "stream",
     "text": [
      "         SiO2  TiO2  Al2O3  Fe2O3 (T)   MnO   MgO   CaO  Na2O   K2O   P2O5  \\\n",
      "Sample                                                                       \n",
      "YP114   72.98  0.26  13.56       2.96  0.05  0.08  0.82  4.05  5.22  0.040   \n",
      "YP307   76.50  0.13  11.85       1.70  0.04  0.08  1.15  2.87  5.67  0.020   \n",
      "YP359   74.56  0.17  12.83       2.06  0.04  0.23  1.28  2.95  5.86  0.030   \n",
      "YP363   76.61  0.12  12.06       1.73  0.04  0.04  0.69  2.78  5.94  0.010   \n",
      "YP414   76.08  0.14  12.14       1.79  0.04  0.06  0.96  2.77  5.99  0.020   \n",
      "...       ...   ...    ...        ...   ...   ...   ...   ...   ...    ...   \n",
      "YP564   76.64  0.17  12.23       2.13  0.02  0.01  0.37  3.30  4.89  0.030   \n",
      "YP603   76.93  0.19  11.77       2.29  0.04  0.01  0.39  3.48  4.58  0.020   \n",
      "YP081   75.68  0.10  12.81       1.84  0.04  0.14  0.68  3.34  5.35  0.021   \n",
      "YP133   76.69  0.10  12.04       1.55  0.02  0.25  1.45  3.03  4.85  0.020   \n",
      "YP600   76.39  0.10  12.54       1.59  0.03  0.06  1.01  2.84  5.17  0.010   \n",
      "\n",
      "        ...    Dy       Ho   Er    Tm   Yb       Lu   Hf    Pb        Th    U  \n",
      "Sample  ...                                                                    \n",
      "YP114   ...  11.2  2.20002  6.4  0.89  5.7  0.82957  9.8  25.0  19.36672  2.2  \n",
      "YP307   ...  10.1  1.90000  6.0  0.82  5.3  0.88000  6.0  40.0  23.00000  4.5  \n",
      "YP359   ...   9.8  1.90000  5.6  0.75  4.9  0.85000  6.8  55.0  23.00000  3.8  \n",
      "YP363   ...  10.5  2.10000  6.3  0.89  5.6  1.02000  6.6  38.0  23.00000  5.1  \n",
      "YP414   ...   8.9  1.73000  5.3  0.73  4.6  0.84000  6.4  28.0  20.00000  4.0  \n",
      "...     ...   ...      ...  ...   ...  ...      ...  ...   ...       ...  ...  \n",
      "YP564   ...   9.0  1.70000  4.9  0.64  4.1  0.60000  8.1  38.0  21.00000  6.3  \n",
      "YP603   ...   7.2  1.47000  4.4  0.62  4.2  0.62000  8.2  35.0  16.90000  4.2  \n",
      "YP081   ...  14.7  3.00000  8.9  1.29  8.3  1.20000  7.8  29.0  31.00000  7.5  \n",
      "YP133   ...  11.9  2.40000  7.4  1.06  6.7  1.19000  7.0  42.0  25.00000  6.4  \n",
      "YP600   ...  12.2  2.40000  7.4  1.05  6.6  1.12000  6.9  80.0  25.00000  6.0  \n",
      "\n",
      "[65 rows x 38 columns]\n"
     ]
    }
   ],
   "source": [
    "import pandas as pd\n",
    "\n",
    "geochem = pd.read_csv(\n",
    "    \"data/Edited Swallow et al J Petrol data for plotting.csv\",\n",
    "    index_col=\"Sample\")\n",
    "print(geochem)"
   ]
  },
  {
   "cell_type": "markdown",
   "metadata": {},
   "source": [
    "Lets make a plot of P2O5 against SiO2:"
   ]
  },
  {
   "cell_type": "code",
   "execution_count": 12,
   "metadata": {},
   "outputs": [
    {
     "data": {
      "application/vnd.jupyter.widget-view+json": {
       "model_id": "b255f6344c0d470bbed2ee69c0d9c7bc",
       "version_major": 2,
       "version_minor": 0
      },
      "text/plain": [
       "Canvas(toolbar=Toolbar(toolitems=[('Home', 'Reset original view', 'home', 'home'), ('Back', 'Back to previous …"
      ]
     },
     "metadata": {},
     "output_type": "display_data"
    },
    {
     "data": {
      "text/plain": [
       "<matplotlib.collections.PathCollection at 0x7f8bdebfbd10>"
      ]
     },
     "execution_count": 12,
     "metadata": {},
     "output_type": "execute_result"
    }
   ],
   "source": [
    "fig, ax = plt.subplots()\n",
    "ax.scatter(geochem[\"SiO2\"], geochem[\"P2O5\"])"
   ]
  },
  {
   "cell_type": "markdown",
   "metadata": {},
   "source": [
    "### Sharing axes\n",
    "\n",
    "Sometimes it can be good to have multiple different datasets on one axes.  We can set up two\n",
    "y-axes on the same `Axes` object to allow us to plot different scales on the one figure."
   ]
  },
  {
   "cell_type": "code",
   "execution_count": null,
   "metadata": {},
   "outputs": [],
   "source": []
  },
  {
   "cell_type": "markdown",
   "metadata": {},
   "source": [
    "## Circular plotting\n",
    "\n",
    "### New Zealand Moment Tensor database: \n",
    "\n",
    "To demonstrate plotting circular values we are\n",
    "going to play around with the New Zealand Centroid Moment Tensor database, maintained \n",
    "by John Ristau of GNS.  This dataset is publicly available\n",
    "on the [GeoNet github page](https://github.com/GeoNet/data). Centroid Moment Tensors are a little\n",
    "like focal mechanisms: they are a way of modeling the faulting style of an earthquake.  They are\n",
    "a little more complex than focal mechanisms because they allow for *non-double couple* forces, and\n",
    "so can also describe explosions and implosions and any combination thereof.\n",
    "\n",
    "To start off, we will write a little function to download the data from the website and \n",
    "read it into a pandas dataframe. We only care about the column `\"strike1\"` for this example,\n",
    "but feel free to explore the database more at your leisure."
   ]
  },
  {
   "cell_type": "code",
   "execution_count": 3,
   "metadata": {},
   "outputs": [],
   "source": [
    "import requests\n",
    "import pandas as pd\n",
    "\n",
    "def get_geonet_cmt():\n",
    "    \"\"\" Download GeoNet CMT catalogue and save to the Data directory. \"\"\"\n",
    "    response = requests.get(\n",
    "        \"https://raw.githubusercontent.com/GeoNet/data/master/\"\n",
    "        \"moment-tensor/GeoNet_CMT_solutions.csv\")\n",
    "    with open(\"data/GeoNet_CMT_solutions.csv\", \"wb\") as f:\n",
    "        f.write(response.content)\n",
    "    return pd.read_csv(\"data/GeoNet_CMT_solutions.csv\", parse_dates=[\"Date\"])"
   ]
  },
  {
   "cell_type": "code",
   "execution_count": 4,
   "metadata": {},
   "outputs": [],
   "source": [
    "cmt_solutions = get_geonet_cmt()"
   ]
  },
  {
   "cell_type": "markdown",
   "metadata": {},
   "source": [
    "## 3D plotting\n",
    "\n",
    "Some data are best in 3-D! "
   ]
  },
  {
   "cell_type": "code",
   "execution_count": null,
   "metadata": {},
   "outputs": [],
   "source": []
  }
 ],
 "metadata": {
  "kernelspec": {
   "display_name": "Python 3",
   "language": "python",
   "name": "python3"
  },
  "language_info": {
   "codemirror_mode": {
    "name": "ipython",
    "version": 3
   },
   "file_extension": ".py",
   "mimetype": "text/x-python",
   "name": "python",
   "nbconvert_exporter": "python",
   "pygments_lexer": "ipython3",
   "version": "3.7.6"
  }
 },
 "nbformat": 4,
 "nbformat_minor": 4
}
