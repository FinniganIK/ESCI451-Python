{
 "cells": [
  {
   "cell_type": "markdown",
   "metadata": {},
   "source": [
    "# Mapping part 2\n",
    "\n",
    "In this notebook we will extend our mapping abilities by plotting some cool data! We are going to do quite a lot of work with gridded data in this notebook, so to start us off we will try plotting a dem.\n",
    "\n",
    "By the end of this notebook you should know how to contour data on maps, and add vectors. We will demonstrate this by making an isopach map and thinking about how wind-direction affects ejecta distribution."
   ]
  },
  {
   "cell_type": "code",
   "execution_count": 1,
   "metadata": {},
   "outputs": [],
   "source": [
    "%matplotlib widget"
   ]
  },
  {
   "cell_type": "markdown",
   "metadata": {},
   "source": [
    "---\n",
    "## Topography\n",
    "\n",
    "Load DEM for whole of NZ and clip to region"
   ]
  },
  {
   "cell_type": "code",
   "execution_count": 2,
   "metadata": {},
   "outputs": [
    {
     "data": {
      "application/vnd.jupyter.widget-view+json": {
       "model_id": "96744ccd29bd4e81af10318523077e3f",
       "version_major": 2,
       "version_minor": 0
      },
      "text/plain": [
       "Canvas(toolbar=Toolbar(toolitems=[('Home', 'Reset original view', 'home', 'home'), ('Back', 'Back to previous …"
      ]
     },
     "metadata": {},
     "output_type": "display_data"
    },
    {
     "data": {
      "text/plain": [
       "<matplotlib.image.AxesImage at 0x7f3eec31f520>"
      ]
     },
     "execution_count": 2,
     "metadata": {},
     "output_type": "execute_result"
    }
   ],
   "source": [
    "import rasterio\n",
    "import matplotlib.pyplot as plt\n",
    "\n",
    "dem = rasterio.open(\"data/nztm.tif\")  # Need to copy this from /Volumes/GeoPhysics_09/users-data/chambeca\n",
    "fig, ax = plt.subplots()\n",
    "ax.imshow(dem.read()[0], cmap=\"Greys\", vmin=-100)"
   ]
  },
  {
   "cell_type": "markdown",
   "metadata": {},
   "source": [
    "We need to define the region we want to clip to and that region needs to be defined in a way that `rasterio` understands - e.g. it needs to be in a real co-ordinate system.  The way to do this is to define a `Shapely` polygon. [Shapely](https://shapely.readthedocs.io/en/stable/index.html) is a really powerful library for working with shapes - if you ever need to work out whether one thing is in another thing, or shear an arbitrary object (maybe a clast?) and work out where the points of that shape would end up, Shapely will help.\n",
    "\n",
    "As an aside, I will define a rectanglular polygon, but we could define any shape and we could mask a grid to that shape - you could also use a shape-file and clip to that."
   ]
  },
  {
   "cell_type": "code",
   "execution_count": 3,
   "metadata": {},
   "outputs": [
    {
     "name": "stdout",
     "output_type": "stream",
     "text": [
      "POLYGON ((1666254.326417144 5349914.263328397, 1823616.372882802 5346696.852426703, 1828113.381794665 5491038.614971211, 1667585.694441289 5494237.219997164, 1666254.326417144 5349914.263328397))\n"
     ]
    },
    {
     "name": "stderr",
     "output_type": "stream",
     "text": [
      "/home/chambeca/miniconda3/envs/eqcorrscan/lib/python3.8/site-packages/pyproj/crs/crs.py:280: FutureWarning: '+init=<authority>:<code>' syntax is deprecated. '<authority>:<code>' is the preferred initialization method. When making the change, be mindful of axis order changes: https://pyproj4.github.io/pyproj/stable/gotchas.html#axis-order-changes-in-proj-6\n",
      "  projstring = _prepare_from_string(projparams)\n"
     ]
    }
   ],
   "source": [
    "from shapely.geometry import Polygon\n",
    "from shapely.ops import transform\n",
    "import pyproj\n",
    "\n",
    "min_longitude, max_longitude, min_latitude, max_latitude = 173.8, 175.7, -42.0, -40.7\n",
    "\n",
    "geom = Polygon([\n",
    "    (min_longitude, min_latitude), \n",
    "    (max_longitude, min_latitude),\n",
    "    (max_longitude, max_latitude), \n",
    "    (min_longitude, max_latitude), \n",
    "    (min_longitude, min_latitude)])\n",
    "\n",
    "transformer = pyproj.Transformer.from_proj(\n",
    "    proj_from=pyproj.Proj(\"epsg:4326\"), \n",
    "    proj_to=dem.crs.to_proj4(),\n",
    "    always_xy=True)  # Set to give in longitude, latitude as above\n",
    "\n",
    "nztm_geom = transform(transformer.transform, geom)\n",
    "print(nztm_geom)"
   ]
  },
  {
   "cell_type": "code",
   "execution_count": null,
   "metadata": {},
   "outputs": [],
   "source": []
  },
  {
   "cell_type": "code",
   "execution_count": 4,
   "metadata": {},
   "outputs": [],
   "source": [
    "from rasterio.mask import mask\n",
    "\n",
    "cliped_dem, clip_transform = mask(dem, [nztm_geom], crop=True)\n",
    "meta_data = dem.meta\n",
    "\n",
    "meta_data.update({\"driver\": \"GTiff\",\n",
    "                  \"height\": cliped_dem.shape[1],\n",
    "                  \"width\": cliped_dem.shape[2],\n",
    "                  \"transform\": clip_transform})\n",
    "\n",
    "with rasterio.open(\"data/cliped_dem.tif\", \"w\", **meta_data) as dest:\n",
    "    dest.write(cliped_dem)"
   ]
  },
  {
   "cell_type": "code",
   "execution_count": 5,
   "metadata": {},
   "outputs": [
    {
     "name": "stdout",
     "output_type": "stream",
     "text": [
      "<open DatasetReader name='data/cliped_dem.tif' mode='r'>\n"
     ]
    },
    {
     "data": {
      "application/vnd.jupyter.widget-view+json": {
       "model_id": "b8a1f8848b4e4cc6a0876bfbcdec26cb",
       "version_major": 2,
       "version_minor": 0
      },
      "text/plain": [
       "Canvas(toolbar=Toolbar(toolitems=[('Home', 'Reset original view', 'home', 'home'), ('Back', 'Back to previous …"
      ]
     },
     "metadata": {},
     "output_type": "display_data"
    },
    {
     "data": {
      "text/plain": [
       "<matplotlib.image.AxesImage at 0x7f3ebc865430>"
      ]
     },
     "execution_count": 5,
     "metadata": {},
     "output_type": "execute_result"
    }
   ],
   "source": [
    "cliped_dem = rasterio.open(\"data/cliped_dem.tif\")\n",
    "print(cliped_dem)\n",
    "\n",
    "fig, ax = plt.subplots()\n",
    "ax.imshow(cliped_dem.read()[0], cmap=\"Greys\", vmin=-20)"
   ]
  },
  {
   "cell_type": "code",
   "execution_count": 8,
   "metadata": {},
   "outputs": [
    {
     "data": {
      "application/vnd.jupyter.widget-view+json": {
       "model_id": "0241dc0e10344af6b8fcf445e6599f29",
       "version_major": 2,
       "version_minor": 0
      },
      "text/plain": [
       "Canvas(toolbar=Toolbar(toolitems=[('Home', 'Reset original view', 'home', 'home'), ('Back', 'Back to previous …"
      ]
     },
     "metadata": {},
     "output_type": "display_data"
    },
    {
     "data": {
      "text/plain": [
       "Text(0.5, 1.0, '')"
      ]
     },
     "execution_count": 8,
     "metadata": {},
     "output_type": "execute_result"
    }
   ],
   "source": [
    "import cartopy.crs as ccrs\n",
    "import xarray as xr\n",
    "import numpy as np\n",
    "from rasterio.warp import transform\n",
    "import cartopy.feature as cfeature\n",
    "\n",
    "proj = ccrs.AlbersEqualArea(\n",
    "    central_latitude=-41.7, \n",
    "    central_longitude=174.7, \n",
    "    standard_parallels=[-40, -42])\n",
    "\n",
    "fig = plt.figure()\n",
    "ax = fig.add_subplot(projection=proj)\n",
    "ax.set_extent((173.8, 175.7, -42.0, -40.7), crs=ccrs.PlateCarree())\n",
    "\n",
    "\n",
    "dem = xr.open_rasterio(\"data/cliped_dem.tif\")\n",
    "ny, nx = len(dem['y']), len(dem['x'])\n",
    "x, y = np.meshgrid(dem['x'], dem['y'])\n",
    "lon, lat = transform(dem.crs, {'init': 'EPSG:4326'},\n",
    "    x.flatten(), y.flatten())\n",
    "lon = np.asarray(lon).reshape((ny, nx))\n",
    "lat = np.asarray(lat).reshape((ny, nx))\n",
    "dem.coords['lon'] = (('y', 'x'), lon)\n",
    "dem.coords['lat'] = (('y', 'x'), lat)\n",
    "\n",
    "# greyscale = dem.clip(min=-10).mean(dim='band')\n",
    "greyscale = dem.clip(min=0)\n",
    "greyscale.plot(ax=ax, x='lon', y='lat', transform=ccrs.PlateCarree(),\n",
    "               cmap='Greys', add_colorbar=False)\n",
    "coast = cfeature.GSHHSFeature(\n",
    "    scale=\"h\", levels=[1], edgecolor=\"black\")\n",
    "ax.add_feature(coast)\n",
    "\n",
    "# ocean = cfeature.NaturalEarthFeature(cfeature.OCEAN.category,\n",
    "#                                      cfeature.OCEAN.name, \"10m\",\n",
    "#                                      edgecolor='face',\n",
    "#                                      facecolor='none')\n",
    "# ax.add_feature(ocean, facecolor=\"white\")\n",
    "\n",
    "ax.gridlines(\n",
    "    draw_labels=True, \n",
    "    xlocs=[174, 174.5, 175, 175.5], \n",
    "    ylocs=[-42, -41.5, -41])\n",
    "ax.set_title(\"\")"
   ]
  },
  {
   "cell_type": "markdown",
   "metadata": {},
   "source": [
    "---\n",
    "## Beyond Cartopy\n",
    "\n",
    "Cartopy and friends are pretty cool, but not this isn't by any means the only way to plot geospatial data. Below are a list of other projects you might want to check out:\n",
    "\n",
    "- [GMT](https://www.generic-mapping-tools.org/) remains the standard mapping interface for most geophysics and geology publications, and makes really pretty plots. [pyGMT](https://www.pygmt.org/latest/) (GMT for Python) is coming, but developing the interfaces takes quite a while - for most of us writing code isn't our main job, so developing has to fit around the other things that we are paid to do (teach, do research, write proposals, moan about management etc.)\n",
    "- [bokeh](https://bokeh.org/) is pretty cool for creating interactive plots, including [maps](https://docs.bokeh.org/en/latest/docs/user_guide/geo.html) - CJC uses this quite a bit for interogating data.\n",
    "- [follium](https://github.com/python-visualization/folium) looks nice for making interactive mapping plots - possibly better than bokeh because it is more focused on mapping.\n",
    "\n",
    "That is all for now - hopefully that has given you some idea of how you can make some fairly nice plots without too much effort.  A key idea with these notebooks is for you to **borrow some code** from them so that you do not have to re-write everything yourself."
   ]
  },
  {
   "cell_type": "code",
   "execution_count": null,
   "metadata": {},
   "outputs": [],
   "source": []
  },
  {
   "cell_type": "code",
   "execution_count": null,
   "metadata": {},
   "outputs": [],
   "source": []
  }
 ],
 "metadata": {
  "kernelspec": {
   "display_name": "Python 3",
   "language": "python",
   "name": "python3"
  },
  "language_info": {
   "codemirror_mode": {
    "name": "ipython",
    "version": 3
   },
   "file_extension": ".py",
   "mimetype": "text/x-python",
   "name": "python",
   "nbconvert_exporter": "python",
   "pygments_lexer": "ipython3",
   "version": "3.8.3"
  }
 },
 "nbformat": 4,
 "nbformat_minor": 4
}
