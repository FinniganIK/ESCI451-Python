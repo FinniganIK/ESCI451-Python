{
 "cells": [
  {
   "cell_type": "markdown",
   "metadata": {},
   "source": [
    "# Introduction to Python for Earth Scientists\n",
    "\n",
    "These notebooks have been developed by Calum Chamberlain, Finnigan Illsley-Kemp and John Townend at [Victoria University of Wellington---Te Herenga Waka](https://www.wgtn.ac.nz) for use by students entering the postgraduate programme in Earth Science.\n",
    "\n",
    "We presume very little background in command-line or code-based computing, and have compiled this material with an emphasis on general tasks that a grad student might encounter on a daily basis. \n",
    "\n",
    "| Notebook | Contents | Data |\n",
    "| --- | --- | --- |\n",
    "| [1A](ESCI451_Module_1A.ipynb) | Introduction to programming, Python, and Jupyter notebooks | - |\n",
    "| [1B](ESCI451_Module_1B.ipynb) | Basic data types and variables, getting data, and plotting with Matplotlib | Geodetic positions |\n",
    "| [2A](ESCI451_Module_2A.ipynb) | More complex plotting, introduction to Numpy | Geodetic positions; DFDP-2B temperatures |\n",
    "| [2B](ESCI451_Module_2B.ipynb) | Using Pandas to load, peruse and plot data | Earthquake catalogue  |\n",
    "| [3A](ESCI451_Module_3A.ipynb) | Working with Pandas dataframes | Geochemical data set; earthquake catalogue |\n",
    "| [3B](ESCI451_Module_3B.ipynb) | Simple time series analysis using Pandas | TBD |\n",
    "| [4A](ESCI451_Module_4A.ipynb) | Making maps with Cartopy | Earthquake catalogue |\n",
    "| **[4B](ESCI451_Module_4B.ipynb)** | **Working with gridded data** | **DEMs and Ashfall data** |\n",
    "\n",
    "The content may change in response to students' questions or current events. Each of the four modules has been designed to take about three hours, with a short break between each of the two parts."
   ]
  },
  {
   "cell_type": "markdown",
   "metadata": {},
   "source": [
    "# Mapping part 2: working with gridded data\n",
    "\n",
    "In this notebook we will extend our mapping abilities by plotting some cool data! We are going to do quite a lot of work with gridded data in this notebook, so to start us off we will try plotting a DEM (Digital Elevation Model).\n",
    "\n",
    "By the end of this notebook you should know how to contour data on maps, and add vectors. We will demonstrate this by making an isopach map and thinking about how wind-direction affects ejecta distribution."
   ]
  },
  {
   "cell_type": "code",
   "execution_count": 1,
   "metadata": {},
   "outputs": [],
   "source": [
    "%matplotlib widget"
   ]
  },
  {
   "cell_type": "markdown",
   "metadata": {},
   "source": [
    "---\n",
    "## Topography\n",
    "\n",
    "A common task when working with gridded data is clipping that grid to the region that you are interested in. The main motivation for doing this (rather than working with the whole grid) is to save memory.  Large grids can be very expensive to maintain in memory and even more expensive to plot.\n",
    "\n",
    "We are going to start by clipping a NZ-wide 80m resolution DEM to the region that you are interested in.  The DEM we will use was downloaded from [koordinates](https://koordinates.com/layer/1418-nz-80m-digital-elevation-model/) and is distributed under a creative commons license (which is also in the data folder). Other DEMs are available - [LINZ has an 8m resolution DEM](https://data.linz.govt.nz/layer/51768-nz-8m-digital-elevation-model-2012/), but it is 17GB...\n",
    "\n",
    "### Reading the GeoTIFF\n",
    "\n",
    "The first thing we need to do is load the DEM.  We can also make a quite plot to check that it contains what we expect. The DEM we have is in geotiff format, which is essentially a geo-referenced image format, which is quite common - image files often have great compression, making them useful for sharing gridded data."
   ]
  },
  {
   "cell_type": "code",
   "execution_count": 2,
   "metadata": {},
   "outputs": [
    {
     "data": {
      "application/vnd.jupyter.widget-view+json": {
       "model_id": "9f29d9abe60043119268b4009c751614",
       "version_major": 2,
       "version_minor": 0
      },
      "text/plain": [
       "Canvas(toolbar=Toolbar(toolitems=[('Home', 'Reset original view', 'home', 'home'), ('Back', 'Back to previous …"
      ]
     },
     "metadata": {},
     "output_type": "display_data"
    }
   ],
   "source": [
    "import rasterio\n",
    "import matplotlib.pyplot as plt\n",
    "\n",
    "with rasterio.open(\"data/nztm.tif\") as f:\n",
    "    dem = f.read(masked=True)\n",
    "\n",
    "fig, ax = plt.subplots()\n",
    "\n",
    "# The actual topography in this case is in the zeroth element - tiff's \n",
    "# can have multiple dimensions, this one just has 1.\n",
    "_ = ax.imshow(dem[0], cmap=\"Greys\")"
   ]
  },
  {
   "cell_type": "markdown",
   "metadata": {},
   "source": [
    "### Clipping to a region\n",
    "\n",
    "Hopefully you got a plot that looked somewhat like a washed out version of NZ, but it probably took a while to show up! That is because the grid is 19,712 by 13,261 (or 261,400,832) points... Lets make that a bit smaller for our region.\n",
    "\n",
    "*As a brief aside, if you were plotting the dem for the whole of NZ you probably don't need an 80m resolution and you could downsample the grid using standard numpy slicing.*\n",
    "\n",
    "We need to define the region we want to clip to and that region needs to be defined in a way that `rasterio` understands - e.g. it needs to be in a real co-ordinate system.  The way to do this is to define a `Shapely` polygon. [Shapely](https://shapely.readthedocs.io/en/stable/index.html) is a really powerful library for working with shapes - if you ever need to work out whether one thing is in another thing, or shear an arbitrary object (maybe a clast?) and work out where the points of that shape would end up, Shapely will help.\n",
    "\n",
    "I will define a rectanglular polygon, but we could define any shape and we could mask a grid to that shape - you could also use a shape-file and clip to that."
   ]
  },
  {
   "cell_type": "code",
   "execution_count": 3,
   "metadata": {},
   "outputs": [
    {
     "name": "stdout",
     "output_type": "stream",
     "text": [
      "POLYGON ((1666254.326417144 5349914.263328397, 1823616.372882802 5346696.852426703, 1828113.381794665 5491038.614971211, 1667585.694441289 5494237.219997164, 1666254.326417144 5349914.263328397))\n"
     ]
    }
   ],
   "source": [
    "from shapely.geometry import Polygon\n",
    "from shapely.ops import transform\n",
    "import pyproj\n",
    "\n",
    "# Set the bounds\n",
    "min_longitude, max_longitude, min_latitude, max_latitude = 173.8, 175.7, -42.0, -40.7\n",
    "\n",
    "# Make the Polygon\n",
    "geom = Polygon([\n",
    "    (min_longitude, min_latitude), \n",
    "    (max_longitude, min_latitude),\n",
    "    (max_longitude, max_latitude), \n",
    "    (min_longitude, max_latitude), \n",
    "    (min_longitude, min_latitude)])\n",
    "\n",
    "# Get the co-ordinate system of the grid\n",
    "with rasterio.open(\"data/nztm.tif\") as f:\n",
    "    grid_proj = f\"epsg:{f.crs.to_epsg()}\"\n",
    "\n",
    "# Define a transformer\n",
    "transformer = pyproj.Transformer.from_proj(\n",
    "    proj_from=pyproj.Proj(\"epsg:4326\"),   # From WGS84 (lat/lon)\n",
    "    proj_to=grid_proj,           # To the projection of our grid.\n",
    "    always_xy=True)  # Set to give in longitude, latitude as above\n",
    "\n",
    "nztm_geom = transform(transformer.transform, geom)\n",
    "print(nztm_geom)"
   ]
  },
  {
   "cell_type": "markdown",
   "metadata": {},
   "source": [
    "Now that we have a shape in the correct co-ordinate system we can use the `mask` module of `rasterio` to mask out the regions we want to exclude."
   ]
  },
  {
   "cell_type": "code",
   "execution_count": 4,
   "metadata": {},
   "outputs": [
    {
     "name": "stdout",
     "output_type": "stream",
     "text": [
      "[[[-32768 -32768 -32768 ... -32768 -32768 -32768]\n",
      "  [-32768 -32768 -32768 ... -32768 -32768 -32768]\n",
      "  [-32768 -32768 -32768 ... -32768 -32768 -32768]\n",
      "  ...\n",
      "  [-32768 -32768 -32768 ... -32768 -32768 -32768]\n",
      "  [-32768 -32768 -32768 ... -32768 -32768 -32768]\n",
      "  [-32768 -32768 -32768 ... -32768 -32768 -32768]]]\n"
     ]
    },
    {
     "data": {
      "application/vnd.jupyter.widget-view+json": {
       "model_id": "2e421742ebd24a5dbda4f1aea2c4125b",
       "version_major": 2,
       "version_minor": 0
      },
      "text/plain": [
       "Canvas(toolbar=Toolbar(toolitems=[('Home', 'Reset original view', 'home', 'home'), ('Back', 'Back to previous …"
      ]
     },
     "metadata": {},
     "output_type": "display_data"
    }
   ],
   "source": [
    "from rasterio.mask import mask\n",
    "\n",
    "with rasterio.open(\"data/nztm.tif\") as f:\n",
    "    clipped_dem, clip_transform = mask(f, [nztm_geom], crop=True)\n",
    "    # Get and maintain the meta-data - we will need it for writing back out\n",
    "    meta_data = f.meta\n",
    "    print(clipped_dem)\n",
    "    \n",
    "fig, ax = plt.subplots()\n",
    "_ = ax.imshow(clipped_dem[0], cmap=\"Greys\")"
   ]
  },
  {
   "cell_type": "markdown",
   "metadata": {},
   "source": [
    "Okay, so that clipped it, but the plot looks rubbish. This is an artefact of all the -32768 values.  These values (in this file) are used to define regions with no-data.  Numpy has a cool [MaskedArray](https://numpy.org/doc/stable/reference/maskedarray.generic.html#constructing-masked-arrays) designed for handling this case (I think it is cool anyway!). Lets make a masked array and re-plot to check that we still have useful data.\n",
    "\n",
    "The value reserved for no data (NaN) is stored in the metadata by the key \"nodata\""
   ]
  },
  {
   "cell_type": "code",
   "execution_count": 5,
   "metadata": {},
   "outputs": [
    {
     "data": {
      "application/vnd.jupyter.widget-view+json": {
       "model_id": "d2dc9af1f63144299f74164b3e2d9a66",
       "version_major": 2,
       "version_minor": 0
      },
      "text/plain": [
       "Canvas(toolbar=Toolbar(toolitems=[('Home', 'Reset original view', 'home', 'home'), ('Back', 'Back to previous …"
      ]
     },
     "metadata": {},
     "output_type": "display_data"
    }
   ],
   "source": [
    "import numpy as np\n",
    "\n",
    "mask = clipped_dem == meta_data[\"nodata\"]\n",
    "masked_dem = np.ma.MaskedArray(clipped_dem, mask)\n",
    "\n",
    "fig, ax = plt.subplots()\n",
    "_ = ax.imshow(masked_dem[0], cmap=\"Greys\")"
   ]
  },
  {
   "cell_type": "markdown",
   "metadata": {},
   "source": [
    "Winner! We still have topography!  Now we should write out our clipped grid so that we can stop worrying about working with such large datasets.  \n",
    "\n",
    "To write back out to geotiff we need to have the dem and the metadata.  The metadata for our clipped grid is the same as our original file, but the origin of the grid has changed. The next cell updates the metadata so that the height and width are the actual size of the DEM and the transform is correct (which defines the origin)"
   ]
  },
  {
   "cell_type": "code",
   "execution_count": 6,
   "metadata": {},
   "outputs": [],
   "source": [
    "meta_data.update({\"driver\": \"GTiff\",\n",
    "                  \"height\": clipped_dem.shape[1],\n",
    "                  \"width\": clipped_dem.shape[2],\n",
    "                  \"transform\": clip_transform})\n",
    "\n",
    "with rasterio.open(\"data/clipped_dem.tif\", \"w\", **meta_data) as dest:\n",
    "    dest.write(clipped_dem)"
   ]
  },
  {
   "cell_type": "markdown",
   "metadata": {},
   "source": [
    "Quick check to make sure we can read that file..."
   ]
  },
  {
   "cell_type": "code",
   "execution_count": 7,
   "metadata": {},
   "outputs": [
    {
     "name": "stdout",
     "output_type": "stream",
     "text": [
      "<open DatasetReader name='data/clipped_dem.tif' mode='r'>\n"
     ]
    },
    {
     "data": {
      "application/vnd.jupyter.widget-view+json": {
       "model_id": "91c88a094be347e19c482f9df87a1809",
       "version_major": 2,
       "version_minor": 0
      },
      "text/plain": [
       "Canvas(toolbar=Toolbar(toolitems=[('Home', 'Reset original view', 'home', 'home'), ('Back', 'Back to previous …"
      ]
     },
     "metadata": {},
     "output_type": "display_data"
    }
   ],
   "source": [
    "clipped_dem = rasterio.open(\"data/clipped_dem.tif\")\n",
    "print(clipped_dem)\n",
    "\n",
    "fig, ax = plt.subplots()\n",
    "_ = ax.imshow(clipped_dem.read(masked=True)[0], cmap=\"Greys\")"
   ]
  },
  {
   "cell_type": "markdown",
   "metadata": {},
   "source": [
    "Bonza. I don't know about you, but that seemed tedious. Lets write a quick function so that you can just call the function with a specific lat/lon and write a clipped DEM.  There won't be any new code here, it should just be taking the above and putting into something more useful!"
   ]
  },
  {
   "cell_type": "code",
   "execution_count": 8,
   "metadata": {},
   "outputs": [],
   "source": [
    "import rasterio\n",
    "import pyproj\n",
    "\n",
    "from rasterio.mask import mask\n",
    "\n",
    "\n",
    "def clip_dem(\n",
    "    min_longitude: float, \n",
    "    max_longitude: float, \n",
    "    min_latitude: float, \n",
    "    max_latitude: float,\n",
    "    full_dem_filename: str = \"data/nztm.tif\",\n",
    "    clipped_dem_filename: str = \"data/clipped_dem.tif\",\n",
    "):\n",
    "    import os\n",
    "    import warnings\n",
    "    from shapely.geometry import Polygon\n",
    "    from shapely.ops import transform\n",
    "    # Make the Polygon\n",
    "    geom = Polygon([\n",
    "        (min_longitude, min_latitude), \n",
    "        (max_longitude, min_latitude),\n",
    "        (max_longitude, max_latitude), \n",
    "        (min_longitude, max_latitude), \n",
    "        (min_longitude, min_latitude)])\n",
    "\n",
    "    # Get the co-ordinate system of the grid\n",
    "    with rasterio.open(\"data/nztm.tif\") as f:\n",
    "        grid_proj = f\"epsg:{f.crs.to_epsg()}\"\n",
    "\n",
    "    # Define a transformer\n",
    "    transformer = pyproj.Transformer.from_proj(\n",
    "        proj_from=pyproj.Proj(\"epsg:4326\"),   # From WGS84 (lat/lon)\n",
    "        proj_to=grid_proj,           # To the projection of our grid.\n",
    "        always_xy=True)  # Set to give in longitude, latitude as above\n",
    "\n",
    "    nztm_geom = transform(transformer.transform, geom)\n",
    "    \n",
    "    # Clip\n",
    "    with rasterio.open(full_dem_filename) as f:\n",
    "        clipped_dem, clip_transform = mask(f, [nztm_geom], crop=True)\n",
    "        # Get and maintain the meta-data - we will need it for writing back out\n",
    "        meta_data = f.meta\n",
    "    \n",
    "    meta_data.update({\"driver\": \"GTiff\",\n",
    "                      \"height\": clipped_dem.shape[1],\n",
    "                      \"width\": clipped_dem.shape[2],\n",
    "                      \"transform\": clip_transform})\n",
    "    \n",
    "    # Lets be nice and warn that we are overwriting a file\n",
    "    if os.path.isfile(clipped_dem_filename):\n",
    "        warnings.warn(f\"Overwriting {clipped_dem_filename} - hope you didn't want that!\")\n",
    "        os.remove(clipped_dem_filename)  # Required on windows\n",
    "\n",
    "    with rasterio.open(clipped_dem_filename, \"w\", **meta_data) as dest:\n",
    "        dest.write(clipped_dem)\n",
    "    \n",
    "    return"
   ]
  },
  {
   "cell_type": "markdown",
   "metadata": {},
   "source": [
    "Great, now lets give that a go for another region to check that it works."
   ]
  },
  {
   "cell_type": "code",
   "execution_count": 9,
   "metadata": {},
   "outputs": [
    {
     "name": "stderr",
     "output_type": "stream",
     "text": [
      "/home/calumch/miniconda3/envs/esci451/lib/python3.7/site-packages/ipykernel_launcher.py:52: UserWarning: Overwriting data/clipped_dem.tif - hope you didn't want that!\n"
     ]
    },
    {
     "data": {
      "application/vnd.jupyter.widget-view+json": {
       "model_id": "81d14495605847c193facb276438bf55",
       "version_major": 2,
       "version_minor": 0
      },
      "text/plain": [
       "Canvas(toolbar=Toolbar(toolitems=[('Home', 'Reset original view', 'home', 'home'), ('Back', 'Back to previous …"
      ]
     },
     "metadata": {},
     "output_type": "display_data"
    }
   ],
   "source": [
    "clip_dem(170.0, 173.0, -44.0, -42.0)\n",
    "\n",
    "with rasterio.open(\"data/clipped_dem.tif\") as f:\n",
    "    clipped_dem = f.read(masked=True)\n",
    "\n",
    "fig, ax = plt.subplots()\n",
    "_ = ax.imshow(clipped_dem[0], cmap=\"Greys\")"
   ]
  },
  {
   "cell_type": "markdown",
   "metadata": {},
   "source": [
    "Now it is your turn - make a clipped DEM for Fiordland (or anywhere else you care about) and plot it, just like I did above."
   ]
  },
  {
   "cell_type": "code",
   "execution_count": 10,
   "metadata": {},
   "outputs": [],
   "source": [
    "# Your map here"
   ]
  },
  {
   "cell_type": "markdown",
   "metadata": {},
   "source": [
    "---\n",
    "## Georeferencing the DEM\n",
    "\n",
    "In all the figures so far we haven't used any real-earth co-ordinate system, which means we can't relate our topography to anything else.  This is where cartopy comes in handy.\n",
    "\n",
    "To get the DEM to play nicely with cartopy we need to define the grid it is on. The TIFF only tells us the origin and the spacing. From that we need to define a grid in x and y and/or lat/lon.  To do this we are going to make use of the [Xarray](http://xarray.pydata.org/en/stable/) project - this is a great package for dealing with large n-dimensional data. It has a numpy-like interface, but works with much larger data (e.g. data that are larger than memory). We will barely touch its functionality, but it can be really useful for large datasets and/or distributed computing (using multiple computers, or a cluster computer to split up the workload).\n",
    "\n",
    "To start off we will define the region that we want to work in. I'm going to shift to the Southern Alps because I think they are cool."
   ]
  },
  {
   "cell_type": "code",
   "execution_count": 11,
   "metadata": {},
   "outputs": [],
   "source": [
    "# We are going to need some extra packages!\n",
    "\n",
    "import cartopy.crs as ccrs\n",
    "import xarray as xr\n",
    "import numpy as np\n",
    "from rasterio.warp import transform\n",
    "import cartopy.feature as cfeature\n",
    "\n",
    "min_longitude, max_longitude, min_latitude, max_latitude = 170.0, 173.0, -44.0, -42.0"
   ]
  },
  {
   "cell_type": "markdown",
   "metadata": {},
   "source": [
    "Then I'm going to set the projection for the map. In this case I'm going to use an Albers Equal Area projection. Remember from last time that we need to set some parameters for this projection, and we can do that dynamically based on the region that we want to plot."
   ]
  },
  {
   "cell_type": "code",
   "execution_count": 12,
   "metadata": {},
   "outputs": [],
   "source": [
    "map_proj = ccrs.AlbersEqualArea(\n",
    "    central_latitude=(max_latitude + min_latitude) / 2, \n",
    "    central_longitude=(max_longitude + min_longitude) / 2, \n",
    "    standard_parallels=[max_latitude, min_latitude])"
   ]
  },
  {
   "cell_type": "markdown",
   "metadata": {},
   "source": [
    "Then we need to make the clipped DEM for our region. Because the projections between the DEM (NZTM) and our map don't match up I'm going to make the clipped DEM slightly larger than the plotted region to ensure we get topography up to the edges (you can play around with this to see the effect by changing the bounds if you want)."
   ]
  },
  {
   "cell_type": "code",
   "execution_count": 13,
   "metadata": {},
   "outputs": [
    {
     "name": "stderr",
     "output_type": "stream",
     "text": [
      "/home/calumch/miniconda3/envs/esci451/lib/python3.7/site-packages/ipykernel_launcher.py:52: UserWarning: Overwriting data/clipped_dem.tif - hope you didn't want that!\n"
     ]
    }
   ],
   "source": [
    "clip_dem(\n",
    "    min_longitude=min_longitude - .2,\n",
    "    max_longitude=max_longitude + .2,\n",
    "    min_latitude=min_latitude - .2,\n",
    "    max_latitude=max_latitude + .2)"
   ]
  },
  {
   "cell_type": "markdown",
   "metadata": {},
   "source": [
    "Now we can open the DEM with xarray and make the X and Y (longitude and latitude) grid that our DEM sits on:"
   ]
  },
  {
   "cell_type": "code",
   "execution_count": 14,
   "metadata": {},
   "outputs": [],
   "source": [
    "# Open the clipped DEM file\n",
    "dem = xr.open_rasterio(\"data/clipped_dem.tif\")\n",
    "\n",
    "# Work out the size of the DEM\n",
    "ny, nx = len(dem['y']), len(dem['x'])\n",
    "\n",
    "# Make a grid of nx, ny points\n",
    "x, y = np.meshgrid(dem['x'], dem['y'])\n",
    "\n",
    "# Make a transformer to go from the x, y co-ordinate system to latitude and longitude\n",
    "lon, lat = transform(dem.crs, {'init': 'EPSG:4326'},\n",
    "    x.flatten(), y.flatten())\n",
    "\n",
    "# Reshape the arrays back into the grid (this gets lost while transforming)\n",
    "lon = np.asarray(lon).reshape((ny, nx))\n",
    "lat = np.asarray(lat).reshape((ny, nx))\n",
    "\n",
    "# Add the longitude and latitude values into the DEM Xarray\n",
    "dem.coords['lon'] = (('y', 'x'), lon)\n",
    "dem.coords['lat'] = (('y', 'x'), lat)"
   ]
  },
  {
   "cell_type": "markdown",
   "metadata": {},
   "source": [
    "Great, that is all the setup done, now we can make plots!"
   ]
  },
  {
   "cell_type": "code",
   "execution_count": 15,
   "metadata": {},
   "outputs": [
    {
     "data": {
      "application/vnd.jupyter.widget-view+json": {
       "model_id": "3e277a6adaab413e95f8c39b4f78c3ab",
       "version_major": 2,
       "version_minor": 0
      },
      "text/plain": [
       "Canvas(toolbar=Toolbar(toolitems=[('Home', 'Reset original view', 'home', 'home'), ('Back', 'Back to previous …"
      ]
     },
     "metadata": {},
     "output_type": "display_data"
    },
    {
     "name": "stderr",
     "output_type": "stream",
     "text": [
      "/home/calumch/miniconda3/envs/esci451/lib/python3.7/site-packages/cartopy/mpl/geoaxes.py:1598: UserWarning: The input coordinates to pcolormesh are interpreted as cell centers, but are not monotonically increasing or decreasing. This may lead to incorrectly calculated cell edges, in which case, please supply explicit cell edges to pcolormesh.\n",
      "  shading=shading)\n"
     ]
    }
   ],
   "source": [
    "fig = plt.figure()\n",
    "ax = fig.add_subplot(projection=map_proj)\n",
    "ax.set_extent(\n",
    "    (min_longitude, max_longitude, min_latitude, max_latitude),\n",
    "    crs=ccrs.PlateCarree())\n",
    "\n",
    "# We want to make sure everything without data is masked\n",
    "dem = dem.where(dem != dem.nodatavals, drop=True)\n",
    "\n",
    "dem.plot(ax=ax, x='lon', y='lat', transform=ccrs.PlateCarree(),\n",
    "               cmap='Greys', add_colorbar=False)\n",
    "coast = cfeature.GSHHSFeature(\n",
    "    scale=\"h\", levels=[1], edgecolor=\"black\")\n",
    "ax.add_feature(coast)\n",
    "\n",
    "ax.gridlines(draw_labels=True)\n",
    "_ = ax.set_title(\"\")"
   ]
  },
  {
   "cell_type": "markdown",
   "metadata": {},
   "source": [
    "Great, now we have a map in real geo-referenced space. Now it is your turn to do some work.\n",
    "\n",
    "Take what we have shown above and write a function that makes a map with topography, gridlines and a coastline with a given bounding box.  Make it return the figure object so that we can add other things to it if we want.  This kind of function could be the basis for all your future maps!"
   ]
  },
  {
   "cell_type": "code",
   "execution_count": 16,
   "metadata": {},
   "outputs": [],
   "source": [
    "# your code here."
   ]
  },
  {
   "cell_type": "markdown",
   "metadata": {},
   "source": [
    "---\n",
    "## Working with other gridded data\n",
    "\n",
    "Now that we can work with topography, how about some cool volcano data?  For this we are going to play around with some model output Simon Barker and colleagues worked up in their paper on [modeling ash dispersal from future eruptions of Taupo supervolcano](https://agupubs.onlinelibrary.wiley.com/doi/full/10.1029/2018GC008152).\n",
    "\n",
    "All the outputs from their models are included in an [online repository](https://www.sciencebase.gov/catalog/item/5cdd9ed7e4b029273746367a), as any good, modern paper should! I have taken the liberty of including one model output in the data directory and we will start by playing with that, but you should explore the data repository and get other model outputs if you want.\n",
    "\n",
    "The output of the model is ash thickness, and is modeled dependent on a few things, including wind direction.\n",
    "\n",
    "To start off we need to read the data.  The data provided is in an Earth referenced ASCII format. Xarray is our friend here again! Yay!"
   ]
  },
  {
   "cell_type": "code",
   "execution_count": 17,
   "metadata": {},
   "outputs": [
    {
     "name": "stdout",
     "output_type": "stream",
     "text": [
      "<xarray.DataArray (band: 1, y: 60, x: 120)>\n",
      "array([[[0., 0., ..., 0., 0.],\n",
      "        [0., 0., ..., 0., 0.],\n",
      "        ...,\n",
      "        [0., 0., ..., 0., 0.],\n",
      "        [0., 0., ..., 0., 0.]]])\n",
      "Coordinates:\n",
      "  * band     (band) int64 1\n",
      "  * y        (y) float64 -32.62 -32.88 -33.12 -33.38 ... -46.88 -47.12 -47.38\n",
      "  * x        (x) float64 160.1 160.4 160.6 160.9 ... 189.1 189.4 189.6 189.9\n",
      "Attributes:\n",
      "    transform:   (0.25, 0.0, 160.0, 0.0, -0.25, -32.5)\n",
      "    res:         (0.25, 0.25)\n",
      "    is_tiled:    0\n",
      "    nodatavals:  (0.0,)\n",
      "    scales:      (1.0,)\n",
      "    offsets:     (0.0,)\n"
     ]
    },
    {
     "data": {
      "application/vnd.jupyter.widget-view+json": {
       "model_id": "841fa61585fe4b2884883ddca40b93ee",
       "version_major": 2,
       "version_minor": 0
      },
      "text/plain": [
       "Canvas(toolbar=Toolbar(toolitems=[('Home', 'Reset original view', 'home', 'home'), ('Back', 'Back to previous …"
      ]
     },
     "metadata": {},
     "output_type": "display_data"
    }
   ],
   "source": [
    "datafile = \"data/DepositFile_ESRI_ASCII.txt\"\n",
    "\n",
    "deposit_model = xr.open_rasterio(datafile)\n",
    "print(deposit_model)\n",
    "fig, ax = plt.subplots()\n",
    "_ = deposit_model.plot(ax=ax)"
   ]
  },
  {
   "cell_type": "markdown",
   "metadata": {},
   "source": [
    "Sweet, that was easy! Lets work up a nicer plot using cartopy again."
   ]
  },
  {
   "cell_type": "code",
   "execution_count": 18,
   "metadata": {},
   "outputs": [
    {
     "data": {
      "application/vnd.jupyter.widget-view+json": {
       "model_id": "d305d9ff60e84f6497d3e6bcffc53f21",
       "version_major": 2,
       "version_minor": 0
      },
      "text/plain": [
       "Canvas(toolbar=Toolbar(toolitems=[('Home', 'Reset original view', 'home', 'home'), ('Back', 'Back to previous …"
      ]
     },
     "metadata": {},
     "output_type": "display_data"
    }
   ],
   "source": [
    "min_longitude, max_longitude, min_latitude, max_latitude = 160, 190, -47, -35\n",
    "\n",
    "map_proj = ccrs.AlbersEqualArea(\n",
    "    central_latitude=(max_latitude + min_latitude) / 2, \n",
    "    central_longitude=(max_longitude + min_longitude) / 2, \n",
    "    standard_parallels=[max_latitude, min_latitude])\n",
    "\n",
    "fig = plt.figure()\n",
    "ax = fig.add_subplot(projection=map_proj)\n",
    "ax.set_extent(\n",
    "    (min_longitude, max_longitude, min_latitude, max_latitude),\n",
    "    crs=ccrs.PlateCarree())\n",
    "\n",
    "deposit_model = deposit_model.where(deposit_model != deposit_model.nodatavals, drop=True)\n",
    "\n",
    "# Note that we can add a colorbar here and control the label and other properties of it using the cbar_kw\n",
    "deposit_model.plot(\n",
    "    ax=ax, x='x', y='y', transform=ccrs.PlateCarree(),\n",
    "    cmap='viridis', add_colorbar=True, \n",
    "    cbar_kwargs={\"label\": \"Thickness (mm)\", \"orientation\": \"horizontal\"})\n",
    "\n",
    "\n",
    "coast = cfeature.GSHHSFeature(\n",
    "    scale=\"h\", levels=[1], edgecolor=\"black\")\n",
    "ax.add_feature(coast)\n",
    "\n",
    "ax.gridlines(draw_labels=True)\n",
    "_ = ax.set_title(\"Deposit Thickness\")"
   ]
  },
  {
   "cell_type": "markdown",
   "metadata": {},
   "source": [
    "If you try changing the projection to `PlateCarree()` you will see some odd and annoying effects - plotting across the dateline is a little tricky and you do have to set the `central_longitude` argument to 180 (the default is 0).\n",
    "\n",
    "That is fairly cool -guess the wind direction during this simulated eruption!\n",
    "\n",
    "Now it is your turn.\n",
    "\n",
    "Go and grab a different simulation (the one above is the first simulation output) from the [data repository](https://www.sciencebase.gov/catalog/item/5cdd9ed7e4b029273746367a) and try plotting it."
   ]
  },
  {
   "cell_type": "code",
   "execution_count": 19,
   "metadata": {},
   "outputs": [],
   "source": [
    "# Your turn!"
   ]
  },
  {
   "cell_type": "markdown",
   "metadata": {},
   "source": [
    "---\n",
    "## Contouring gridded map data\n",
    "\n",
    "Matplotlib has a [contour function](https://matplotlib.org/stable/api/_as_gen/matplotlib.pyplot.contour.html#matplotlib.pyplot.contour) that allows us to fairly simply plot contours around gridded data."
   ]
  },
  {
   "cell_type": "code",
   "execution_count": 20,
   "metadata": {},
   "outputs": [
    {
     "data": {
      "application/vnd.jupyter.widget-view+json": {
       "model_id": "c403a1d9eef441969b094fcb094d31b5",
       "version_major": 2,
       "version_minor": 0
      },
      "text/plain": [
       "Canvas(toolbar=Toolbar(toolitems=[('Home', 'Reset original view', 'home', 'home'), ('Back', 'Back to previous …"
      ]
     },
     "metadata": {},
     "output_type": "display_data"
    }
   ],
   "source": [
    "fig = plt.figure()\n",
    "ax = fig.add_subplot(projection=map_proj)\n",
    "ax.set_extent(\n",
    "    (min_longitude, max_longitude, min_latitude, max_latitude),\n",
    "    crs=ccrs.PlateCarree())\n",
    "\n",
    "ax.contour(deposit_model.x, deposit_model.y, deposit_model[0], transform=ccrs.PlateCarree())\n",
    "\n",
    "coast = cfeature.GSHHSFeature(\n",
    "    scale=\"h\", levels=[1], edgecolor=\"black\")\n",
    "ax.add_feature(coast)\n",
    "\n",
    "ax.gridlines(draw_labels=True)\n",
    "_ = ax.set_title(\"Deposit Thickness\")"
   ]
  },
  {
   "cell_type": "markdown",
   "metadata": {},
   "source": [
    "That is kinda cool, but some labels on those contours would be good!\n",
    "\n",
    "I'm going to zoom in to a smaller region to be able to see the contour labels better, and add contour labels using the [clabel](https://matplotlib.org/stable/api/_as_gen/matplotlib.pyplot.clabel.html) method."
   ]
  },
  {
   "cell_type": "code",
   "execution_count": 21,
   "metadata": {},
   "outputs": [
    {
     "data": {
      "application/vnd.jupyter.widget-view+json": {
       "model_id": "107da0e9b0ba4462b4c1e481e862223c",
       "version_major": 2,
       "version_minor": 0
      },
      "text/plain": [
       "Canvas(toolbar=Toolbar(toolitems=[('Home', 'Reset original view', 'home', 'home'), ('Back', 'Back to previous …"
      ]
     },
     "metadata": {},
     "output_type": "display_data"
    }
   ],
   "source": [
    "fig = plt.figure()\n",
    "ax = fig.add_subplot(projection=map_proj)\n",
    "ax.set_extent(\n",
    "    (174, 185, -42, -36),\n",
    "    crs=ccrs.PlateCarree())\n",
    "\n",
    "contours = ax.contour(deposit_model.x, deposit_model.y, deposit_model[0], transform=ccrs.PlateCarree())\n",
    "ax.clabel(contours, fmt=\"%.1f mm\")  # Define format to 1 decimal place with trailing mm unit.\n",
    "\n",
    "coast = cfeature.GSHHSFeature(\n",
    "    scale=\"h\", levels=[1], edgecolor=\"black\")\n",
    "ax.add_feature(coast)\n",
    "\n",
    "ax.gridlines(draw_labels=True)\n",
    "_ = ax.set_title(\"Deposit Thickness\")"
   ]
  },
  {
   "cell_type": "markdown",
   "metadata": {},
   "source": [
    "That is it for me. Your final task is you chose to accept it is to make a map with topography and contours of deposit thickness for a model run of your choosing. \n",
    "\n",
    "Good luck!"
   ]
  },
  {
   "cell_type": "code",
   "execution_count": 22,
   "metadata": {},
   "outputs": [],
   "source": [
    "# Your code here."
   ]
  },
  {
   "cell_type": "markdown",
   "metadata": {},
   "source": [
    "---\n",
    "## Beyond Cartopy\n",
    "\n",
    "Cartopy and friends are pretty cool, but not this isn't by any means the only way to plot geospatial data. Below are a list of other projects you might want to check out:\n",
    "\n",
    "- [GMT](https://www.generic-mapping-tools.org/) remains the standard mapping interface for most geophysics and geology publications, and makes really pretty plots. [pyGMT](https://www.pygmt.org/latest/) (GMT for Python) is coming, but developing the interfaces takes quite a while - for most of us writing code isn't our main job, so developing has to fit around the other things that we are paid to do (teach, do research, write proposals, moan about management etc.)\n",
    "- [bokeh](https://bokeh.org/) is pretty cool for creating interactive plots, including [maps](https://docs.bokeh.org/en/latest/docs/user_guide/geo.html) - CJC uses this quite a bit for interogating data.\n",
    "- [follium](https://github.com/python-visualization/folium) looks nice for making interactive mapping plots - possibly better than bokeh because it is more focused on mapping.\n",
    "\n",
    "That is all for now - hopefully that has given you some idea of how you can make some fairly nice plots without too much effort.  A key idea with these notebooks is for you to **borrow some code** from them so that you do not have to re-write everything yourself."
   ]
  }
 ],
 "metadata": {
  "kernelspec": {
   "display_name": "Python 3",
   "language": "python",
   "name": "python3"
  },
  "language_info": {
   "codemirror_mode": {
    "name": "ipython",
    "version": 3
   },
   "file_extension": ".py",
   "mimetype": "text/x-python",
   "name": "python",
   "nbconvert_exporter": "python",
   "pygments_lexer": "ipython3",
   "version": "3.7.9"
  }
 },
 "nbformat": 4,
 "nbformat_minor": 4
}
